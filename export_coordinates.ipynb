{
 "cells": [
  {
   "cell_type": "code",
   "execution_count": 5,
   "metadata": {},
   "outputs": [],
   "source": [
    "import os\n",
    "import pandas as pd\n",
    "from xml.dom import minidom\n",
    "\n",
    "folder_path = os.path.abspath('./assets/train_xml')\n",
    "all_files = os.listdir(folder_path)\n",
    "\n",
    "number_id = []\n",
    "for i, name in enumerate(all_files):\n",
    "    test_file_name = name[:-4]\n",
    "    number_id.append(test_file_name)\n",
    "\n",
    "for i in range(len(all_files)):\n",
    "    file_path = os.path.join(folder_path, all_files[i])\n",
    "    xmldoc = minidom.parse(file_path)\n",
    "    itemlist = xmldoc.getElementsByTagName('DL_ZONE')\n",
    "    if len(itemlist) > 0:\n",
    "        items = []\n",
    "        for s in itemlist:\n",
    "            x, y, z, m, n  = s.attributes['gedi_type'].value, s.attributes['col'].value, s.attributes['row'].value, s.attributes['width'].value, s.attributes['height'].value\n",
    "            items.append(str(f'{x} {y} {z} {m} {n}'))\n",
    "        \n",
    "        f = open(number_id[i]+'.txt','w')\n",
    "        for ele in items[2:]:\n",
    "            f.write(ele+'\\n')\n",
    "        f.close()\n",
    "    else:\n",
    "        next"
   ]
  }
 ],
 "metadata": {
  "interpreter": {
   "hash": "444a3aa18ed55b20f13b91a0afe11924d2258aad3c2369f369a6a1fdc1e59258"
  },
  "kernelspec": {
   "display_name": "Python 3.7.9 64-bit ('env': venv)",
   "name": "python3"
  },
  "language_info": {
   "codemirror_mode": {
    "name": "ipython",
    "version": 3
   },
   "file_extension": ".py",
   "mimetype": "text/x-python",
   "name": "python",
   "nbconvert_exporter": "python",
   "pygments_lexer": "ipython3",
   "version": "3.7.9"
  },
  "orig_nbformat": 4
 },
 "nbformat": 4,
 "nbformat_minor": 2
}
