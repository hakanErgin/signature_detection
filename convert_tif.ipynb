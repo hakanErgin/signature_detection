{
 "cells": [
  {
   "cell_type": "code",
   "execution_count": 1,
   "metadata": {},
   "outputs": [],
   "source": [
    "import glob\n",
    "import cv2"
   ]
  },
  {
   "cell_type": "code",
   "execution_count": 2,
   "metadata": {},
   "outputs": [],
   "source": [
    "img_path = \"./assets/train/*.tif\"\n",
    "output = \"./assets/train_jpg/\""
   ]
  },
  {
   "cell_type": "code",
   "execution_count": 3,
   "metadata": {},
   "outputs": [],
   "source": [
    "for file in glob.glob(img_path):\n",
    "    file_name = file[19:-4]\n",
    "    image = cv2.imread(file)\n",
    "    # print(file_name)\n",
    "    cv2.imwrite(output + file_name + \".jpg\", image)\n"
   ]
  }
 ],
 "metadata": {
  "interpreter": {
   "hash": "444a3aa18ed55b20f13b91a0afe11924d2258aad3c2369f369a6a1fdc1e59258"
  },
  "kernelspec": {
   "display_name": "Python 3.7.9 64-bit ('env': venv)",
   "name": "python3"
  },
  "language_info": {
   "codemirror_mode": {
    "name": "ipython",
    "version": 3
   },
   "file_extension": ".py",
   "mimetype": "text/x-python",
   "name": "python",
   "nbconvert_exporter": "python",
   "pygments_lexer": "ipython3",
   "version": "3.7.9"
  },
  "orig_nbformat": 4
 },
 "nbformat": 4,
 "nbformat_minor": 2
}
