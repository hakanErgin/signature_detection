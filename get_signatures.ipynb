{
 "cells": [
  {
   "cell_type": "code",
   "execution_count": 1,
   "metadata": {},
   "outputs": [],
   "source": [
    "import xml.etree.ElementTree as ET\n",
    "import glob\n",
    "import cv2"
   ]
  },
  {
   "cell_type": "code",
   "execution_count": 2,
   "metadata": {},
   "outputs": [],
   "source": [
    "class SignaturesGetter:\n",
    "    signatures = []\n",
    "\n",
    "    def __init__(self):\n",
    "        self.signatures = [self.parse_signatures(file) for file in glob.glob(\"./assets/train_xml/*.xml\") if self.parse_signatures(file) is not None]\n",
    "\n",
    "    def parse_signatures(self, file):\n",
    "        root = ET.parse(file).getroot()\n",
    "        if len(root.findall(\".//*[@gedi_type='DLSignature']\")) > 0:\n",
    "            return {'file_name': file, **root.find(\".//*[@gedi_type='DLSignature']\").attrib}\n",
    "        # else :\n",
    "        #     return 0"
   ]
  },
  {
   "cell_type": "code",
   "execution_count": 3,
   "metadata": {},
   "outputs": [],
   "source": [
    "signatures_from_dataset = SignaturesGetter()\n",
    "# sum(signatures_from_dataset.signatures)\n",
    "signature_coordinates = signatures_from_dataset.signatures"
   ]
  },
  {
   "cell_type": "code",
   "execution_count": 4,
   "metadata": {},
   "outputs": [
    {
     "name": "stdout",
     "output_type": "stream",
     "text": [
      "{'file_name': './assets/train_xml\\\\00060f1db73c837c2b943fec640f920a_1.xml', 'gedi_type': 'DLSignature', 'id': 'None', 'col': '610', 'row': '847', 'width': '269', 'height': '76', 'Overlapped': 'Yes', 'AuthorID': 'Schultz, F.J.'}\n"
     ]
    }
   ],
   "source": [
    "test_coordinates = signature_coordinates[0]\n",
    "print(test_coordinates)"
   ]
  },
  {
   "cell_type": "code",
   "execution_count": 5,
   "metadata": {},
   "outputs": [],
   "source": [
    "def find_signatures(coordinates):\n",
    "    file_name = coordinates['file_name'][19:-4]\n",
    "    file = \"./assets/train/\" + str(file_name) + \".tif\"\n",
    "    print(file, type(file))\n",
    "    img = cv2.imread(file)\n",
    "    cv2.imshow('', img)\n",
    "    cv2.waitKey()\n",
    "    cv2.destroyAllWindows()\n",
    "\n"
   ]
  },
  {
   "cell_type": "code",
   "execution_count": 6,
   "metadata": {},
   "outputs": [
    {
     "name": "stdout",
     "output_type": "stream",
     "text": [
      "./assets/train/00060f1db73c837c2b943fec640f920a_1.tif <class 'str'>\n"
     ]
    }
   ],
   "source": [
    "find_signatures(test_coordinates)"
   ]
  }
 ],
 "metadata": {
  "interpreter": {
   "hash": "444a3aa18ed55b20f13b91a0afe11924d2258aad3c2369f369a6a1fdc1e59258"
  },
  "kernelspec": {
   "display_name": "Python 3.7.9 64-bit ('env': venv)",
   "name": "python3"
  },
  "language_info": {
   "codemirror_mode": {
    "name": "ipython",
    "version": 3
   },
   "file_extension": ".py",
   "mimetype": "text/x-python",
   "name": "python",
   "nbconvert_exporter": "python",
   "pygments_lexer": "ipython3",
   "version": "3.7.9"
  },
  "orig_nbformat": 4
 },
 "nbformat": 4,
 "nbformat_minor": 2
}
