{
 "cells": [
  {
   "cell_type": "code",
   "execution_count": 15,
   "metadata": {},
   "outputs": [],
   "source": [
    "import xml.etree.ElementTree as ET\n",
    "import glob\n",
    "import cv2"
   ]
  },
  {
   "cell_type": "code",
   "execution_count": 16,
   "metadata": {},
   "outputs": [],
   "source": [
    "class SignaturesGetter:\n",
    "    signatures = []\n",
    "\n",
    "    def __init__(self):\n",
    "        self.signatures = [self.parse_signatures(file) for file in glob.glob(\"./assets/train_xml/*.xml\") if self.parse_signatures(file) is not None]\n",
    "\n",
    "    def parse_signatures(self, file):\n",
    "        root = ET.parse(file).getroot()\n",
    "        if len(root.findall(\".//*[@gedi_type='DLSignature']\")) > 0:\n",
    "            return {'file_name': file, **root.find(\".//*[@gedi_type='DLSignature']\").attrib}\n",
    "        # else :\n",
    "        #     return 0"
   ]
  },
  {
   "cell_type": "code",
   "execution_count": 17,
   "metadata": {},
   "outputs": [],
   "source": [
    "signatures_from_dataset = SignaturesGetter()\n",
    "# sum(signatures_from_dataset.signatures)\n",
    "signature_coordinates = signatures_from_dataset.signatures"
   ]
  },
  {
   "cell_type": "code",
   "execution_count": 18,
   "metadata": {},
   "outputs": [
    {
     "name": "stdout",
     "output_type": "stream",
     "text": [
      "{'file_name': './assets/train_xml\\\\00060f1db73c837c2b943fec640f920a_1.xml', 'gedi_type': 'DLSignature', 'id': 'None', 'col': '610', 'row': '847', 'width': '269', 'height': '76', 'Overlapped': 'Yes', 'AuthorID': 'Schultz, F.J.'}\n"
     ]
    },
    {
     "data": {
      "text/plain": [
       "{'file_name': './assets/train_xml\\\\00060f1db73c837c2b943fec640f920a_1.xml',\n",
       " 'gedi_type': 'DLSignature',\n",
       " 'id': 'None',\n",
       " 'col': '610',\n",
       " 'row': '847',\n",
       " 'width': '269',\n",
       " 'height': '76',\n",
       " 'Overlapped': 'Yes',\n",
       " 'AuthorID': 'Schultz, F.J.'}"
      ]
     },
     "execution_count": 18,
     "metadata": {},
     "output_type": "execute_result"
    }
   ],
   "source": [
    "test_coordinates = signature_coordinates[0]\n",
    "print(test_coordinates)\n",
    "test_coordinates"
   ]
  },
  {
   "cell_type": "code",
   "execution_count": 19,
   "metadata": {},
   "outputs": [],
   "source": [
    "def get_metadata(coordinates):\n",
    "    file_name = coordinates['file_name'][19:-4]\n",
    "    width = int(coordinates['width'])\n",
    "    height = int(coordinates['height'])\n",
    "    x_min = int(coordinates['col'])\n",
    "    y_min = int(coordinates['row'])\n",
    "    y_max = y_min + height\n",
    "    x_max = x_min + width\n",
    "    return file_name, x_max, x_min, y_max, y_min\n",
    "    "
   ]
  },
  {
   "cell_type": "code",
   "execution_count": 20,
   "metadata": {},
   "outputs": [],
   "source": [
    "def find_signatures(coordinates):\n",
    "    file_name, x_max, x_min, y_max, y_min = get_metadata(coordinates)\n",
    "    print(x_max, x_min, y_max, y_min)\n",
    "    file = \"./assets/train/\" + str(file_name) + \".tif\"\n",
    "    print(file, type(file))\n",
    "    img = cv2.imread(file)\n",
    "    print(img.shape)\n",
    "    portion = img[y_min:y_max, x_min:x_max]\n",
    "    cv2.imshow('', portion)\n",
    "    cv2.waitKey()\n",
    "    cv2.destroyAllWindows()\n",
    "\n"
   ]
  },
  {
   "cell_type": "code",
   "execution_count": 21,
   "metadata": {},
   "outputs": [
    {
     "name": "stdout",
     "output_type": "stream",
     "text": [
      "879 610 923 847\n",
      "./assets/train/00060f1db73c837c2b943fec640f920a_1.tif <class 'str'>\n",
      "(1575, 1200, 3)\n"
     ]
    }
   ],
   "source": [
    "find_signatures(test_coordinates)"
   ]
  }
 ],
 "metadata": {
  "interpreter": {
   "hash": "444a3aa18ed55b20f13b91a0afe11924d2258aad3c2369f369a6a1fdc1e59258"
  },
  "kernelspec": {
   "display_name": "Python 3.7.9 64-bit ('env': venv)",
   "name": "python3"
  },
  "language_info": {
   "codemirror_mode": {
    "name": "ipython",
    "version": 3
   },
   "file_extension": ".py",
   "mimetype": "text/x-python",
   "name": "python",
   "nbconvert_exporter": "python",
   "pygments_lexer": "ipython3",
   "version": "3.7.9"
  },
  "orig_nbformat": 4
 },
 "nbformat": 4,
 "nbformat_minor": 2
}
