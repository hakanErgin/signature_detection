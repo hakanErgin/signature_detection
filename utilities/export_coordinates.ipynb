{
 "cells": [
  {
   "cell_type": "code",
   "execution_count": 2,
   "metadata": {},
   "outputs": [],
   "source": [
    "import os\n",
    "import pandas as pd\n",
    "from xml.dom import minidom\n",
    "\n",
    "folder_path = os.path.abspath('./assets/train_xml')\n",
    "all_files = os.listdir(folder_path)\n",
    "\n"
   ]
  },
  {
   "cell_type": "code",
   "execution_count": 3,
   "metadata": {},
   "outputs": [],
   "source": [
    "# def normalize(px):"
   ]
  },
  {
   "cell_type": "code",
   "execution_count": 22,
   "metadata": {},
   "outputs": [],
   "source": [
    "number_id = []\n",
    "for i, name in enumerate(all_files):\n",
    "    test_file_name = name[:-4]\n",
    "    number_id.append(test_file_name)\n",
    "\n",
    "for i in range(len(all_files)):\n",
    "# for i in range(1):\n",
    "    file_path = os.path.join(folder_path, all_files[i])\n",
    "    xmldoc = minidom.parse(file_path)\n",
    "    itemlist = xmldoc.getElementsByTagName('DL_ZONE')\n",
    "    if len(itemlist) > 0:\n",
    "        items = []\n",
    "        for s in itemlist:\n",
    "            if s.attributes['gedi_type'].value == 'DLSignature':\n",
    "                page = xmldoc.getElementsByTagName('DL_PAGE')[0]\n",
    "                pw, ph = int(page.attributes['width'].value), int(page.attributes['height'].value)\n",
    "                c, x, y, w, h  = '1', int(s.attributes['col'].value), int(s.attributes['row'].value), int(s.attributes['width'].value), int(s.attributes['height'].value)\n",
    "                w1=w/pw\n",
    "                h1=h/ph\n",
    "                x1=(x+w/2)/pw\n",
    "                y1=(y+h/2)/ph\n",
    "                items.append(str(f'{c} {x1} {y1} {w1} {h1}'))\n",
    "        \n",
    "        f = open('./assets/coords_txt/'+number_id[i]+'.txt','w')\n",
    "        for ele in items:\n",
    "            f.write(ele+'\\n')\n",
    "        f.close()\n",
    "    else:\n",
    "        next"
   ]
  }
 ],
 "metadata": {
  "interpreter": {
   "hash": "444a3aa18ed55b20f13b91a0afe11924d2258aad3c2369f369a6a1fdc1e59258"
  },
  "kernelspec": {
   "display_name": "Python 3.7.9 64-bit ('env': venv)",
   "name": "python3"
  },
  "language_info": {
   "codemirror_mode": {
    "name": "ipython",
    "version": 3
   },
   "file_extension": ".py",
   "mimetype": "text/x-python",
   "name": "python",
   "nbconvert_exporter": "python",
   "pygments_lexer": "ipython3",
   "version": "3.7.9"
  },
  "orig_nbformat": 4
 },
 "nbformat": 4,
 "nbformat_minor": 2
}
