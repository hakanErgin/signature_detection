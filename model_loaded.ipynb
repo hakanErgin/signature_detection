{
  "nbformat": 4,
  "nbformat_minor": 0,
  "metadata": {
    "colab": {
      "name": "load.ipynb",
      "provenance": [],
      "collapsed_sections": []
    },
    "kernelspec": {
      "name": "python3",
      "display_name": "Python 3"
    },
    "accelerator": "GPU"
  },
  "cells": [
    {
      "cell_type": "markdown",
      "metadata": {
        "id": "Yd6NebZ5hP0A"
      },
      "source": [
        "# Install Detectron2 Dependencies"
      ]
    },
    {
      "cell_type": "code",
      "metadata": {
        "id": "wXisIbT1Zqou",
        "colab": {
          "base_uri": "https://localhost:8080/"
        },
        "outputId": "30adb40c-e4d5-434e-ad6f-5a5d5a2c8f7c"
      },
      "source": [
        "# install dependencies: (use cu101 because colab has CUDA 10.1)\n",
        "!pip install -U torch==1.5 torchvision==0.6 -f https://download.pytorch.org/whl/cu101/torch_stable.html \n",
        "!pip install cython pyyaml==5.1\n",
        "!pip install -U 'git+https://github.com/cocodataset/cocoapi.git#subdirectory=PythonAPI'\n",
        "import torch, torchvision\n",
        "print(torch.__version__, torch.cuda.is_available())\n",
        "!gcc --version\n",
        "# opencv is pre-installed on colab"
      ],
      "execution_count": 9,
      "outputs": [
        {
          "output_type": "stream",
          "name": "stdout",
          "text": [
            "Looking in links: https://download.pytorch.org/whl/cu101/torch_stable.html\n",
            "Requirement already satisfied: torch==1.5 in /usr/local/lib/python3.7/dist-packages (1.5.0+cu101)\n",
            "Requirement already satisfied: torchvision==0.6 in /usr/local/lib/python3.7/dist-packages (0.6.0+cu101)\n",
            "Requirement already satisfied: numpy in /usr/local/lib/python3.7/dist-packages (from torch==1.5) (1.19.5)\n",
            "Requirement already satisfied: future in /usr/local/lib/python3.7/dist-packages (from torch==1.5) (0.16.0)\n",
            "Requirement already satisfied: pillow>=4.1.1 in /usr/local/lib/python3.7/dist-packages (from torchvision==0.6) (7.1.2)\n",
            "Requirement already satisfied: cython in /usr/local/lib/python3.7/dist-packages (0.29.24)\n",
            "Requirement already satisfied: pyyaml==5.1 in /usr/local/lib/python3.7/dist-packages (5.1)\n",
            "Collecting git+https://github.com/cocodataset/cocoapi.git#subdirectory=PythonAPI\n",
            "  Cloning https://github.com/cocodataset/cocoapi.git to /tmp/pip-req-build-iw5ugszr\n",
            "  Running command git clone -q https://github.com/cocodataset/cocoapi.git /tmp/pip-req-build-iw5ugszr\n",
            "Requirement already satisfied: setuptools>=18.0 in /usr/local/lib/python3.7/dist-packages (from pycocotools==2.0) (57.4.0)\n",
            "Requirement already satisfied: cython>=0.27.3 in /usr/local/lib/python3.7/dist-packages (from pycocotools==2.0) (0.29.24)\n",
            "Requirement already satisfied: matplotlib>=2.1.0 in /usr/local/lib/python3.7/dist-packages (from pycocotools==2.0) (3.2.2)\n",
            "Requirement already satisfied: cycler>=0.10 in /usr/local/lib/python3.7/dist-packages (from matplotlib>=2.1.0->pycocotools==2.0) (0.10.0)\n",
            "Requirement already satisfied: pyparsing!=2.0.4,!=2.1.2,!=2.1.6,>=2.0.1 in /usr/local/lib/python3.7/dist-packages (from matplotlib>=2.1.0->pycocotools==2.0) (2.4.7)\n",
            "Requirement already satisfied: numpy>=1.11 in /usr/local/lib/python3.7/dist-packages (from matplotlib>=2.1.0->pycocotools==2.0) (1.19.5)\n",
            "Requirement already satisfied: python-dateutil>=2.1 in /usr/local/lib/python3.7/dist-packages (from matplotlib>=2.1.0->pycocotools==2.0) (2.8.2)\n",
            "Requirement already satisfied: kiwisolver>=1.0.1 in /usr/local/lib/python3.7/dist-packages (from matplotlib>=2.1.0->pycocotools==2.0) (1.3.2)\n",
            "Requirement already satisfied: six in /usr/local/lib/python3.7/dist-packages (from cycler>=0.10->matplotlib>=2.1.0->pycocotools==2.0) (1.15.0)\n",
            "1.5.0+cu101 False\n",
            "gcc (Ubuntu 7.5.0-3ubuntu1~18.04) 7.5.0\n",
            "Copyright (C) 2017 Free Software Foundation, Inc.\n",
            "This is free software; see the source for copying conditions.  There is NO\n",
            "warranty; not even for MERCHANTABILITY or FITNESS FOR A PARTICULAR PURPOSE.\n",
            "\n"
          ]
        }
      ]
    },
    {
      "cell_type": "code",
      "metadata": {
        "id": "wW8A0IHVZ_MR",
        "colab": {
          "base_uri": "https://localhost:8080/"
        },
        "outputId": "913b64eb-1848-4618-a7a0-5d263ccb85d6"
      },
      "source": [
        "# install detectron2:\n",
        "!pip install detectron2==0.1.3 -f https://dl.fbaipublicfiles.com/detectron2/wheels/cu101/torch1.5/index.html"
      ],
      "execution_count": 10,
      "outputs": [
        {
          "output_type": "stream",
          "name": "stdout",
          "text": [
            "Looking in links: https://dl.fbaipublicfiles.com/detectron2/wheels/cu101/torch1.5/index.html\n",
            "Requirement already satisfied: detectron2==0.1.3 in /usr/local/lib/python3.7/dist-packages (0.1.3+cu101)\n",
            "Requirement already satisfied: tqdm>4.29.0 in /usr/local/lib/python3.7/dist-packages (from detectron2==0.1.3) (4.62.3)\n",
            "Requirement already satisfied: fvcore>=0.1.1 in /usr/local/lib/python3.7/dist-packages (from detectron2==0.1.3) (0.1.5.post20211019)\n",
            "Requirement already satisfied: yacs>=0.1.6 in /usr/local/lib/python3.7/dist-packages (from detectron2==0.1.3) (0.1.8)\n",
            "Requirement already satisfied: future in /usr/local/lib/python3.7/dist-packages (from detectron2==0.1.3) (0.16.0)\n",
            "Requirement already satisfied: Pillow in /usr/local/lib/python3.7/dist-packages (from detectron2==0.1.3) (7.1.2)\n",
            "Requirement already satisfied: cloudpickle in /usr/local/lib/python3.7/dist-packages (from detectron2==0.1.3) (1.3.0)\n",
            "Requirement already satisfied: tabulate in /usr/local/lib/python3.7/dist-packages (from detectron2==0.1.3) (0.8.9)\n",
            "Requirement already satisfied: mock in /usr/local/lib/python3.7/dist-packages (from detectron2==0.1.3) (4.0.3)\n",
            "Requirement already satisfied: tensorboard in /usr/local/lib/python3.7/dist-packages (from detectron2==0.1.3) (2.6.0)\n",
            "Requirement already satisfied: matplotlib in /usr/local/lib/python3.7/dist-packages (from detectron2==0.1.3) (3.2.2)\n",
            "Requirement already satisfied: pydot in /usr/local/lib/python3.7/dist-packages (from detectron2==0.1.3) (1.3.0)\n",
            "Requirement already satisfied: termcolor>=1.1 in /usr/local/lib/python3.7/dist-packages (from detectron2==0.1.3) (1.1.0)\n",
            "Requirement already satisfied: iopath>=0.1.7 in /usr/local/lib/python3.7/dist-packages (from fvcore>=0.1.1->detectron2==0.1.3) (0.1.9)\n",
            "Requirement already satisfied: pyyaml>=5.1 in /usr/local/lib/python3.7/dist-packages (from fvcore>=0.1.1->detectron2==0.1.3) (5.1)\n",
            "Requirement already satisfied: numpy in /usr/local/lib/python3.7/dist-packages (from fvcore>=0.1.1->detectron2==0.1.3) (1.19.5)\n",
            "Requirement already satisfied: portalocker in /usr/local/lib/python3.7/dist-packages (from iopath>=0.1.7->fvcore>=0.1.1->detectron2==0.1.3) (2.3.2)\n",
            "Requirement already satisfied: kiwisolver>=1.0.1 in /usr/local/lib/python3.7/dist-packages (from matplotlib->detectron2==0.1.3) (1.3.2)\n",
            "Requirement already satisfied: python-dateutil>=2.1 in /usr/local/lib/python3.7/dist-packages (from matplotlib->detectron2==0.1.3) (2.8.2)\n",
            "Requirement already satisfied: pyparsing!=2.0.4,!=2.1.2,!=2.1.6,>=2.0.1 in /usr/local/lib/python3.7/dist-packages (from matplotlib->detectron2==0.1.3) (2.4.7)\n",
            "Requirement already satisfied: cycler>=0.10 in /usr/local/lib/python3.7/dist-packages (from matplotlib->detectron2==0.1.3) (0.10.0)\n",
            "Requirement already satisfied: six in /usr/local/lib/python3.7/dist-packages (from cycler>=0.10->matplotlib->detectron2==0.1.3) (1.15.0)\n",
            "Requirement already satisfied: tensorboard-data-server<0.7.0,>=0.6.0 in /usr/local/lib/python3.7/dist-packages (from tensorboard->detectron2==0.1.3) (0.6.1)\n",
            "Requirement already satisfied: wheel>=0.26 in /usr/local/lib/python3.7/dist-packages (from tensorboard->detectron2==0.1.3) (0.37.0)\n",
            "Requirement already satisfied: setuptools>=41.0.0 in /usr/local/lib/python3.7/dist-packages (from tensorboard->detectron2==0.1.3) (57.4.0)\n",
            "Requirement already satisfied: werkzeug>=0.11.15 in /usr/local/lib/python3.7/dist-packages (from tensorboard->detectron2==0.1.3) (1.0.1)\n",
            "Requirement already satisfied: protobuf>=3.6.0 in /usr/local/lib/python3.7/dist-packages (from tensorboard->detectron2==0.1.3) (3.17.3)\n",
            "Requirement already satisfied: tensorboard-plugin-wit>=1.6.0 in /usr/local/lib/python3.7/dist-packages (from tensorboard->detectron2==0.1.3) (1.8.0)\n",
            "Requirement already satisfied: requests<3,>=2.21.0 in /usr/local/lib/python3.7/dist-packages (from tensorboard->detectron2==0.1.3) (2.23.0)\n",
            "Requirement already satisfied: grpcio>=1.24.3 in /usr/local/lib/python3.7/dist-packages (from tensorboard->detectron2==0.1.3) (1.41.0)\n",
            "Requirement already satisfied: google-auth<2,>=1.6.3 in /usr/local/lib/python3.7/dist-packages (from tensorboard->detectron2==0.1.3) (1.35.0)\n",
            "Requirement already satisfied: absl-py>=0.4 in /usr/local/lib/python3.7/dist-packages (from tensorboard->detectron2==0.1.3) (0.12.0)\n",
            "Requirement already satisfied: google-auth-oauthlib<0.5,>=0.4.1 in /usr/local/lib/python3.7/dist-packages (from tensorboard->detectron2==0.1.3) (0.4.6)\n",
            "Requirement already satisfied: markdown>=2.6.8 in /usr/local/lib/python3.7/dist-packages (from tensorboard->detectron2==0.1.3) (3.3.4)\n",
            "Requirement already satisfied: rsa<5,>=3.1.4 in /usr/local/lib/python3.7/dist-packages (from google-auth<2,>=1.6.3->tensorboard->detectron2==0.1.3) (4.7.2)\n",
            "Requirement already satisfied: cachetools<5.0,>=2.0.0 in /usr/local/lib/python3.7/dist-packages (from google-auth<2,>=1.6.3->tensorboard->detectron2==0.1.3) (4.2.4)\n",
            "Requirement already satisfied: pyasn1-modules>=0.2.1 in /usr/local/lib/python3.7/dist-packages (from google-auth<2,>=1.6.3->tensorboard->detectron2==0.1.3) (0.2.8)\n",
            "Requirement already satisfied: requests-oauthlib>=0.7.0 in /usr/local/lib/python3.7/dist-packages (from google-auth-oauthlib<0.5,>=0.4.1->tensorboard->detectron2==0.1.3) (1.3.0)\n",
            "Requirement already satisfied: importlib-metadata in /usr/local/lib/python3.7/dist-packages (from markdown>=2.6.8->tensorboard->detectron2==0.1.3) (4.8.1)\n",
            "Requirement already satisfied: pyasn1<0.5.0,>=0.4.6 in /usr/local/lib/python3.7/dist-packages (from pyasn1-modules>=0.2.1->google-auth<2,>=1.6.3->tensorboard->detectron2==0.1.3) (0.4.8)\n",
            "Requirement already satisfied: certifi>=2017.4.17 in /usr/local/lib/python3.7/dist-packages (from requests<3,>=2.21.0->tensorboard->detectron2==0.1.3) (2021.5.30)\n",
            "Requirement already satisfied: idna<3,>=2.5 in /usr/local/lib/python3.7/dist-packages (from requests<3,>=2.21.0->tensorboard->detectron2==0.1.3) (2.10)\n",
            "Requirement already satisfied: urllib3!=1.25.0,!=1.25.1,<1.26,>=1.21.1 in /usr/local/lib/python3.7/dist-packages (from requests<3,>=2.21.0->tensorboard->detectron2==0.1.3) (1.24.3)\n",
            "Requirement already satisfied: chardet<4,>=3.0.2 in /usr/local/lib/python3.7/dist-packages (from requests<3,>=2.21.0->tensorboard->detectron2==0.1.3) (3.0.4)\n",
            "Requirement already satisfied: oauthlib>=3.0.0 in /usr/local/lib/python3.7/dist-packages (from requests-oauthlib>=0.7.0->google-auth-oauthlib<0.5,>=0.4.1->tensorboard->detectron2==0.1.3) (3.1.1)\n",
            "Requirement already satisfied: zipp>=0.5 in /usr/local/lib/python3.7/dist-packages (from importlib-metadata->markdown>=2.6.8->tensorboard->detectron2==0.1.3) (3.6.0)\n",
            "Requirement already satisfied: typing-extensions>=3.6.4 in /usr/local/lib/python3.7/dist-packages (from importlib-metadata->markdown>=2.6.8->tensorboard->detectron2==0.1.3) (3.7.4.3)\n"
          ]
        }
      ]
    },
    {
      "cell_type": "code",
      "metadata": {
        "id": "2rCUZZnbhcyl"
      },
      "source": [
        "# You may need to restart your runtime prior to this, to let your installation take effect\n",
        "# Some basic setup:\n",
        "# Setup detectron2 logger\n",
        "import detectron2\n",
        "from detectron2.utils.logger import setup_logger\n",
        "setup_logger()\n",
        "\n",
        "# import some common libraries\n",
        "import numpy as np\n",
        "import cv2\n",
        "import random\n",
        "from google.colab.patches import cv2_imshow\n",
        "\n",
        "# import some common detectron2 utilities\n",
        "from detectron2 import model_zoo\n",
        "from detectron2.engine import DefaultPredictor\n",
        "from detectron2.config import get_cfg\n",
        "from detectron2.utils.visualizer import Visualizer\n",
        "from detectron2.data import MetadataCatalog\n",
        "from detectron2.data.catalog import DatasetCatalog"
      ],
      "execution_count": 11,
      "outputs": []
    },
    {
      "cell_type": "markdown",
      "metadata": {
        "id": "Kd0NJiPJhiu7"
      },
      "source": [
        "# Import and Register Custom Detectron2 Data"
      ]
    },
    {
      "cell_type": "code",
      "metadata": {
        "id": "BdTAusKE9zUQ"
      },
      "source": [
        "# #visualize training data\n",
        "# my_dataset_train_metadata = MetadataCatalog.get(\"my_dataset_train\")\n",
        "# dataset_dicts = DatasetCatalog.get(\"my_dataset_train\")\n",
        "\n",
        "# import random\n",
        "# from detectron2.utils.visualizer import Visualizer\n",
        "\n",
        "# for d in random.sample(dataset_dicts, 3):\n",
        "#     img = cv2.imread(d[\"file_name\"])\n",
        "#     visualizer = Visualizer(img[:, :, ::-1], metadata=my_dataset_train_metadata, scale=0.5)\n",
        "#     vis = visualizer.draw_dataset_dict(d)\n",
        "#     cv2_imshow(vis.get_image()[:, :, ::-1])"
      ],
      "execution_count": 12,
      "outputs": []
    },
    {
      "cell_type": "markdown",
      "metadata": {
        "id": "okQbhIYIh_CL"
      },
      "source": [
        "# load Custom Detectron2 Detector"
      ]
    },
    {
      "cell_type": "markdown",
      "metadata": {
        "id": "A3BX34iXw1gU"
      },
      "source": [
        "# Inference with Detectron2 Saved Weights\n",
        "\n"
      ]
    },
    {
      "cell_type": "code",
      "metadata": {
        "id": "rb65zpj87Bka",
        "colab": {
          "base_uri": "https://localhost:8080/"
        },
        "outputId": "175848a0-fb6b-453b-ab3d-e17764edac35"
      },
      "source": [
        "%ls ./output/"
      ],
      "execution_count": 1,
      "outputs": [
        {
          "output_type": "stream",
          "name": "stderr",
          "text": [
            "Parameter format not correct - \"utput\".\n"
          ]
        }
      ]
    },
    {
      "cell_type": "code",
      "metadata": {
        "colab": {
          "base_uri": "https://localhost:8080/"
        },
        "id": "Az4NgI2xL9Rq",
        "outputId": "3377ba8a-9cb2-4695-da2d-b297458ba7f9"
      },
      "source": [
        "from google.colab import drive\n",
        "drive.mount('/content/gdrive')"
      ],
      "execution_count": null,
      "outputs": [
        {
          "output_type": "stream",
          "name": "stdout",
          "text": [
            "Mounted at /content/gdrive\n"
          ]
        }
      ]
    },
    {
      "cell_type": "code",
      "metadata": {
        "colab": {
          "base_uri": "https://localhost:8080/"
        },
        "id": "1XrNoFC1Miii",
        "outputId": "4721996e-6b91-4e83-b242-26dc5d29d05b"
      },
      "source": [
        "!cp '/content/gdrive/MyDrive/colab src/output' '/content/'"
      ],
      "execution_count": null,
      "outputs": [
        {
          "output_type": "stream",
          "name": "stdout",
          "text": [
            "cp: -r not specified; omitting directory '/content/gdrive/MyDrive/colab src/output'\n"
          ]
        }
      ]
    },
    {
      "cell_type": "code",
      "metadata": {
        "id": "zVBjf0DE7HEW"
      },
      "source": [
        "cfg = get_cfg()\n",
        "cfg.merge_from_file(model_zoo.get_config_file('COCO-Detection/faster_rcnn_X_101_32x8d_FPN_3x.yaml'))\n",
        "cfg.MODEL.ROI_HEADS.SCORE_THRESH_TEST = 0.7 # Set threshold for this model\n",
        "cfg.MODEL.WEIGHTS = '/content/gdrive/MyDrive/colab src/output/model_final.pth' # Set path model .pth\n",
        "cfg.MODEL.ROI_HEADS.NUM_CLASSES = 2\n",
        "cfg.MODEL.DEVICE='cpu'\n",
        "predictor = DefaultPredictor(cfg)"
      ],
      "execution_count": 18,
      "outputs": []
    },
    {
      "cell_type": "code",
      "metadata": {
        "id": "WiJ0Ylc_XAUa",
        "colab": {
          "base_uri": "https://localhost:8080/"
        },
        "outputId": "94a004a9-09d1-4fb4-bf18-ea6ae179a389"
      },
      "source": [
        "from detectron2.utils.visualizer import ColorMode\n",
        "import glob\n",
        "\n",
        "res = []\n",
        "count=0\n",
        "\n",
        "for imageName in glob.glob('/content/sample_data/*tif'):\n",
        "  count += 1\n",
        "  print(count, imageName)\n",
        "  im = cv2.imread(imageName)\n",
        "  outputs = predictor(im)\n",
        "  res.append({'file_name': imageName, **outputs})\n",
        "\n",
        "print(res)"
      ],
      "execution_count": 23,
      "outputs": [
        {
          "output_type": "stream",
          "name": "stdout",
          "text": [
            "1 /content/sample_data/6a381bb657efa536ec4b11dd3a608820.tif\n",
            "2 /content/sample_data/eb09d89ba31fed396d5a5a8d8a9d1828.tif\n",
            "3 /content/sample_data/69a1fa63b5ef242c6f358c2975e3ac35.tif\n",
            "4 /content/sample_data/27124678eef95d8801ac23d9f5f1ad55.tif\n",
            "5 /content/sample_data/bfe582366beebd7f8848bbf53d6304be_3.tif\n",
            "6 /content/sample_data/3832e7dac6c2fc6750c7ad7aadda9a95.tif\n",
            "7 /content/sample_data/aa18781ad618f6aae949142d51d13b21_2.tif\n",
            "8 /content/sample_data/75afebf5f040177e9b1e35d8119a04c3_2.tif\n",
            "9 /content/sample_data/c1c43fe5d79a70bf949c05e5b8ed267d_1.tif\n",
            "10 /content/sample_data/1038a29f20f610df2e01b36f51bc9a31.tif\n",
            "11 /content/sample_data/e17e418919f88f7155b85f2bf58e7975.tif\n",
            "12 /content/sample_data/4b520da4e68716484a7374a42bf7e2a9_2.tif\n",
            "13 /content/sample_data/ebfea1a0350207555bb9ce733d3ea7fd_3.tif\n",
            "14 /content/sample_data/bcef979fdc530eba01f536f47878813f_1.tif\n",
            "15 /content/sample_data/ca2a234d58852de50b07a6a216370b6d_7.tif\n",
            "16 /content/sample_data/bcef979fdc530eba01f536f47878813f_2.tif\n",
            "17 /content/sample_data/6b816984ec5fbd0541836da977d4570d_3.tif\n",
            "18 /content/sample_data/4cb366eee206bc9f0b48c0c8d7cc94ae.tif\n",
            "19 /content/sample_data/dc703955d59f63982f81892900824cc4_2.tif\n",
            "20 /content/sample_data/d0813ddce0c72c0fb0c33257903d518d_5.tif\n",
            "21 /content/sample_data/ad729ba5891d6199f01d12d59086bb86_1.tif\n",
            "22 /content/sample_data/741b84cb122cba80c73c8ef585f7d942_1.tif\n",
            "23 /content/sample_data/b76c113a590bac5583eb93912252fd4f_2.tif\n",
            "24 /content/sample_data/14cff1e5fc1ede8bd192912a74248498.tif\n",
            "25 /content/sample_data/8e20c5b100299349efd0339019392688_3.tif\n",
            "26 /content/sample_data/8b3f89e07f89af210e8fa6f13ab68b8d_2.tif\n",
            "27 /content/sample_data/eb74dd87d0a9b876ad10a764469e94f7_2.tif\n",
            "28 /content/sample_data/02148af935993f360f2d9c3ca3eb782a_8.tif\n",
            "29 /content/sample_data/9a95439e31a3a518a5553be861d99a7a_1.tif\n",
            "30 /content/sample_data/c26466dc96f28a4ebd901799d53c60ab.tif\n",
            "31 /content/sample_data/440093428bfce70c0c2f83dbe121d28a.tif\n",
            "32 /content/sample_data/843f22d756fd68cfafc952fd7c2496d5_2.tif\n",
            "33 /content/sample_data/2597dd3149842ddc6435b7024c45fbb8_1.tif\n",
            "34 /content/sample_data/4ca8d0d55601876d3e7742c4db5df7a8.tif\n",
            "35 /content/sample_data/5b17ed3b970a83bcd89acdfed20c0c67.tif\n",
            "36 /content/sample_data/833992cc1bb0892538cf4ecea8fe9785_2.tif\n",
            "37 /content/sample_data/9ab54e46518a644986174cdceede443b.tif\n",
            "38 /content/sample_data/52a641fd852639daaa45556a3d7f3a55_6.tif\n",
            "39 /content/sample_data/2b39a63db00417e8838bcc6256e903a1_1.tif\n",
            "40 /content/sample_data/02701be3fc048a3b7e2ce7a4b2a05aad.tif\n",
            "41 /content/sample_data/859aa4c546d2b3e727cd96455e576c54.tif\n",
            "42 /content/sample_data/e882a0ff6993d79e93822f7a50bcd137_2.tif\n",
            "43 /content/sample_data/64dfdeb472cdd0350b654eecab8f3e98.tif\n",
            "44 /content/sample_data/3598b981fd75d09523dd049614fab8f1.tif\n",
            "45 /content/sample_data/2af4976206c338874b12fd33ec18aceb_8.tif\n",
            "46 /content/sample_data/f3d058f08f7612b07520701b5c7ec7e5_1.tif\n",
            "47 /content/sample_data/70fb7730f6a6a9a7886d6258ae850abe_1.tif\n",
            "48 /content/sample_data/d99f3a9446d06d9f027e632f4b781f77_1.tif\n",
            "49 /content/sample_data/2870a573bd58f699613872199365625d_1.tif\n",
            "50 /content/sample_data/48b7ff5df20f9896f9102e2c98ef26f9.tif\n",
            "51 /content/sample_data/f95151d46ab46fe856074feb728f4190.tif\n",
            "52 /content/sample_data/ec11520897b3697b7a99af00d64144f0_3.tif\n",
            "53 /content/sample_data/a9f685568aeeef0b2dc6322bccdfc3eb_3.tif\n",
            "54 /content/sample_data/47ad6d7c0e2e7b7a61a05000669bfbb8.tif\n",
            "55 /content/sample_data/23da1f0aae50d9e2b044b599dcaea38e_2.tif\n",
            "56 /content/sample_data/2af4976206c338874b12fd33ec18aceb_32.tif\n",
            "57 /content/sample_data/0d26d1e0574f8c36cf6091d04e84dfdb.tif\n",
            "58 /content/sample_data/6f52adbcded6525df92e699a0cbfb1f9.tif\n",
            "59 /content/sample_data/a2d03463f8e34b2af50242d9dc122a47.tif\n",
            "60 /content/sample_data/1b6d0840c3277fe4ac4215b5bc8aecfd.tif\n",
            "61 /content/sample_data/e630893e4a9a2696bfa7f7c2ecdcee52.tif\n",
            "62 /content/sample_data/c1056529ee761ff7cbf513dc6cca6fd4_6.tif\n",
            "63 /content/sample_data/2901d78cd3470b6283bfdc8ccb41538a_6.tif\n",
            "64 /content/sample_data/794cb1934863cdcffa46755cc8a19c4e.tif\n",
            "65 /content/sample_data/0370ca51b827c0f72a8f6b6a83e4411a.tif\n",
            "66 /content/sample_data/05dbb8801643d58f9aa7c1d1de0ea6c2.tif\n",
            "67 /content/sample_data/dd1fb8dfe7627a21fd3b1db9f975f616.tif\n",
            "68 /content/sample_data/bd017a684aa93257d7c79fedde4d24e7_3.tif\n",
            "69 /content/sample_data/70fb7730f6a6a9a7886d6258ae850abe_2.tif\n",
            "70 /content/sample_data/29ecd87fe6f74f21759b8776c79f8614.tif\n",
            "71 /content/sample_data/093e2707ae252960934357cbf04569c3.tif\n",
            "72 /content/sample_data/f12b9a1d92be06ce9357ae9a12a66e52_2.tif\n",
            "73 /content/sample_data/f6690637ad8d45c5a712cb3afb86b54c_3.tif\n",
            "74 /content/sample_data/489e5d546e50dbd33740065569f4e59c.tif\n",
            "75 /content/sample_data/0a948131fe85c38152c0b9b22f7c09fc_1.tif\n",
            "76 /content/sample_data/a10e148d1b37959b5551663847bfa0fe.tif\n",
            "77 /content/sample_data/b92bc38b3add1765067113c29e585921.tif\n",
            "78 /content/sample_data/1722e3504190bd3560bb0f4b16aec6dc_1.tif\n",
            "79 /content/sample_data/3cf16ae1c4b21b53eba598ede578222a_1.tif\n",
            "80 /content/sample_data/e1c39b2cd75cbe3e140791382085cd6b_2.tif\n",
            "81 /content/sample_data/0148e4778e6d8b22a8980bf4fc89351b_30.tif\n",
            "82 /content/sample_data/fef37ea5a0c4dd7978a4a433fa3a31ce_2.tif\n",
            "83 /content/sample_data/0d338061a285cb5d573481a4662f401a.tif\n",
            "84 /content/sample_data/5b2d9b4fe0607c1026393f5150d1f4fc.tif\n",
            "85 /content/sample_data/b7e828906496c359de4040f47f360358_2.tif\n",
            "86 /content/sample_data/5b3e4de6da2a3165c4ee76b543f205ea_2.tif\n",
            "87 /content/sample_data/ec05648467538a1ede83914c61413105_2.tif\n",
            "88 /content/sample_data/f63389d3dc870e6bb0286ea5453dc838.tif\n",
            "89 /content/sample_data/52a0c51a16f05bf71b81b3ca9a436380.tif\n",
            "90 /content/sample_data/2a3b508ae7e65a09b65f6d5bde660a8f_2.tif\n",
            "91 /content/sample_data/c1056529ee761ff7cbf513dc6cca6fd4_8.tif\n",
            "92 /content/sample_data/d8bfc6ecdcdf89f1f800c4fa061ba0a8.tif\n",
            "93 /content/sample_data/237ca768be1a45d14145934b6f08d615_1.tif\n",
            "94 /content/sample_data/d3c7bb268afb3ba438b1ed56fa4f247a.tif\n",
            "95 /content/sample_data/d4dfbdddc3e02c1e4891773f0b26f73e.tif\n",
            "96 /content/sample_data/f7744d49d65d3c116b4b343974be2f2a.tif\n",
            "97 /content/sample_data/b6c8c5afc4c2eed12844de9120f1806d_1.tif\n",
            "98 /content/sample_data/1bd2523b9656a823c86e768c3db75699_2.tif\n",
            "99 /content/sample_data/0f6bc860c0dbac06933e2dbae943b850_4.tif\n",
            "100 /content/sample_data/c0b84f027df8a69add66559d915ad6f2_2.tif\n",
            "101 /content/sample_data/c816e5457fc313c27bd38ebc1658b4b8_2.tif\n",
            "102 /content/sample_data/dc703955d59f63982f81892900824cc4_1.tif\n",
            "103 /content/sample_data/7dbd05a83a7eb8a6ab319be91f212e04.tif\n",
            "104 /content/sample_data/9fd6712003f8bace5a28d611af1b4a21.tif\n",
            "105 /content/sample_data/51e2bcf8a78d836c45bd5d41e4555331.tif\n",
            "106 /content/sample_data/a08f466893c15a617ed515685b7299de.tif\n",
            "107 /content/sample_data/89257a01e2ef49e126c0922ff2bbd958.tif\n",
            "108 /content/sample_data/7921d3c75456cfe74d8d0a9d122d15b8.tif\n",
            "109 /content/sample_data/cb07b3779ee43a9bb7eecb322a6b4160_2.tif\n",
            "110 /content/sample_data/804e87517d92e7d017194af35fbda7e9.tif\n",
            "111 /content/sample_data/0171cd73c7bdbf48ccfd0c21804f9ced_1.tif\n",
            "112 /content/sample_data/ad729ba5891d6199f01d12d59086bb86_2.tif\n",
            "113 /content/sample_data/c1056529ee761ff7cbf513dc6cca6fd4_9.tif\n",
            "114 /content/sample_data/78eefcec01514be9fb5f6cb89d5e3618.tif\n",
            "115 /content/sample_data/ce457dce276f4915180fef71c775162e_3.tif\n",
            "116 /content/sample_data/833992cc1bb0892538cf4ecea8fe9785_3.tif\n",
            "117 /content/sample_data/f12b9a1d92be06ce9357ae9a12a66e52_1.tif\n",
            "118 /content/sample_data/f2b2ec91a9c04abdf0912d7c53e25375_2.tif\n",
            "119 /content/sample_data/5a6c034929ab5dd708076326ad206261_2.tif\n",
            "120 /content/sample_data/27e71907349fdcdbe194d7ee170ee3e8.tif\n",
            "121 /content/sample_data/47fa53ffb251404ebbce4613e029cdb4.tif\n",
            "122 /content/sample_data/461c0b428363ba6f0bb5a3a425b31b09_1.tif\n",
            "123 /content/sample_data/d7fe5038153863f1991c31af2e4f901a_4.tif\n",
            "124 /content/sample_data/81e513afffd3423a3e34efd26928a11e_2.tif\n",
            "125 /content/sample_data/e1d6a3b9926c31029b5d6a0360fef076.tif\n",
            "126 /content/sample_data/d7fe5038153863f1991c31af2e4f901a_1.tif\n",
            "127 /content/sample_data/48f44aba421433a2856ffb1dcdaa3d2d.tif\n",
            "128 /content/sample_data/7679ff1c8fc5239a90e06d16b03d36a8_2.tif\n",
            "129 /content/sample_data/ab13cc8cb31ec459a4a6601fbba46b38.tif\n",
            "130 /content/sample_data/4106cb065758ce92428b34f0d15e4848_9.tif\n",
            "131 /content/sample_data/8e20c5b100299349efd0339019392688_6.tif\n",
            "132 /content/sample_data/6f1bfb07d872d00e366d5bfaf05ed685.tif\n",
            "133 /content/sample_data/32b1fc5cbe73d5465ef6782e14cb8d1c.tif\n",
            "134 /content/sample_data/ca2a234d58852de50b07a6a216370b6d_1.tif\n",
            "135 /content/sample_data/23da1f0aae50d9e2b044b599dcaea38e_1.tif\n",
            "136 /content/sample_data/c98a06bc768ed92afea8be4a67c26911_1.tif\n",
            "137 /content/sample_data/7679ff1c8fc5239a90e06d16b03d36a8_1.tif\n",
            "138 /content/sample_data/3856c8ff3e6f2dde76add95de3d0ca07_2.tif\n",
            "139 /content/sample_data/4b803581168aa9bf50d55d57f6e1eec7.tif\n",
            "140 /content/sample_data/ac6537f96fb80636cb53b7cd622f5bc8_2.tif\n",
            "141 /content/sample_data/52a641fd852639daaa45556a3d7f3a55_1.tif\n",
            "142 /content/sample_data/8f17b3f63cde2381e558d22498fbd0b9.tif\n",
            "143 /content/sample_data/02148af935993f360f2d9c3ca3eb782a_10.tif\n",
            "144 /content/sample_data/ec11520897b3697b7a99af00d64144f0_6.tif\n",
            "145 /content/sample_data/0c45e17531f95abb9a4eccc2a8caa7ad.tif\n",
            "146 /content/sample_data/8d23666b8cdbb6f8bd189205f009e040_1.tif\n",
            "147 /content/sample_data/4e8fb4e8b8d83fcd5f32a1c912baccae.tif\n",
            "148 /content/sample_data/90e16a31a300a84ae0af957c3a3acb9d_2.tif\n",
            "149 /content/sample_data/f3fe4d4707c050b65948569ce11c30e4_2.tif\n",
            "150 /content/sample_data/f1291ecf84e7796f4d66e8649d2ea187.tif\n",
            "151 /content/sample_data/ce1fd803ed1d255701bbbae6c9f115e7.tif\n",
            "152 /content/sample_data/74bdd082397abc428326f0b5d20e4391.tif\n",
            "153 /content/sample_data/3c4f19a076a741814ea1d21abe8c9fd0_1.tif\n",
            "154 /content/sample_data/1b5b26eea70d2bed49b6a17d456e5662.tif\n",
            "155 /content/sample_data/b9057662f672b5a6d231d9c7efc6838d_2.tif\n",
            "156 /content/sample_data/ba477bfe81ebbb1b720413a2528d7ef3.tif\n",
            "157 /content/sample_data/d5aecd463abb8e65851bd7c5cde7aced.tif\n",
            "158 /content/sample_data/7f19a1ea9dbcdf99a9c78a7fb65d3c9b.tif\n",
            "159 /content/sample_data/3cf16ae1c4b21b53eba598ede578222a_11.tif\n",
            "160 /content/sample_data/6a87460e604881ea8637af297e1203cb.tif\n",
            "161 /content/sample_data/941300c64e74b28a0f8e6279da75fdbf.tif\n",
            "162 /content/sample_data/b6f9fe8b3211985645495963af5fbb92.tif\n",
            "163 /content/sample_data/aa18781ad618f6aae949142d51d13b21_3.tif\n",
            "164 /content/sample_data/1d474b0d56e538e158a3f42bf7bc1014_3.tif\n",
            "165 /content/sample_data/1d2e8136a4a96db48b8916bc2726d474_1.tif\n",
            "166 /content/sample_data/44212463201dbdfe0443f6ea8f229189.tif\n",
            "167 /content/sample_data/bcef979fdc530eba01f536f47878813f.tif\n",
            "168 /content/sample_data/ac15e4343f32abf47d5d561409555d11_1.tif\n",
            "169 /content/sample_data/cf250e5f053cd65aa930c7d76f264d11_1.tif\n",
            "170 /content/sample_data/1694540ff9371090fed21cf56ac9dba3.tif\n",
            "171 /content/sample_data/0148e4778e6d8b22a8980bf4fc89351b_37.tif\n",
            "172 /content/sample_data/b377779e936157605e7665ec64cad21b.tif\n",
            "173 /content/sample_data/e26fb0dbdcb3c4a04df9746f97ef308d_1.tif\n",
            "174 /content/sample_data/c98a06bc768ed92afea8be4a67c26911_2.tif\n",
            "175 /content/sample_data/1f059116c976aadaef2d8320823f99a9.tif\n",
            "176 /content/sample_data/f35ea13820cfa86807f6e7727e2e67c4.tif\n",
            "177 /content/sample_data/3cff137fe2399ad68700b30e486ca355.tif\n",
            "178 /content/sample_data/88f8451bfa4febd530d8c8e61176953d.tif\n",
            "179 /content/sample_data/8a788308be95f04c3ad32380429a6f29_1.tif\n",
            "180 /content/sample_data/157324df63935e01ba0a9550ab8cf172.tif\n",
            "181 /content/sample_data/8c25cad2042e3f54dfe8ac6733059dca_1.tif\n",
            "182 /content/sample_data/7db8eca4d3da52ed2e0d9e60adbd72d6_2.tif\n",
            "183 /content/sample_data/ec702e8e33699b1d6c9ef834278ac61f.tif\n",
            "184 /content/sample_data/2c03d984595488ef1847727694342441_1.tif\n",
            "185 /content/sample_data/2dd410971086c44aa79a0fbf4dc12949.tif\n",
            "186 /content/sample_data/35cabb4a166bfca8b4a49f8d5bbf74f2_1.tif\n",
            "187 /content/sample_data/52a641fd852639daaa45556a3d7f3a55_2.tif\n",
            "188 /content/sample_data/7dba34a0581638791ac2007fd8ee25e9.tif\n",
            "189 /content/sample_data/b9057662f672b5a6d231d9c7efc6838d_1.tif\n",
            "190 /content/sample_data/237ca768be1a45d14145934b6f08d615_2.tif\n",
            "191 /content/sample_data/0f5bb627fa045d97551937ab506e8ab0_1.tif\n",
            "192 /content/sample_data/d21ccfd2667fd9ca221254512900ac17_1.tif\n",
            "193 /content/sample_data/eec4d154cd1528b94b523b0798197301.tif\n",
            "194 /content/sample_data/ef7bc405f9fafb69773bb9739c6c126a.tif\n",
            "195 /content/sample_data/363160d94b589e99b560c79c478513d6_1.tif\n",
            "196 /content/sample_data/afcfb90e729e30b3dc7b09353200dac3.tif\n",
            "197 /content/sample_data/847e91fdb5d5363913b2866bd084b58e_1.tif\n",
            "198 /content/sample_data/2af4976206c338874b12fd33ec18aceb_4.tif\n",
            "199 /content/sample_data/f17681f73a22293d830e7c2a9e0ab10d_2.tif\n",
            "200 /content/sample_data/c9d2121423c6174c4d3eaebb778aa74e.tif\n",
            "201 /content/sample_data/0533a1e934bd69947b247d0e858d854f_4.tif\n",
            "202 /content/sample_data/0f6bc860c0dbac06933e2dbae943b850_2.tif\n",
            "203 /content/sample_data/c29f7d2b95144642cea08a4f4455efe9_2.tif\n",
            "204 /content/sample_data/ac15e4343f32abf47d5d561409555d11_2.tif\n",
            "205 /content/sample_data/5740f241edc8a888a1004e236332ecbe_4.tif\n",
            "206 /content/sample_data/27ba63d3058002be6240905d0ce0a433_1.tif\n",
            "207 /content/sample_data/c29f7d2b95144642cea08a4f4455efe9_6.tif\n",
            "208 /content/sample_data/e890afa2c7d093b261733e0724b009a9.tif\n",
            "209 /content/sample_data/0148e4778e6d8b22a8980bf4fc89351b_12.tif\n",
            "210 /content/sample_data/ada41d64f7082d721ee96cce69dd49ee.tif\n",
            "211 /content/sample_data/47ec118d10165fa499d2a65f7fe49759.tif\n",
            "212 /content/sample_data/f8f36df9b645fa97e0f0ea027195ffc2.tif\n",
            "213 /content/sample_data/aec7b8c45a0cae6856d6975b94923e38.tif\n",
            "214 /content/sample_data/4106cb065758ce92428b34f0d15e4848_14.tif\n",
            "215 /content/sample_data/2b0434d33f4945873c377eb89be0bc8b.tif\n",
            "216 /content/sample_data/818b067a4a47b56127d27d86d15203fa.tif\n",
            "217 /content/sample_data/8b2e30ff3b7c51c0781bf3e2b4078927_2.tif\n",
            "218 /content/sample_data/96c9d24f6ccf0899d15c882e062ffc83_3.tif\n",
            "219 /content/sample_data/84b7d9d91b5e4f982b8473eaafdb5eda_2.tif\n",
            "220 /content/sample_data/834116f765417fb3895d098d6d2ecefb_2.tif\n",
            "221 /content/sample_data/4106cb065758ce92428b34f0d15e4848_5.tif\n",
            "222 /content/sample_data/0533a1e934bd69947b247d0e858d854f_5.tif\n",
            "223 /content/sample_data/61e70745b0e5c4134680f2161dbb0897.tif\n",
            "224 /content/sample_data/5d1c5c93b464ed97c9508befa50e866e_3.tif\n",
            "225 /content/sample_data/52f798c11646c0aa79900612cb43433f_2.tif\n",
            "226 /content/sample_data/0a618bf88fda631953bf0707455e8178.tif\n",
            "227 /content/sample_data/9a9a3db409b4af6fdf6b677aeedab11f_2.tif\n",
            "228 /content/sample_data/5ba8ea1745e03ae9d5324288f2716a2d_1.tif\n",
            "229 /content/sample_data/aa18781ad618f6aae949142d51d13b21_1.tif\n",
            "230 /content/sample_data/083333af6122d35b285b062d52144332.tif\n",
            "231 /content/sample_data/c969c61c59929b2fc98596b37ef31774.tif\n",
            "232 /content/sample_data/e8071e6fd6cf1b9cfd1d8bdd8328a7e9.tif\n",
            "233 /content/sample_data/aa18781ad618f6aae949142d51d13b21_4.tif\n",
            "234 /content/sample_data/29f97d3de882b51f75cec87b7f81726b_2.tif\n",
            "235 /content/sample_data/43e00eab8fa5985f64dc91995dd33bfe.tif\n",
            "236 /content/sample_data/be3ac3513667c46886e2cf27ddedbe36_2.tif\n",
            "237 /content/sample_data/8a9c9db19d634e3370703aa85d7fbd0c.tif\n",
            "238 /content/sample_data/ad729ba5891d6199f01d12d59086bb86_3.tif\n",
            "239 /content/sample_data/ecd45d72b2f887f7abfe06223ae1f6e2.tif\n",
            "240 /content/sample_data/051781786f9fb429f4cc6508ac8e0676_3.tif\n",
            "241 /content/sample_data/2448aa6c9efc2d3e82ce83f2f5b13168.tif\n",
            "242 /content/sample_data/c6eac7dcac43ab7535ceb587ff65cd3b_2.tif\n",
            "243 /content/sample_data/c29f7d2b95144642cea08a4f4455efe9_3.tif\n",
            "244 /content/sample_data/7219ab660be47b31ea259f2607b48850.tif\n",
            "245 /content/sample_data/5009b204206a782e86348f66217b0943.tif\n",
            "246 /content/sample_data/abfb6f72a5fa597faf5504a01e5e3d79_5.tif\n",
            "247 /content/sample_data/081a5d93952b57ecde40bc02b8b70e67_2.tif\n",
            "248 /content/sample_data/0148e4778e6d8b22a8980bf4fc89351b_25.tif\n",
            "249 /content/sample_data/6103ce8203bae073bc7fbe4d839442e6.tif\n",
            "250 /content/sample_data/2901d78cd3470b6283bfdc8ccb41538a_10.tif\n",
            "251 /content/sample_data/fd40cbeac18b5764fbd2f8d1d52e5640.tif\n",
            "[{'file_name': '/content/sample_data/6a381bb657efa536ec4b11dd3a608820.tif', 'instances': Instances(num_instances=1, image_height=1575, image_width=1200, fields=[pred_boxes: Boxes(tensor([[ 705.2631, 1113.5127,  909.6486, 1162.6550]])), scores: tensor([0.9797]), pred_classes: tensor([1])])}, {'file_name': '/content/sample_data/eb09d89ba31fed396d5a5a8d8a9d1828.tif', 'instances': Instances(num_instances=2, image_height=3254, image_width=2544, fields=[pred_boxes: Boxes(tensor([[1465.2926, 2686.2573, 1955.6027, 2875.2957],\n",
            "        [1465.1714, 2693.2786, 1950.8807, 2786.7654]])), scores: tensor([0.9862, 0.7177]), pred_classes: tensor([1, 1])])}, {'file_name': '/content/sample_data/69a1fa63b5ef242c6f358c2975e3ac35.tif', 'instances': Instances(num_instances=1, image_height=1575, image_width=1200, fields=[pred_boxes: Boxes(tensor([[ 617.0126, 1001.3356,  831.1437, 1077.8809]])), scores: tensor([0.9946]), pred_classes: tensor([1])])}, {'file_name': '/content/sample_data/27124678eef95d8801ac23d9f5f1ad55.tif', 'instances': Instances(num_instances=1, image_height=3296, image_width=2560, fields=[pred_boxes: Boxes(tensor([[1257.5482, 2313.8601, 1654.6566, 2639.4890]])), scores: tensor([0.9963]), pred_classes: tensor([1])])}, {'file_name': '/content/sample_data/bfe582366beebd7f8848bbf53d6304be_3.tif', 'instances': Instances(num_instances=0, image_height=2292, image_width=1728, fields=[pred_boxes: Boxes(tensor([], size=(0, 4))), scores: tensor([]), pred_classes: tensor([], dtype=torch.int64)])}, {'file_name': '/content/sample_data/3832e7dac6c2fc6750c7ad7aadda9a95.tif', 'instances': Instances(num_instances=3, image_height=3255, image_width=2544, fields=[pred_boxes: Boxes(tensor([[1347.7411, 2908.6736, 2149.7019, 3000.9473],\n",
            "        [1376.4768, 2587.3977, 1933.6201, 2699.5000],\n",
            "        [1331.9839, 2717.7905, 1807.2751, 2847.1597]])), scores: tensor([0.9944, 0.9891, 0.9834]), pred_classes: tensor([1, 1, 1])])}, {'file_name': '/content/sample_data/aa18781ad618f6aae949142d51d13b21_2.tif', 'instances': Instances(num_instances=0, image_height=1575, image_width=1200, fields=[pred_boxes: Boxes(tensor([], size=(0, 4))), scores: tensor([]), pred_classes: tensor([], dtype=torch.int64)])}, {'file_name': '/content/sample_data/75afebf5f040177e9b1e35d8119a04c3_2.tif', 'instances': Instances(num_instances=1, image_height=3288, image_width=2544, fields=[pred_boxes: Boxes(tensor([[1275.0728, 1195.4836, 1922.3607, 1319.0983]])), scores: tensor([0.9965]), pred_classes: tensor([1])])}, {'file_name': '/content/sample_data/c1c43fe5d79a70bf949c05e5b8ed267d_1.tif', 'instances': Instances(num_instances=0, image_height=1575, image_width=1200, fields=[pred_boxes: Boxes(tensor([], size=(0, 4))), scores: tensor([]), pred_classes: tensor([], dtype=torch.int64)])}, {'file_name': '/content/sample_data/1038a29f20f610df2e01b36f51bc9a31.tif', 'instances': Instances(num_instances=1, image_height=1575, image_width=1200, fields=[pred_boxes: Boxes(tensor([[ 596.3365, 1139.7701,  824.3505, 1213.0504]])), scores: tensor([0.9950]), pred_classes: tensor([1])])}, {'file_name': '/content/sample_data/e17e418919f88f7155b85f2bf58e7975.tif', 'instances': Instances(num_instances=2, image_height=3119, image_width=2536, fields=[pred_boxes: Boxes(tensor([[1279.9913, 2627.6423, 2174.4243, 2990.5242],\n",
            "        [1287.1110, 2700.4985, 2011.0989, 2877.7200]])), scores: tensor([0.9662, 0.8932]), pred_classes: tensor([1, 1])])}, {'file_name': '/content/sample_data/4b520da4e68716484a7374a42bf7e2a9_2.tif', 'instances': Instances(num_instances=1, image_height=3150, image_width=2400, fields=[pred_boxes: Boxes(tensor([[ 383.3508, 1113.7061,  910.9594, 1207.9675]])), scores: tensor([0.9951]), pred_classes: tensor([1])])}, {'file_name': '/content/sample_data/ebfea1a0350207555bb9ce733d3ea7fd_3.tif', 'instances': Instances(num_instances=4, image_height=3300, image_width=2560, fields=[pred_boxes: Boxes(tensor([[1363.1185, 1477.9647, 2103.7290, 1627.9553],\n",
            "        [ 299.9127, 1894.7914,  813.6680, 2033.3859],\n",
            "        [ 312.4303, 2168.3352,  833.0942, 2292.2664],\n",
            "        [1379.4136, 1939.1763, 1856.6077, 2027.4442]])), scores: tensor([0.9938, 0.9861, 0.8264, 0.7762]), pred_classes: tensor([1, 1, 1, 1])])}, {'file_name': '/content/sample_data/bcef979fdc530eba01f536f47878813f_1.tif', 'instances': Instances(num_instances=1, image_height=1575, image_width=1200, fields=[pred_boxes: Boxes(tensor([[628.5739, 898.5529, 876.3773, 974.5120]])), scores: tensor([0.9978]), pred_classes: tensor([1])])}, {'file_name': '/content/sample_data/ca2a234d58852de50b07a6a216370b6d_7.tif', 'instances': Instances(num_instances=1, image_height=3265, image_width=2544, fields=[pred_boxes: Boxes(tensor([[1684.0227, 2431.3545, 2335.7412, 2547.3508]])), scores: tensor([0.9957]), pred_classes: tensor([1])])}, {'file_name': '/content/sample_data/bcef979fdc530eba01f536f47878813f_2.tif', 'instances': Instances(num_instances=2, image_height=1575, image_width=1200, fields=[pred_boxes: Boxes(tensor([[ 322.3300,  879.5233,  631.0396, 1239.3918],\n",
            "        [ 332.6175,  194.4678,  647.1504,  517.9351]])), scores: tensor([0.8729, 0.7913]), pred_classes: tensor([1, 1])])}, {'file_name': '/content/sample_data/6b816984ec5fbd0541836da977d4570d_3.tif', 'instances': Instances(num_instances=0, image_height=2292, image_width=1728, fields=[pred_boxes: Boxes(tensor([], size=(0, 4))), scores: tensor([]), pred_classes: tensor([], dtype=torch.int64)])}, {'file_name': '/content/sample_data/4cb366eee206bc9f0b48c0c8d7cc94ae.tif', 'instances': Instances(num_instances=1, image_height=3150, image_width=2400, fields=[pred_boxes: Boxes(tensor([[1240.5521, 2178.9846, 1634.2754, 2345.2971]])), scores: tensor([0.9980]), pred_classes: tensor([1])])}, {'file_name': '/content/sample_data/dc703955d59f63982f81892900824cc4_2.tif', 'instances': Instances(num_instances=0, image_height=3026, image_width=2560, fields=[pred_boxes: Boxes(tensor([], size=(0, 4))), scores: tensor([]), pred_classes: tensor([], dtype=torch.int64)])}, {'file_name': '/content/sample_data/d0813ddce0c72c0fb0c33257903d518d_5.tif', 'instances': Instances(num_instances=0, image_height=1575, image_width=1200, fields=[pred_boxes: Boxes(tensor([], size=(0, 4))), scores: tensor([]), pred_classes: tensor([], dtype=torch.int64)])}, {'file_name': '/content/sample_data/ad729ba5891d6199f01d12d59086bb86_1.tif', 'instances': Instances(num_instances=0, image_height=3304, image_width=2624, fields=[pred_boxes: Boxes(tensor([], size=(0, 4))), scores: tensor([]), pred_classes: tensor([], dtype=torch.int64)])}, {'file_name': '/content/sample_data/741b84cb122cba80c73c8ef585f7d942_1.tif', 'instances': Instances(num_instances=0, image_height=2292, image_width=1728, fields=[pred_boxes: Boxes(tensor([], size=(0, 4))), scores: tensor([]), pred_classes: tensor([], dtype=torch.int64)])}, {'file_name': '/content/sample_data/b76c113a590bac5583eb93912252fd4f_2.tif', 'instances': Instances(num_instances=1, image_height=3150, image_width=2400, fields=[pred_boxes: Boxes(tensor([[1104.8901,  703.3984, 1700.4174,  871.6376]])), scores: tensor([0.9972]), pred_classes: tensor([1])])}, {'file_name': '/content/sample_data/14cff1e5fc1ede8bd192912a74248498.tif', 'instances': Instances(num_instances=1, image_height=2156, image_width=1728, fields=[pred_boxes: Boxes(tensor([[ 845.2037, 1639.1570, 1142.3184, 1715.9712]])), scores: tensor([0.9980]), pred_classes: tensor([1])])}, {'file_name': '/content/sample_data/8e20c5b100299349efd0339019392688_3.tif', 'instances': Instances(num_instances=0, image_height=1575, image_width=1200, fields=[pred_boxes: Boxes(tensor([], size=(0, 4))), scores: tensor([]), pred_classes: tensor([], dtype=torch.int64)])}, {'file_name': '/content/sample_data/8b3f89e07f89af210e8fa6f13ab68b8d_2.tif', 'instances': Instances(num_instances=0, image_height=3296, image_width=2560, fields=[pred_boxes: Boxes(tensor([], size=(0, 4))), scores: tensor([]), pred_classes: tensor([], dtype=torch.int64)])}, {'file_name': '/content/sample_data/eb74dd87d0a9b876ad10a764469e94f7_2.tif', 'instances': Instances(num_instances=1, image_height=3150, image_width=2400, fields=[pred_boxes: Boxes(tensor([[1199.1279,  529.7728, 1910.7148,  726.9980]])), scores: tensor([0.9971]), pred_classes: tensor([1])])}, {'file_name': '/content/sample_data/02148af935993f360f2d9c3ca3eb782a_8.tif', 'instances': Instances(num_instances=0, image_height=1575, image_width=1200, fields=[pred_boxes: Boxes(tensor([], size=(0, 4))), scores: tensor([]), pred_classes: tensor([], dtype=torch.int64)])}, {'file_name': '/content/sample_data/9a95439e31a3a518a5553be861d99a7a_1.tif', 'instances': Instances(num_instances=1, image_height=1575, image_width=1200, fields=[pred_boxes: Boxes(tensor([[775.6753, 895.3291, 934.1980, 967.8806]])), scores: tensor([0.9972]), pred_classes: tensor([1])])}, {'file_name': '/content/sample_data/c26466dc96f28a4ebd901799d53c60ab.tif', 'instances': Instances(num_instances=1, image_height=3275, image_width=2560, fields=[pred_boxes: Boxes(tensor([[ 386.0084, 2392.6753, 1310.6844, 2677.8904]])), scores: tensor([0.9736]), pred_classes: tensor([1])])}, {'file_name': '/content/sample_data/440093428bfce70c0c2f83dbe121d28a.tif', 'instances': Instances(num_instances=1, image_height=2292, image_width=1728, fields=[pred_boxes: Boxes(tensor([[1096.0588, 1294.3546, 1329.0583, 1363.4890]])), scores: tensor([0.9957]), pred_classes: tensor([1])])}, {'file_name': '/content/sample_data/843f22d756fd68cfafc952fd7c2496d5_2.tif', 'instances': Instances(num_instances=0, image_height=1575, image_width=1200, fields=[pred_boxes: Boxes(tensor([], size=(0, 4))), scores: tensor([]), pred_classes: tensor([], dtype=torch.int64)])}, {'file_name': '/content/sample_data/2597dd3149842ddc6435b7024c45fbb8_1.tif', 'instances': Instances(num_instances=0, image_height=3296, image_width=2560, fields=[pred_boxes: Boxes(tensor([], size=(0, 4))), scores: tensor([]), pred_classes: tensor([], dtype=torch.int64)])}, {'file_name': '/content/sample_data/4ca8d0d55601876d3e7742c4db5df7a8.tif', 'instances': Instances(num_instances=1, image_height=3302, image_width=2560, fields=[pred_boxes: Boxes(tensor([[1152.5557, 1892.7461, 1877.9268, 2092.9175]])), scores: tensor([0.9954]), pred_classes: tensor([1])])}, {'file_name': '/content/sample_data/5b17ed3b970a83bcd89acdfed20c0c67.tif', 'instances': Instances(num_instances=1, image_height=3125, image_width=2536, fields=[pred_boxes: Boxes(tensor([[ 118.0329, 2622.4365, 1217.8705, 2810.0710]])), scores: tensor([0.9896]), pred_classes: tensor([1])])}, {'file_name': '/content/sample_data/833992cc1bb0892538cf4ecea8fe9785_2.tif', 'instances': Instances(num_instances=0, image_height=1575, image_width=1200, fields=[pred_boxes: Boxes(tensor([], size=(0, 4))), scores: tensor([]), pred_classes: tensor([], dtype=torch.int64)])}, {'file_name': '/content/sample_data/9ab54e46518a644986174cdceede443b.tif', 'instances': Instances(num_instances=1, image_height=3150, image_width=2400, fields=[pred_boxes: Boxes(tensor([[1301.2343, 2111.3000, 2059.5828, 2408.3186]])), scores: tensor([0.9983]), pred_classes: tensor([1])])}, {'file_name': '/content/sample_data/52a641fd852639daaa45556a3d7f3a55_6.tif', 'instances': Instances(num_instances=0, image_height=1575, image_width=1200, fields=[pred_boxes: Boxes(tensor([], size=(0, 4))), scores: tensor([]), pred_classes: tensor([], dtype=torch.int64)])}, {'file_name': '/content/sample_data/2b39a63db00417e8838bcc6256e903a1_1.tif', 'instances': Instances(num_instances=0, image_height=3323, image_width=2560, fields=[pred_boxes: Boxes(tensor([], size=(0, 4))), scores: tensor([]), pred_classes: tensor([], dtype=torch.int64)])}, {'file_name': '/content/sample_data/02701be3fc048a3b7e2ce7a4b2a05aad.tif', 'instances': Instances(num_instances=1, image_height=1575, image_width=1200, fields=[pred_boxes: Boxes(tensor([[ 607.5527, 1069.2190,  807.3077, 1143.1738]])), scores: tensor([0.9988]), pred_classes: tensor([1])])}, {'file_name': '/content/sample_data/859aa4c546d2b3e727cd96455e576c54.tif', 'instances': Instances(num_instances=1, image_height=3177, image_width=2560, fields=[pred_boxes: Boxes(tensor([[1262.0598, 1915.3058, 1909.0475, 2096.2783]])), scores: tensor([0.9960]), pred_classes: tensor([1])])}, {'file_name': '/content/sample_data/e882a0ff6993d79e93822f7a50bcd137_2.tif', 'instances': Instances(num_instances=1, image_height=3150, image_width=2400, fields=[pred_boxes: Boxes(tensor([[1260.8142, 1711.1422, 2234.5125, 1885.0320]])), scores: tensor([0.9901]), pred_classes: tensor([1])])}, {'file_name': '/content/sample_data/64dfdeb472cdd0350b654eecab8f3e98.tif', 'instances': Instances(num_instances=1, image_height=3296, image_width=2560, fields=[pred_boxes: Boxes(tensor([[1698.0944, 2797.3833, 1952.3080, 3098.0056]])), scores: tensor([0.9975]), pred_classes: tensor([1])])}, {'file_name': '/content/sample_data/3598b981fd75d09523dd049614fab8f1.tif', 'instances': Instances(num_instances=1, image_height=1575, image_width=1200, fields=[pred_boxes: Boxes(tensor([[ 657.0682,  929.4098,  932.9135, 1020.0294]])), scores: tensor([0.9957]), pred_classes: tensor([1])])}, {'file_name': '/content/sample_data/2af4976206c338874b12fd33ec18aceb_8.tif', 'instances': Instances(num_instances=0, image_height=1575, image_width=1200, fields=[pred_boxes: Boxes(tensor([], size=(0, 4))), scores: tensor([]), pred_classes: tensor([], dtype=torch.int64)])}, {'file_name': '/content/sample_data/f3d058f08f7612b07520701b5c7ec7e5_1.tif', 'instances': Instances(num_instances=1, image_height=3296, image_width=2560, fields=[pred_boxes: Boxes(tensor([[1354.3739, 2254.8130, 1690.8719, 2513.4465]])), scores: tensor([0.9884]), pred_classes: tensor([1])])}, {'file_name': '/content/sample_data/70fb7730f6a6a9a7886d6258ae850abe_1.tif', 'instances': Instances(num_instances=1, image_height=1575, image_width=1200, fields=[pred_boxes: Boxes(tensor([[734.3369, 905.9079, 906.1745, 989.2465]])), scores: tensor([0.9986]), pred_classes: tensor([1])])}, {'file_name': '/content/sample_data/d99f3a9446d06d9f027e632f4b781f77_1.tif', 'instances': Instances(num_instances=0, image_height=3264, image_width=2560, fields=[pred_boxes: Boxes(tensor([], size=(0, 4))), scores: tensor([]), pred_classes: tensor([], dtype=torch.int64)])}, {'file_name': '/content/sample_data/2870a573bd58f699613872199365625d_1.tif', 'instances': Instances(num_instances=1, image_height=2292, image_width=1728, fields=[pred_boxes: Boxes(tensor([[ 908.2579, 1802.5737, 1572.9916, 1942.8354]])), scores: tensor([0.9852]), pred_classes: tensor([1])])}, {'file_name': '/content/sample_data/48b7ff5df20f9896f9102e2c98ef26f9.tif', 'instances': Instances(num_instances=1, image_height=3271, image_width=2560, fields=[pred_boxes: Boxes(tensor([[ 413.9448, 2383.1060, 1248.6716, 2626.1953]])), scores: tensor([0.9905]), pred_classes: tensor([1])])}, {'file_name': '/content/sample_data/f95151d46ab46fe856074feb728f4190.tif', 'instances': Instances(num_instances=1, image_height=1575, image_width=1200, fields=[pred_boxes: Boxes(tensor([[ 658.9079, 1123.0391,  879.5786, 1177.9652]])), scores: tensor([0.9968]), pred_classes: tensor([1])])}, {'file_name': '/content/sample_data/ec11520897b3697b7a99af00d64144f0_3.tif', 'instances': Instances(num_instances=0, image_height=1575, image_width=1200, fields=[pred_boxes: Boxes(tensor([], size=(0, 4))), scores: tensor([]), pred_classes: tensor([], dtype=torch.int64)])}, {'file_name': '/content/sample_data/a9f685568aeeef0b2dc6322bccdfc3eb_3.tif', 'instances': Instances(num_instances=0, image_height=1575, image_width=1200, fields=[pred_boxes: Boxes(tensor([], size=(0, 4))), scores: tensor([]), pred_classes: tensor([], dtype=torch.int64)])}, {'file_name': '/content/sample_data/47ad6d7c0e2e7b7a61a05000669bfbb8.tif', 'instances': Instances(num_instances=2, image_height=2292, image_width=1728, fields=[pred_boxes: Boxes(tensor([[1028.7423, 1319.5709, 1435.0497, 1449.3124],\n",
            "        [ 527.4783, 1325.7427,  825.2310, 1461.3767]])), scores: tensor([0.9975, 0.9969]), pred_classes: tensor([1, 1])])}, {'file_name': '/content/sample_data/23da1f0aae50d9e2b044b599dcaea38e_2.tif', 'instances': Instances(num_instances=1, image_height=1575, image_width=1200, fields=[pred_boxes: Boxes(tensor([[510.0067, 742.5809, 774.9752, 786.2383]])), scores: tensor([0.9894]), pred_classes: tensor([1])])}, {'file_name': '/content/sample_data/2af4976206c338874b12fd33ec18aceb_32.tif', 'instances': Instances(num_instances=0, image_height=1575, image_width=1200, fields=[pred_boxes: Boxes(tensor([], size=(0, 4))), scores: tensor([]), pred_classes: tensor([], dtype=torch.int64)])}, {'file_name': '/content/sample_data/0d26d1e0574f8c36cf6091d04e84dfdb.tif', 'instances': Instances(num_instances=0, image_height=1575, image_width=1200, fields=[pred_boxes: Boxes(tensor([], size=(0, 4))), scores: tensor([]), pred_classes: tensor([], dtype=torch.int64)])}, {'file_name': '/content/sample_data/6f52adbcded6525df92e699a0cbfb1f9.tif', 'instances': Instances(num_instances=2, image_height=2292, image_width=1728, fields=[pred_boxes: Boxes(tensor([[  98.2089, 1831.1943,  490.3209, 2005.2560],\n",
            "        [1223.9481, 1453.1370, 1373.8271, 1509.5063]])), scores: tensor([0.9975, 0.9899]), pred_classes: tensor([1, 1])])}, {'file_name': '/content/sample_data/a2d03463f8e34b2af50242d9dc122a47.tif', 'instances': Instances(num_instances=1, image_height=2292, image_width=1728, fields=[pred_boxes: Boxes(tensor([[ 853.4022, 1357.5660, 1404.6029, 1496.3345]])), scores: tensor([0.9970]), pred_classes: tensor([1])])}, {'file_name': '/content/sample_data/1b6d0840c3277fe4ac4215b5bc8aecfd.tif', 'instances': Instances(num_instances=1, image_height=1575, image_width=1200, fields=[pred_boxes: Boxes(tensor([[674.9849, 824.5886, 932.5807, 903.1461]])), scores: tensor([0.9982]), pred_classes: tensor([1])])}, {'file_name': '/content/sample_data/e630893e4a9a2696bfa7f7c2ecdcee52.tif', 'instances': Instances(num_instances=1, image_height=2292, image_width=1728, fields=[pred_boxes: Boxes(tensor([[ 666.8954, 1278.9855, 1276.7064, 1386.2871]])), scores: tensor([0.9977]), pred_classes: tensor([1])])}, {'file_name': '/content/sample_data/c1056529ee761ff7cbf513dc6cca6fd4_6.tif', 'instances': Instances(num_instances=0, image_height=1575, image_width=1200, fields=[pred_boxes: Boxes(tensor([], size=(0, 4))), scores: tensor([]), pred_classes: tensor([], dtype=torch.int64)])}, {'file_name': '/content/sample_data/2901d78cd3470b6283bfdc8ccb41538a_6.tif', 'instances': Instances(num_instances=1, image_height=3278, image_width=2544, fields=[pred_boxes: Boxes(tensor([[1534.4523, 1204.5215, 2355.8706, 1330.1527]])), scores: tensor([0.9592]), pred_classes: tensor([1])])}, {'file_name': '/content/sample_data/794cb1934863cdcffa46755cc8a19c4e.tif', 'instances': Instances(num_instances=1, image_height=2292, image_width=1728, fields=[pred_boxes: Boxes(tensor([[ 873.4047, 1525.1362, 1099.2769, 1677.7484]])), scores: tensor([0.9982]), pred_classes: tensor([1])])}, {'file_name': '/content/sample_data/0370ca51b827c0f72a8f6b6a83e4411a.tif', 'instances': Instances(num_instances=1, image_height=2292, image_width=1728, fields=[pred_boxes: Boxes(tensor([[ 342.0503, 1685.2758,  626.1879, 1750.1298]])), scores: tensor([0.9953]), pred_classes: tensor([1])])}, {'file_name': '/content/sample_data/05dbb8801643d58f9aa7c1d1de0ea6c2.tif', 'instances': Instances(num_instances=1, image_height=3243, image_width=2544, fields=[pred_boxes: Boxes(tensor([[1144.0811, 2669.5818, 1844.5703, 2854.8291]])), scores: tensor([0.9970]), pred_classes: tensor([1])])}, {'file_name': '/content/sample_data/dd1fb8dfe7627a21fd3b1db9f975f616.tif', 'instances': Instances(num_instances=1, image_height=3300, image_width=2480, fields=[pred_boxes: Boxes(tensor([[1500.8356, 2050.7234, 2107.1802, 2158.6987]])), scores: tensor([0.9985]), pred_classes: tensor([1])])}, {'file_name': '/content/sample_data/bd017a684aa93257d7c79fedde4d24e7_3.tif', 'instances': Instances(num_instances=0, image_height=2292, image_width=1728, fields=[pred_boxes: Boxes(tensor([], size=(0, 4))), scores: tensor([]), pred_classes: tensor([], dtype=torch.int64)])}, {'file_name': '/content/sample_data/70fb7730f6a6a9a7886d6258ae850abe_2.tif', 'instances': Instances(num_instances=0, image_height=1575, image_width=1200, fields=[pred_boxes: Boxes(tensor([], size=(0, 4))), scores: tensor([]), pred_classes: tensor([], dtype=torch.int64)])}, {'file_name': '/content/sample_data/29ecd87fe6f74f21759b8776c79f8614.tif', 'instances': Instances(num_instances=1, image_height=1575, image_width=1200, fields=[pred_boxes: Boxes(tensor([[ 637.7808,  700.9055, 1023.9158,  800.2313]])), scores: tensor([0.9973]), pred_classes: tensor([1])])}, {'file_name': '/content/sample_data/093e2707ae252960934357cbf04569c3.tif', 'instances': Instances(num_instances=1, image_height=2292, image_width=1728, fields=[pred_boxes: Boxes(tensor([[ 637.9302, 1862.6440, 1064.3491, 2046.3210]])), scores: tensor([0.9972]), pred_classes: tensor([1])])}, {'file_name': '/content/sample_data/f12b9a1d92be06ce9357ae9a12a66e52_2.tif', 'instances': Instances(num_instances=1, image_height=1575, image_width=1200, fields=[pred_boxes: Boxes(tensor([[699.1307, 496.1786, 993.3684, 623.5231]])), scores: tensor([0.9961]), pred_classes: tensor([1])])}, {'file_name': '/content/sample_data/f6690637ad8d45c5a712cb3afb86b54c_3.tif', 'instances': Instances(num_instances=0, image_height=1575, image_width=1200, fields=[pred_boxes: Boxes(tensor([], size=(0, 4))), scores: tensor([]), pred_classes: tensor([], dtype=torch.int64)])}, {'file_name': '/content/sample_data/489e5d546e50dbd33740065569f4e59c.tif', 'instances': Instances(num_instances=1, image_height=3217, image_width=2560, fields=[pred_boxes: Boxes(tensor([[1647.9479, 1706.6133, 2053.8323, 1845.0985]])), scores: tensor([0.9981]), pred_classes: tensor([1])])}, {'file_name': '/content/sample_data/0a948131fe85c38152c0b9b22f7c09fc_1.tif', 'instances': Instances(num_instances=0, image_height=3267, image_width=2544, fields=[pred_boxes: Boxes(tensor([], size=(0, 4))), scores: tensor([]), pred_classes: tensor([], dtype=torch.int64)])}, {'file_name': '/content/sample_data/a10e148d1b37959b5551663847bfa0fe.tif', 'instances': Instances(num_instances=1, image_height=2292, image_width=1728, fields=[pred_boxes: Boxes(tensor([[ 279.9641, 1658.0560,  561.8609, 1730.9270]])), scores: tensor([0.9359]), pred_classes: tensor([1])])}, {'file_name': '/content/sample_data/b92bc38b3add1765067113c29e585921.tif', 'instances': Instances(num_instances=1, image_height=3313, image_width=2544, fields=[pred_boxes: Boxes(tensor([[1453.6281, 2632.9463, 2150.3838, 2932.1008]])), scores: tensor([0.9924]), pred_classes: tensor([1])])}, {'file_name': '/content/sample_data/1722e3504190bd3560bb0f4b16aec6dc_1.tif', 'instances': Instances(num_instances=1, image_height=1575, image_width=1200, fields=[pred_boxes: Boxes(tensor([[ 569.6562, 1118.6040,  861.7848, 1271.0967]])), scores: tensor([0.9955]), pred_classes: tensor([1])])}, {'file_name': '/content/sample_data/3cf16ae1c4b21b53eba598ede578222a_1.tif', 'instances': Instances(num_instances=0, image_height=2292, image_width=1728, fields=[pred_boxes: Boxes(tensor([], size=(0, 4))), scores: tensor([]), pred_classes: tensor([], dtype=torch.int64)])}, {'file_name': '/content/sample_data/e1c39b2cd75cbe3e140791382085cd6b_2.tif', 'instances': Instances(num_instances=0, image_height=2156, image_width=1728, fields=[pred_boxes: Boxes(tensor([], size=(0, 4))), scores: tensor([]), pred_classes: tensor([], dtype=torch.int64)])}, {'file_name': '/content/sample_data/0148e4778e6d8b22a8980bf4fc89351b_30.tif', 'instances': Instances(num_instances=0, image_height=1575, image_width=1200, fields=[pred_boxes: Boxes(tensor([], size=(0, 4))), scores: tensor([]), pred_classes: tensor([], dtype=torch.int64)])}, {'file_name': '/content/sample_data/fef37ea5a0c4dd7978a4a433fa3a31ce_2.tif', 'instances': Instances(num_instances=0, image_height=1575, image_width=1200, fields=[pred_boxes: Boxes(tensor([], size=(0, 4))), scores: tensor([]), pred_classes: tensor([], dtype=torch.int64)])}, {'file_name': '/content/sample_data/0d338061a285cb5d573481a4662f401a.tif', 'instances': Instances(num_instances=1, image_height=3300, image_width=2544, fields=[pred_boxes: Boxes(tensor([[ 401.8329, 2336.8977,  833.7624, 2516.4114]])), scores: tensor([0.9982]), pred_classes: tensor([1])])}, {'file_name': '/content/sample_data/5b2d9b4fe0607c1026393f5150d1f4fc.tif', 'instances': Instances(num_instances=1, image_height=3256, image_width=2560, fields=[pred_boxes: Boxes(tensor([[1174.3807, 2202.7437, 1977.5764, 2410.9382]])), scores: tensor([0.9943]), pred_classes: tensor([1])])}, {'file_name': '/content/sample_data/b7e828906496c359de4040f47f360358_2.tif', 'instances': Instances(num_instances=1, image_height=3258, image_width=2544, fields=[pred_boxes: Boxes(tensor([[ 401.9695, 1407.1875, 1042.3320, 1565.3777]])), scores: tensor([0.9979]), pred_classes: tensor([1])])}, {'file_name': '/content/sample_data/5b3e4de6da2a3165c4ee76b543f205ea_2.tif', 'instances': Instances(num_instances=1, image_height=3280, image_width=2544, fields=[pred_boxes: Boxes(tensor([[1194.1050, 1048.0876, 1772.2120, 1225.4689]])), scores: tensor([0.9979]), pred_classes: tensor([1])])}, {'file_name': '/content/sample_data/ec05648467538a1ede83914c61413105_2.tif', 'instances': Instances(num_instances=1, image_height=3341, image_width=2560, fields=[pred_boxes: Boxes(tensor([[1123.1571, 1915.7125, 1964.9037, 2212.5837]])), scores: tensor([0.9971]), pred_classes: tensor([1])])}, {'file_name': '/content/sample_data/f63389d3dc870e6bb0286ea5453dc838.tif', 'instances': Instances(num_instances=1, image_height=2292, image_width=1728, fields=[pred_boxes: Boxes(tensor([[1016.0696, 1355.1355, 1392.5048, 1495.5110]])), scores: tensor([0.9990]), pred_classes: tensor([1])])}, {'file_name': '/content/sample_data/52a0c51a16f05bf71b81b3ca9a436380.tif', 'instances': Instances(num_instances=2, image_height=3295, image_width=2560, fields=[pred_boxes: Boxes(tensor([[1142.4650, 2066.5278, 2200.6899, 2375.2588],\n",
            "        [1170.0609, 2074.9434, 2219.6863, 2224.2466]])), scores: tensor([0.9945, 0.9112]), pred_classes: tensor([1, 1])])}, {'file_name': '/content/sample_data/2a3b508ae7e65a09b65f6d5bde660a8f_2.tif', 'instances': Instances(num_instances=0, image_height=1575, image_width=1200, fields=[pred_boxes: Boxes(tensor([], size=(0, 4))), scores: tensor([]), pred_classes: tensor([], dtype=torch.int64)])}, {'file_name': '/content/sample_data/c1056529ee761ff7cbf513dc6cca6fd4_8.tif', 'instances': Instances(num_instances=0, image_height=1575, image_width=1200, fields=[pred_boxes: Boxes(tensor([], size=(0, 4))), scores: tensor([]), pred_classes: tensor([], dtype=torch.int64)])}, {'file_name': '/content/sample_data/d8bfc6ecdcdf89f1f800c4fa061ba0a8.tif', 'instances': Instances(num_instances=1, image_height=2292, image_width=1728, fields=[pred_boxes: Boxes(tensor([[ 716.3453, 1693.6144, 1012.7407, 1795.4839]])), scores: tensor([0.9962]), pred_classes: tensor([1])])}, {'file_name': '/content/sample_data/237ca768be1a45d14145934b6f08d615_1.tif', 'instances': Instances(num_instances=1, image_height=1575, image_width=1200, fields=[pred_boxes: Boxes(tensor([[820.1135, 860.8877, 951.3833, 923.2571]])), scores: tensor([0.9974]), pred_classes: tensor([1])])}, {'file_name': '/content/sample_data/d3c7bb268afb3ba438b1ed56fa4f247a.tif', 'instances': Instances(num_instances=1, image_height=3262, image_width=2560, fields=[pred_boxes: Boxes(tensor([[1131.8121, 1708.4209, 2146.0298, 1858.3127]])), scores: tensor([0.9967]), pred_classes: tensor([1])])}, {'file_name': '/content/sample_data/d4dfbdddc3e02c1e4891773f0b26f73e.tif', 'instances': Instances(num_instances=1, image_height=1575, image_width=1200, fields=[pred_boxes: Boxes(tensor([[ 555.3857, 1133.3695,  798.2964, 1165.8914]])), scores: tensor([0.9933]), pred_classes: tensor([1])])}, {'file_name': '/content/sample_data/f7744d49d65d3c116b4b343974be2f2a.tif', 'instances': Instances(num_instances=3, image_height=1575, image_width=1200, fields=[pred_boxes: Boxes(tensor([[ 635.9844,  995.1758,  811.2295, 1048.0734],\n",
            "        [ 202.6523, 1139.1139,  465.6274, 1213.5021],\n",
            "        [ 221.4582, 1174.9443,  467.5026, 1212.4685]])), scores: tensor([0.9973, 0.9205, 0.8013]), pred_classes: tensor([1, 1, 1])])}, {'file_name': '/content/sample_data/b6c8c5afc4c2eed12844de9120f1806d_1.tif', 'instances': Instances(num_instances=0, image_height=3294, image_width=2560, fields=[pred_boxes: Boxes(tensor([], size=(0, 4))), scores: tensor([]), pred_classes: tensor([], dtype=torch.int64)])}, {'file_name': '/content/sample_data/1bd2523b9656a823c86e768c3db75699_2.tif', 'instances': Instances(num_instances=1, image_height=2292, image_width=1728, fields=[pred_boxes: Boxes(tensor([[ 927.7190,  770.0742, 1106.5474,  939.6428]])), scores: tensor([0.9984]), pred_classes: tensor([1])])}, {'file_name': '/content/sample_data/0f6bc860c0dbac06933e2dbae943b850_4.tif', 'instances': Instances(num_instances=0, image_height=1575, image_width=1200, fields=[pred_boxes: Boxes(tensor([], size=(0, 4))), scores: tensor([]), pred_classes: tensor([], dtype=torch.int64)])}, {'file_name': '/content/sample_data/c0b84f027df8a69add66559d915ad6f2_2.tif', 'instances': Instances(num_instances=1, image_height=2292, image_width=1728, fields=[pred_boxes: Boxes(tensor([[ 278.9699, 1646.4280,  635.8167, 1799.1886]])), scores: tensor([0.9965]), pred_classes: tensor([1])])}, {'file_name': '/content/sample_data/c816e5457fc313c27bd38ebc1658b4b8_2.tif', 'instances': Instances(num_instances=0, image_height=1575, image_width=1200, fields=[pred_boxes: Boxes(tensor([], size=(0, 4))), scores: tensor([]), pred_classes: tensor([], dtype=torch.int64)])}, {'file_name': '/content/sample_data/dc703955d59f63982f81892900824cc4_1.tif', 'instances': Instances(num_instances=1, image_height=3037, image_width=2560, fields=[pred_boxes: Boxes(tensor([[1645.7373, 1992.8389, 2174.7046, 2128.8245]])), scores: tensor([0.9988]), pred_classes: tensor([1])])}, {'file_name': '/content/sample_data/7dbd05a83a7eb8a6ab319be91f212e04.tif', 'instances': Instances(num_instances=1, image_height=3150, image_width=2400, fields=[pred_boxes: Boxes(tensor([[1555.3420, 2081.4746, 1778.4260, 2148.1545]])), scores: tensor([0.9773]), pred_classes: tensor([1])])}, {'file_name': '/content/sample_data/9fd6712003f8bace5a28d611af1b4a21.tif', 'instances': Instances(num_instances=1, image_height=3186, image_width=2544, fields=[pred_boxes: Boxes(tensor([[ 473.0212, 1893.5619,  928.7613, 2040.3882]])), scores: tensor([0.9982]), pred_classes: tensor([1])])}, {'file_name': '/content/sample_data/51e2bcf8a78d836c45bd5d41e4555331.tif', 'instances': Instances(num_instances=1, image_height=3324, image_width=2544, fields=[pred_boxes: Boxes(tensor([[1296.4733, 2452.6589, 1922.3164, 2597.9375]])), scores: tensor([0.9969]), pred_classes: tensor([1])])}, {'file_name': '/content/sample_data/a08f466893c15a617ed515685b7299de.tif', 'instances': Instances(num_instances=1, image_height=2292, image_width=1728, fields=[pred_boxes: Boxes(tensor([[ 902.4614, 1464.2659, 1200.0891, 1525.9813]])), scores: tensor([0.9952]), pred_classes: tensor([1])])}, {'file_name': '/content/sample_data/89257a01e2ef49e126c0922ff2bbd958.tif', 'instances': Instances(num_instances=1, image_height=1575, image_width=1200, fields=[pred_boxes: Boxes(tensor([[650.1129, 839.3644, 940.6232, 900.2748]])), scores: tensor([0.9977]), pred_classes: tensor([1])])}, {'file_name': '/content/sample_data/7921d3c75456cfe74d8d0a9d122d15b8.tif', 'instances': Instances(num_instances=1, image_height=3261, image_width=2560, fields=[pred_boxes: Boxes(tensor([[1596.9716, 2138.2390, 2193.2344, 2302.4663]])), scores: tensor([0.9967]), pred_classes: tensor([1])])}, {'file_name': '/content/sample_data/cb07b3779ee43a9bb7eecb322a6b4160_2.tif', 'instances': Instances(num_instances=1, image_height=1575, image_width=1200, fields=[pred_boxes: Boxes(tensor([[643.5024, 623.5565, 926.8527, 671.7245]])), scores: tensor([0.9907]), pred_classes: tensor([1])])}, {'file_name': '/content/sample_data/804e87517d92e7d017194af35fbda7e9.tif', 'instances': Instances(num_instances=4, image_height=1575, image_width=1200, fields=[pred_boxes: Boxes(tensor([[ 641.6983,  971.3323,  869.2584, 1047.9769],\n",
            "        [ 738.8603, 1149.1719,  955.8933, 1244.2776],\n",
            "        [ 742.8898, 1219.1504,  959.3362, 1309.5551],\n",
            "        [ 822.4356, 1106.7551,  970.4621, 1164.6038]])), scores: tensor([0.9771, 0.9645, 0.9552, 0.8274]), pred_classes: tensor([1, 1, 1, 1])])}, {'file_name': '/content/sample_data/0171cd73c7bdbf48ccfd0c21804f9ced_1.tif', 'instances': Instances(num_instances=0, image_height=3300, image_width=2544, fields=[pred_boxes: Boxes(tensor([], size=(0, 4))), scores: tensor([]), pred_classes: tensor([], dtype=torch.int64)])}, {'file_name': '/content/sample_data/ad729ba5891d6199f01d12d59086bb86_2.tif', 'instances': Instances(num_instances=0, image_height=3301, image_width=2624, fields=[pred_boxes: Boxes(tensor([], size=(0, 4))), scores: tensor([]), pred_classes: tensor([], dtype=torch.int64)])}, {'file_name': '/content/sample_data/c1056529ee761ff7cbf513dc6cca6fd4_9.tif', 'instances': Instances(num_instances=0, image_height=1575, image_width=1200, fields=[pred_boxes: Boxes(tensor([], size=(0, 4))), scores: tensor([]), pred_classes: tensor([], dtype=torch.int64)])}, {'file_name': '/content/sample_data/78eefcec01514be9fb5f6cb89d5e3618.tif', 'instances': Instances(num_instances=1, image_height=2292, image_width=1728, fields=[pred_boxes: Boxes(tensor([[ 845.4872, 1483.3612, 1375.2780, 1602.9622]])), scores: tensor([0.9977]), pred_classes: tensor([1])])}, {'file_name': '/content/sample_data/ce457dce276f4915180fef71c775162e_3.tif', 'instances': Instances(num_instances=0, image_height=3377, image_width=2544, fields=[pred_boxes: Boxes(tensor([], size=(0, 4))), scores: tensor([]), pred_classes: tensor([], dtype=torch.int64)])}, {'file_name': '/content/sample_data/833992cc1bb0892538cf4ecea8fe9785_3.tif', 'instances': Instances(num_instances=1, image_height=1575, image_width=1200, fields=[pred_boxes: Boxes(tensor([[682.3470, 352.1438, 906.6838, 462.1528]])), scores: tensor([0.9982]), pred_classes: tensor([1])])}, {'file_name': '/content/sample_data/f12b9a1d92be06ce9357ae9a12a66e52_1.tif', 'instances': Instances(num_instances=0, image_height=1575, image_width=1200, fields=[pred_boxes: Boxes(tensor([], size=(0, 4))), scores: tensor([]), pred_classes: tensor([], dtype=torch.int64)])}, {'file_name': '/content/sample_data/f2b2ec91a9c04abdf0912d7c53e25375_2.tif', 'instances': Instances(num_instances=1, image_height=3300, image_width=2544, fields=[pred_boxes: Boxes(tensor([[1501.6349,  656.6469, 1867.2922,  799.3789]])), scores: tensor([0.9972]), pred_classes: tensor([1])])}, {'file_name': '/content/sample_data/5a6c034929ab5dd708076326ad206261_2.tif', 'instances': Instances(num_instances=1, image_height=3150, image_width=2400, fields=[pred_boxes: Boxes(tensor([[1040.4232, 1175.6113, 1367.8964, 1357.3356]])), scores: tensor([0.8617]), pred_classes: tensor([1])])}, {'file_name': '/content/sample_data/27e71907349fdcdbe194d7ee170ee3e8.tif', 'instances': Instances(num_instances=1, image_height=2292, image_width=1728, fields=[pred_boxes: Boxes(tensor([[ 762.9081, 1451.3298, 1103.2935, 1564.7311]])), scores: tensor([0.9984]), pred_classes: tensor([1])])}, {'file_name': '/content/sample_data/47fa53ffb251404ebbce4613e029cdb4.tif', 'instances': Instances(num_instances=1, image_height=3034, image_width=2560, fields=[pred_boxes: Boxes(tensor([[1582.0850, 1583.9689, 2047.1302, 1724.3569]])), scores: tensor([0.9988]), pred_classes: tensor([1])])}, {'file_name': '/content/sample_data/461c0b428363ba6f0bb5a3a425b31b09_1.tif', 'instances': Instances(num_instances=0, image_height=3298, image_width=2544, fields=[pred_boxes: Boxes(tensor([], size=(0, 4))), scores: tensor([]), pred_classes: tensor([], dtype=torch.int64)])}, {'file_name': '/content/sample_data/d7fe5038153863f1991c31af2e4f901a_4.tif', 'instances': Instances(num_instances=0, image_height=2292, image_width=1728, fields=[pred_boxes: Boxes(tensor([], size=(0, 4))), scores: tensor([]), pred_classes: tensor([], dtype=torch.int64)])}, {'file_name': '/content/sample_data/81e513afffd3423a3e34efd26928a11e_2.tif', 'instances': Instances(num_instances=4, image_height=3295, image_width=2544, fields=[pred_boxes: Boxes(tensor([[ 390.9337, 2442.4514, 1042.8608, 2562.2617],\n",
            "        [1441.3138, 2492.4570, 1913.9701, 2612.5486],\n",
            "        [1243.4049, 2783.9175, 1995.0603, 3011.1096],\n",
            "        [1208.6969, 2645.8784, 2103.7983, 2798.4485]])), scores: tensor([0.9974, 0.9959, 0.9958, 0.7909]), pred_classes: tensor([1, 1, 1, 1])])}, {'file_name': '/content/sample_data/e1d6a3b9926c31029b5d6a0360fef076.tif', 'instances': Instances(num_instances=1, image_height=1575, image_width=1200, fields=[pred_boxes: Boxes(tensor([[657.7457, 803.6900, 949.7800, 880.8303]])), scores: tensor([0.9969]), pred_classes: tensor([1])])}, {'file_name': '/content/sample_data/d7fe5038153863f1991c31af2e4f901a_1.tif', 'instances': Instances(num_instances=0, image_height=2292, image_width=1728, fields=[pred_boxes: Boxes(tensor([], size=(0, 4))), scores: tensor([]), pred_classes: tensor([], dtype=torch.int64)])}, {'file_name': '/content/sample_data/48f44aba421433a2856ffb1dcdaa3d2d.tif', 'instances': Instances(num_instances=2, image_height=3295, image_width=2544, fields=[pred_boxes: Boxes(tensor([[ 308.5562, 2611.6479,  911.9172, 2727.2910],\n",
            "        [1795.8888, 2630.8335, 2136.2454, 2706.6072]])), scores: tensor([0.9959, 0.9934]), pred_classes: tensor([1, 1])])}, {'file_name': '/content/sample_data/7679ff1c8fc5239a90e06d16b03d36a8_2.tif', 'instances': Instances(num_instances=0, image_height=3254, image_width=2544, fields=[pred_boxes: Boxes(tensor([], size=(0, 4))), scores: tensor([]), pred_classes: tensor([], dtype=torch.int64)])}, {'file_name': '/content/sample_data/ab13cc8cb31ec459a4a6601fbba46b38.tif', 'instances': Instances(num_instances=1, image_height=3300, image_width=2544, fields=[pred_boxes: Boxes(tensor([[ 383.7883, 2780.1052,  881.9103, 2910.9653]])), scores: tensor([0.9975]), pred_classes: tensor([1])])}, {'file_name': '/content/sample_data/4106cb065758ce92428b34f0d15e4848_9.tif', 'instances': Instances(num_instances=0, image_height=1575, image_width=1200, fields=[pred_boxes: Boxes(tensor([], size=(0, 4))), scores: tensor([]), pred_classes: tensor([], dtype=torch.int64)])}, {'file_name': '/content/sample_data/8e20c5b100299349efd0339019392688_6.tif', 'instances': Instances(num_instances=1, image_height=1575, image_width=1200, fields=[pred_boxes: Boxes(tensor([[ 704.5607,  983.8009,  781.7009, 1088.3319]])), scores: tensor([0.9892]), pred_classes: tensor([1])])}, {'file_name': '/content/sample_data/6f1bfb07d872d00e366d5bfaf05ed685.tif', 'instances': Instances(num_instances=1, image_height=1575, image_width=1200, fields=[pred_boxes: Boxes(tensor([[ 682.3156, 1033.2190,  918.8392, 1141.0796]])), scores: tensor([0.9967]), pred_classes: tensor([1])])}, {'file_name': '/content/sample_data/32b1fc5cbe73d5465ef6782e14cb8d1c.tif', 'instances': Instances(num_instances=1, image_height=3251, image_width=2560, fields=[pred_boxes: Boxes(tensor([[1177.1764, 1830.9319, 1758.5228, 2073.6704]])), scores: tensor([0.9953]), pred_classes: tensor([1])])}, {'file_name': '/content/sample_data/ca2a234d58852de50b07a6a216370b6d_1.tif', 'instances': Instances(num_instances=0, image_height=3266, image_width=2544, fields=[pred_boxes: Boxes(tensor([], size=(0, 4))), scores: tensor([]), pred_classes: tensor([], dtype=torch.int64)])}, {'file_name': '/content/sample_data/23da1f0aae50d9e2b044b599dcaea38e_1.tif', 'instances': Instances(num_instances=0, image_height=1575, image_width=1200, fields=[pred_boxes: Boxes(tensor([], size=(0, 4))), scores: tensor([]), pred_classes: tensor([], dtype=torch.int64)])}, {'file_name': '/content/sample_data/c98a06bc768ed92afea8be4a67c26911_1.tif', 'instances': Instances(num_instances=0, image_height=1575, image_width=1200, fields=[pred_boxes: Boxes(tensor([], size=(0, 4))), scores: tensor([]), pred_classes: tensor([], dtype=torch.int64)])}, {'file_name': '/content/sample_data/7679ff1c8fc5239a90e06d16b03d36a8_1.tif', 'instances': Instances(num_instances=0, image_height=3256, image_width=2544, fields=[pred_boxes: Boxes(tensor([], size=(0, 4))), scores: tensor([]), pred_classes: tensor([], dtype=torch.int64)])}, {'file_name': '/content/sample_data/3856c8ff3e6f2dde76add95de3d0ca07_2.tif', 'instances': Instances(num_instances=3, image_height=2292, image_width=1728, fields=[pred_boxes: Boxes(tensor([[ 364.8301, 1669.3214,  741.2899, 1757.0300],\n",
            "        [ 862.5398, 1177.7322, 1155.1765, 1278.0586],\n",
            "        [ 488.6625, 1756.1824,  647.7698, 1817.2826]])), scores: tensor([0.9875, 0.9785, 0.9002]), pred_classes: tensor([1, 1, 1])])}, {'file_name': '/content/sample_data/4b803581168aa9bf50d55d57f6e1eec7.tif', 'instances': Instances(num_instances=1, image_height=3291, image_width=2544, fields=[pred_boxes: Boxes(tensor([[1338.8510, 2002.4847, 1983.5282, 2144.7935]])), scores: tensor([0.9954]), pred_classes: tensor([1])])}, {'file_name': '/content/sample_data/ac6537f96fb80636cb53b7cd622f5bc8_2.tif', 'instances': Instances(num_instances=1, image_height=3299, image_width=2544, fields=[pred_boxes: Boxes(tensor([[ 283.5525, 2126.5012,  641.5056, 2238.1448]])), scores: tensor([0.9907]), pred_classes: tensor([1])])}, {'file_name': '/content/sample_data/52a641fd852639daaa45556a3d7f3a55_1.tif', 'instances': Instances(num_instances=1, image_height=1575, image_width=1200, fields=[pred_boxes: Boxes(tensor([[770.6200, 421.4660, 967.4415, 456.7717]])), scores: tensor([0.8367]), pred_classes: tensor([1])])}, {'file_name': '/content/sample_data/8f17b3f63cde2381e558d22498fbd0b9.tif', 'instances': Instances(num_instances=1, image_height=1575, image_width=1200, fields=[pred_boxes: Boxes(tensor([[ 696.3381, 1026.8998,  882.5288, 1090.0117]])), scores: tensor([0.9986]), pred_classes: tensor([1])])}, {'file_name': '/content/sample_data/02148af935993f360f2d9c3ca3eb782a_10.tif', 'instances': Instances(num_instances=0, image_height=1575, image_width=1200, fields=[pred_boxes: Boxes(tensor([], size=(0, 4))), scores: tensor([]), pred_classes: tensor([], dtype=torch.int64)])}, {'file_name': '/content/sample_data/ec11520897b3697b7a99af00d64144f0_6.tif', 'instances': Instances(num_instances=1, image_height=1575, image_width=1200, fields=[pred_boxes: Boxes(tensor([[ 101.1683, 1184.8606,  216.8725, 1349.9985]])), scores: tensor([0.7080]), pred_classes: tensor([1])])}, {'file_name': '/content/sample_data/0c45e17531f95abb9a4eccc2a8caa7ad.tif', 'instances': Instances(num_instances=1, image_height=2292, image_width=1728, fields=[pred_boxes: Boxes(tensor([[ 980.8201, 1826.8658, 1463.7642, 1970.5171]])), scores: tensor([0.9984]), pred_classes: tensor([1])])}, {'file_name': '/content/sample_data/8d23666b8cdbb6f8bd189205f009e040_1.tif', 'instances': Instances(num_instances=1, image_height=2292, image_width=1728, fields=[pred_boxes: Boxes(tensor([[ 887.6970, 1406.2312, 1325.3103, 1554.2089]])), scores: tensor([0.9958]), pred_classes: tensor([1])])}, {'file_name': '/content/sample_data/4e8fb4e8b8d83fcd5f32a1c912baccae.tif', 'instances': Instances(num_instances=1, image_height=1575, image_width=1200, fields=[pred_boxes: Boxes(tensor([[ 512.4086, 1083.4485,  708.0212, 1186.3466]])), scores: tensor([0.9985]), pred_classes: tensor([1])])}, {'file_name': '/content/sample_data/90e16a31a300a84ae0af957c3a3acb9d_2.tif', 'instances': Instances(num_instances=0, image_height=1575, image_width=1200, fields=[pred_boxes: Boxes(tensor([], size=(0, 4))), scores: tensor([]), pred_classes: tensor([], dtype=torch.int64)])}, {'file_name': '/content/sample_data/f3fe4d4707c050b65948569ce11c30e4_2.tif', 'instances': Instances(num_instances=2, image_height=2156, image_width=1728, fields=[pred_boxes: Boxes(tensor([[ 872.9003,  446.3895, 1407.6466,  561.2188],\n",
            "        [ 536.1598,  598.2175,  954.9802,  765.2435]])), scores: tensor([0.9921, 0.9603]), pred_classes: tensor([1, 1])])}, {'file_name': '/content/sample_data/f1291ecf84e7796f4d66e8649d2ea187.tif', 'instances': Instances(num_instances=1, image_height=1575, image_width=1200, fields=[pred_boxes: Boxes(tensor([[671.9254, 809.9302, 904.5537, 878.7219]])), scores: tensor([0.9986]), pred_classes: tensor([1])])}, {'file_name': '/content/sample_data/ce1fd803ed1d255701bbbae6c9f115e7.tif', 'instances': Instances(num_instances=1, image_height=3150, image_width=2400, fields=[pred_boxes: Boxes(tensor([[ 276.4406, 2269.2771,  880.5439, 2344.9763]])), scores: tensor([0.9961]), pred_classes: tensor([1])])}, {'file_name': '/content/sample_data/74bdd082397abc428326f0b5d20e4391.tif', 'instances': Instances(num_instances=1, image_height=3300, image_width=2544, fields=[pred_boxes: Boxes(tensor([[1336.6039, 2441.7017, 1864.2905, 2547.3330]])), scores: tensor([0.9984]), pred_classes: tensor([1])])}, {'file_name': '/content/sample_data/3c4f19a076a741814ea1d21abe8c9fd0_1.tif', 'instances': Instances(num_instances=0, image_height=3328, image_width=2560, fields=[pred_boxes: Boxes(tensor([], size=(0, 4))), scores: tensor([]), pred_classes: tensor([], dtype=torch.int64)])}, {'file_name': '/content/sample_data/1b5b26eea70d2bed49b6a17d456e5662.tif', 'instances': Instances(num_instances=1, image_height=3296, image_width=2560, fields=[pred_boxes: Boxes(tensor([[1348.1536, 2233.2048, 1604.3805, 2468.0056]])), scores: tensor([0.9962]), pred_classes: tensor([1])])}, {'file_name': '/content/sample_data/b9057662f672b5a6d231d9c7efc6838d_2.tif', 'instances': Instances(num_instances=1, image_height=2825, image_width=2560, fields=[pred_boxes: Boxes(tensor([[ 805.2952, 1088.9337, 1669.1487, 1326.1600]])), scores: tensor([0.9977]), pred_classes: tensor([1])])}, {'file_name': '/content/sample_data/ba477bfe81ebbb1b720413a2528d7ef3.tif', 'instances': Instances(num_instances=1, image_height=2292, image_width=1728, fields=[pred_boxes: Boxes(tensor([[ 876.2257, 1223.9574, 1184.5137, 1350.2426]])), scores: tensor([0.9977]), pred_classes: tensor([1])])}, {'file_name': '/content/sample_data/d5aecd463abb8e65851bd7c5cde7aced.tif', 'instances': Instances(num_instances=5, image_height=1575, image_width=1200, fields=[pred_boxes: Boxes(tensor([[ 133.6530, 1079.9137,  540.3152, 1153.2185],\n",
            "        [ 163.8670, 1229.0909,  467.6978, 1271.9530],\n",
            "        [ 752.6336, 1093.5958,  901.6785, 1139.8131],\n",
            "        [ 176.4690, 1158.3361,  529.1293, 1207.5118],\n",
            "        [ 733.6426, 1173.7510,  880.2504, 1202.6388]])), scores: tensor([0.9936, 0.9908, 0.9889, 0.9856, 0.9481]), pred_classes: tensor([1, 1, 1, 1, 1])])}, {'file_name': '/content/sample_data/7f19a1ea9dbcdf99a9c78a7fb65d3c9b.tif', 'instances': Instances(num_instances=1, image_height=1575, image_width=1200, fields=[pred_boxes: Boxes(tensor([[723.2808, 898.5156, 916.3895, 990.3087]])), scores: tensor([0.9964]), pred_classes: tensor([1])])}, {'file_name': '/content/sample_data/3cf16ae1c4b21b53eba598ede578222a_11.tif', 'instances': Instances(num_instances=0, image_height=2292, image_width=1728, fields=[pred_boxes: Boxes(tensor([], size=(0, 4))), scores: tensor([]), pred_classes: tensor([], dtype=torch.int64)])}, {'file_name': '/content/sample_data/6a87460e604881ea8637af297e1203cb.tif', 'instances': Instances(num_instances=2, image_height=3113, image_width=2536, fields=[pred_boxes: Boxes(tensor([[1155.1481, 2617.5627, 2080.9971, 2822.4436],\n",
            "        [ 559.4493, 2689.0569,  991.4356, 2897.5098]])), scores: tensor([0.9965, 0.9954]), pred_classes: tensor([1, 1])])}, {'file_name': '/content/sample_data/941300c64e74b28a0f8e6279da75fdbf.tif', 'instances': Instances(num_instances=1, image_height=2292, image_width=1728, fields=[pred_boxes: Boxes(tensor([[ 894.9532, 1336.8794, 1378.3411, 1496.3258]])), scores: tensor([0.9969]), pred_classes: tensor([1])])}, {'file_name': '/content/sample_data/b6f9fe8b3211985645495963af5fbb92.tif', 'instances': Instances(num_instances=1, image_height=3285, image_width=2560, fields=[pred_boxes: Boxes(tensor([[1505.4459, 1500.2910, 2172.8904, 1713.6610]])), scores: tensor([0.9966]), pred_classes: tensor([1])])}, {'file_name': '/content/sample_data/aa18781ad618f6aae949142d51d13b21_3.tif', 'instances': Instances(num_instances=1, image_height=1575, image_width=1200, fields=[pred_boxes: Boxes(tensor([[ 608.6345,  970.5650,  806.2754, 1042.2822]])), scores: tensor([0.9952]), pred_classes: tensor([1])])}, {'file_name': '/content/sample_data/1d474b0d56e538e158a3f42bf7bc1014_3.tif', 'instances': Instances(num_instances=0, image_height=1575, image_width=1200, fields=[pred_boxes: Boxes(tensor([], size=(0, 4))), scores: tensor([]), pred_classes: tensor([], dtype=torch.int64)])}, {'file_name': '/content/sample_data/1d2e8136a4a96db48b8916bc2726d474_1.tif', 'instances': Instances(num_instances=0, image_height=1575, image_width=1200, fields=[pred_boxes: Boxes(tensor([], size=(0, 4))), scores: tensor([]), pred_classes: tensor([], dtype=torch.int64)])}, {'file_name': '/content/sample_data/44212463201dbdfe0443f6ea8f229189.tif', 'instances': Instances(num_instances=2, image_height=1575, image_width=1200, fields=[pred_boxes: Boxes(tensor([[ 945.8366,  790.0076, 1106.5792,  872.5848],\n",
            "        [ 587.3033,  997.5166,  894.0900, 1096.1124]])), scores: tensor([0.9984, 0.9965]), pred_classes: tensor([1, 1])])}, {'file_name': '/content/sample_data/bcef979fdc530eba01f536f47878813f.tif', 'instances': Instances(num_instances=1, image_height=1575, image_width=1200, fields=[pred_boxes: Boxes(tensor([[628.5739, 898.5529, 876.3773, 974.5120]])), scores: tensor([0.9978]), pred_classes: tensor([1])])}, {'file_name': '/content/sample_data/ac15e4343f32abf47d5d561409555d11_1.tif', 'instances': Instances(num_instances=1, image_height=1575, image_width=1200, fields=[pred_boxes: Boxes(tensor([[799.6419, 893.8490, 974.4584, 964.5248]])), scores: tensor([0.9979]), pred_classes: tensor([1])])}, {'file_name': '/content/sample_data/cf250e5f053cd65aa930c7d76f264d11_1.tif', 'instances': Instances(num_instances=0, image_height=3184, image_width=2560, fields=[pred_boxes: Boxes(tensor([], size=(0, 4))), scores: tensor([]), pred_classes: tensor([], dtype=torch.int64)])}, {'file_name': '/content/sample_data/1694540ff9371090fed21cf56ac9dba3.tif', 'instances': Instances(num_instances=2, image_height=3105, image_width=2432, fields=[pred_boxes: Boxes(tensor([[1239.0281, 2520.9570, 2166.4265, 2884.3586],\n",
            "        [1262.9799, 2564.8052, 2035.9908, 2739.1155]])), scores: tensor([0.9905, 0.7150]), pred_classes: tensor([1, 1])])}, {'file_name': '/content/sample_data/0148e4778e6d8b22a8980bf4fc89351b_37.tif', 'instances': Instances(num_instances=0, image_height=1575, image_width=1200, fields=[pred_boxes: Boxes(tensor([], size=(0, 4))), scores: tensor([]), pred_classes: tensor([], dtype=torch.int64)])}, {'file_name': '/content/sample_data/b377779e936157605e7665ec64cad21b.tif', 'instances': Instances(num_instances=1, image_height=3141, image_width=2504, fields=[pred_boxes: Boxes(tensor([[1211.2302, 2648.8450, 2099.7712, 2926.2251]])), scores: tensor([0.9950]), pred_classes: tensor([1])])}, {'file_name': '/content/sample_data/e26fb0dbdcb3c4a04df9746f97ef308d_1.tif', 'instances': Instances(num_instances=0, image_height=3202, image_width=2544, fields=[pred_boxes: Boxes(tensor([], size=(0, 4))), scores: tensor([]), pred_classes: tensor([], dtype=torch.int64)])}, {'file_name': '/content/sample_data/c98a06bc768ed92afea8be4a67c26911_2.tif', 'instances': Instances(num_instances=1, image_height=1575, image_width=1200, fields=[pred_boxes: Boxes(tensor([[634.8621, 758.4000, 847.9872, 808.3779]])), scores: tensor([0.9979]), pred_classes: tensor([1])])}, {'file_name': '/content/sample_data/1f059116c976aadaef2d8320823f99a9.tif', 'instances': Instances(num_instances=1, image_height=3328, image_width=2560, fields=[pred_boxes: Boxes(tensor([[ 424.5633, 2112.2786, 1282.1348, 2343.9927]])), scores: tensor([0.9974]), pred_classes: tensor([1])])}, {'file_name': '/content/sample_data/f35ea13820cfa86807f6e7727e2e67c4.tif', 'instances': Instances(num_instances=2, image_height=1575, image_width=1200, fields=[pred_boxes: Boxes(tensor([[ 662.9460, 1135.3921,  916.5714, 1202.0894],\n",
            "        [ 469.9185,  135.6805,  627.1406,  221.1853]])), scores: tensor([0.9961, 0.7766]), pred_classes: tensor([1, 1])])}, {'file_name': '/content/sample_data/3cff137fe2399ad68700b30e486ca355.tif', 'instances': Instances(num_instances=1, image_height=3107, image_width=2520, fields=[pred_boxes: Boxes(tensor([[1273.0924, 2629.3093, 2185.3223, 2949.9453]])), scores: tensor([0.9921]), pred_classes: tensor([1])])}, {'file_name': '/content/sample_data/88f8451bfa4febd530d8c8e61176953d.tif', 'instances': Instances(num_instances=1, image_height=3251, image_width=2544, fields=[pred_boxes: Boxes(tensor([[1118.4740, 1973.9861, 1825.0751, 2144.7451]])), scores: tensor([0.9961]), pred_classes: tensor([1])])}, {'file_name': '/content/sample_data/8a788308be95f04c3ad32380429a6f29_1.tif', 'instances': Instances(num_instances=0, image_height=3281, image_width=2544, fields=[pred_boxes: Boxes(tensor([], size=(0, 4))), scores: tensor([]), pred_classes: tensor([], dtype=torch.int64)])}, {'file_name': '/content/sample_data/157324df63935e01ba0a9550ab8cf172.tif', 'instances': Instances(num_instances=1, image_height=2292, image_width=1728, fields=[pred_boxes: Boxes(tensor([[ 820.2968, 1418.1908, 1570.0054, 1606.3517]])), scores: tensor([0.9946]), pred_classes: tensor([1])])}, {'file_name': '/content/sample_data/8c25cad2042e3f54dfe8ac6733059dca_1.tif', 'instances': Instances(num_instances=1, image_height=2292, image_width=1728, fields=[pred_boxes: Boxes(tensor([[ 194.3784, 1367.2196,  628.0265, 1446.2273]])), scores: tensor([0.9973]), pred_classes: tensor([1])])}, {'file_name': '/content/sample_data/7db8eca4d3da52ed2e0d9e60adbd72d6_2.tif', 'instances': Instances(num_instances=0, image_height=1575, image_width=1200, fields=[pred_boxes: Boxes(tensor([], size=(0, 4))), scores: tensor([]), pred_classes: tensor([], dtype=torch.int64)])}, {'file_name': '/content/sample_data/ec702e8e33699b1d6c9ef834278ac61f.tif', 'instances': Instances(num_instances=1, image_height=3300, image_width=2544, fields=[pred_boxes: Boxes(tensor([[ 405.7234, 2206.2153,  808.3602, 2378.1853]])), scores: tensor([0.9967]), pred_classes: tensor([1])])}, {'file_name': '/content/sample_data/2c03d984595488ef1847727694342441_1.tif', 'instances': Instances(num_instances=1, image_height=1575, image_width=1200, fields=[pred_boxes: Boxes(tensor([[491.5844, 719.4818, 834.1031, 803.9244]])), scores: tensor([0.9965]), pred_classes: tensor([1])])}, {'file_name': '/content/sample_data/2dd410971086c44aa79a0fbf4dc12949.tif', 'instances': Instances(num_instances=1, image_height=3284, image_width=2544, fields=[pred_boxes: Boxes(tensor([[1658.5653, 2291.1299, 2193.5149, 2477.9006]])), scores: tensor([0.9966]), pred_classes: tensor([1])])}, {'file_name': '/content/sample_data/35cabb4a166bfca8b4a49f8d5bbf74f2_1.tif', 'instances': Instances(num_instances=0, image_height=2292, image_width=1728, fields=[pred_boxes: Boxes(tensor([], size=(0, 4))), scores: tensor([]), pred_classes: tensor([], dtype=torch.int64)])}, {'file_name': '/content/sample_data/52a641fd852639daaa45556a3d7f3a55_2.tif', 'instances': Instances(num_instances=1, image_height=1575, image_width=1200, fields=[pred_boxes: Boxes(tensor([[642.4151, 512.2958, 908.6479, 592.8309]])), scores: tensor([0.9984]), pred_classes: tensor([1])])}, {'file_name': '/content/sample_data/7dba34a0581638791ac2007fd8ee25e9.tif', 'instances': Instances(num_instances=1, image_height=3296, image_width=2560, fields=[pred_boxes: Boxes(tensor([[1667.6229, 2474.1689, 1937.6796, 2864.3904]])), scores: tensor([0.9965]), pred_classes: tensor([1])])}, {'file_name': '/content/sample_data/b9057662f672b5a6d231d9c7efc6838d_1.tif', 'instances': Instances(num_instances=0, image_height=2845, image_width=2560, fields=[pred_boxes: Boxes(tensor([], size=(0, 4))), scores: tensor([]), pred_classes: tensor([], dtype=torch.int64)])}, {'file_name': '/content/sample_data/237ca768be1a45d14145934b6f08d615_2.tif', 'instances': Instances(num_instances=0, image_height=1575, image_width=1200, fields=[pred_boxes: Boxes(tensor([], size=(0, 4))), scores: tensor([]), pred_classes: tensor([], dtype=torch.int64)])}, {'file_name': '/content/sample_data/0f5bb627fa045d97551937ab506e8ab0_1.tif', 'instances': Instances(num_instances=0, image_height=2292, image_width=1728, fields=[pred_boxes: Boxes(tensor([], size=(0, 4))), scores: tensor([]), pred_classes: tensor([], dtype=torch.int64)])}, {'file_name': '/content/sample_data/d21ccfd2667fd9ca221254512900ac17_1.tif', 'instances': Instances(num_instances=0, image_height=1575, image_width=1200, fields=[pred_boxes: Boxes(tensor([], size=(0, 4))), scores: tensor([]), pred_classes: tensor([], dtype=torch.int64)])}, {'file_name': '/content/sample_data/eec4d154cd1528b94b523b0798197301.tif', 'instances': Instances(num_instances=1, image_height=2292, image_width=1728, fields=[pred_boxes: Boxes(tensor([[ 945.9705, 1390.5469, 1320.4061, 1563.3718]])), scores: tensor([0.9976]), pred_classes: tensor([1])])}, {'file_name': '/content/sample_data/ef7bc405f9fafb69773bb9739c6c126a.tif', 'instances': Instances(num_instances=1, image_height=3296, image_width=2560, fields=[pred_boxes: Boxes(tensor([[1553.3749, 2289.3970, 1961.3885, 2586.8340]])), scores: tensor([0.9977]), pred_classes: tensor([1])])}, {'file_name': '/content/sample_data/363160d94b589e99b560c79c478513d6_1.tif', 'instances': Instances(num_instances=0, image_height=3320, image_width=2560, fields=[pred_boxes: Boxes(tensor([], size=(0, 4))), scores: tensor([]), pred_classes: tensor([], dtype=torch.int64)])}, {'file_name': '/content/sample_data/afcfb90e729e30b3dc7b09353200dac3.tif', 'instances': Instances(num_instances=1, image_height=2292, image_width=1728, fields=[pred_boxes: Boxes(tensor([[ 773.6475, 1835.3734, 1465.4951, 2012.6390]])), scores: tensor([0.9969]), pred_classes: tensor([1])])}, {'file_name': '/content/sample_data/847e91fdb5d5363913b2866bd084b58e_1.tif', 'instances': Instances(num_instances=0, image_height=2292, image_width=1728, fields=[pred_boxes: Boxes(tensor([], size=(0, 4))), scores: tensor([]), pred_classes: tensor([], dtype=torch.int64)])}, {'file_name': '/content/sample_data/2af4976206c338874b12fd33ec18aceb_4.tif', 'instances': Instances(num_instances=0, image_height=1575, image_width=1200, fields=[pred_boxes: Boxes(tensor([], size=(0, 4))), scores: tensor([]), pred_classes: tensor([], dtype=torch.int64)])}, {'file_name': '/content/sample_data/f17681f73a22293d830e7c2a9e0ab10d_2.tif', 'instances': Instances(num_instances=0, image_height=2292, image_width=1728, fields=[pred_boxes: Boxes(tensor([], size=(0, 4))), scores: tensor([]), pred_classes: tensor([], dtype=torch.int64)])}, {'file_name': '/content/sample_data/c9d2121423c6174c4d3eaebb778aa74e.tif', 'instances': Instances(num_instances=0, image_height=1575, image_width=1200, fields=[pred_boxes: Boxes(tensor([], size=(0, 4))), scores: tensor([]), pred_classes: tensor([], dtype=torch.int64)])}, {'file_name': '/content/sample_data/0533a1e934bd69947b247d0e858d854f_4.tif', 'instances': Instances(num_instances=0, image_height=1575, image_width=1200, fields=[pred_boxes: Boxes(tensor([], size=(0, 4))), scores: tensor([]), pred_classes: tensor([], dtype=torch.int64)])}, {'file_name': '/content/sample_data/0f6bc860c0dbac06933e2dbae943b850_2.tif', 'instances': Instances(num_instances=0, image_height=1575, image_width=1200, fields=[pred_boxes: Boxes(tensor([], size=(0, 4))), scores: tensor([]), pred_classes: tensor([], dtype=torch.int64)])}, {'file_name': '/content/sample_data/c29f7d2b95144642cea08a4f4455efe9_2.tif', 'instances': Instances(num_instances=2, image_height=3164, image_width=2560, fields=[pred_boxes: Boxes(tensor([[ 830.8725, 2665.0562, 1084.1321, 2755.3081],\n",
            "        [ 906.1673, 2112.7910, 1115.0115, 2176.7856]])), scores: tensor([0.9960, 0.7309]), pred_classes: tensor([1, 1])])}, {'file_name': '/content/sample_data/ac15e4343f32abf47d5d561409555d11_2.tif', 'instances': Instances(num_instances=0, image_height=1575, image_width=1200, fields=[pred_boxes: Boxes(tensor([], size=(0, 4))), scores: tensor([]), pred_classes: tensor([], dtype=torch.int64)])}, {'file_name': '/content/sample_data/5740f241edc8a888a1004e236332ecbe_4.tif', 'instances': Instances(num_instances=0, image_height=3263, image_width=2544, fields=[pred_boxes: Boxes(tensor([], size=(0, 4))), scores: tensor([]), pred_classes: tensor([], dtype=torch.int64)])}, {'file_name': '/content/sample_data/27ba63d3058002be6240905d0ce0a433_1.tif', 'instances': Instances(num_instances=1, image_height=1575, image_width=1200, fields=[pred_boxes: Boxes(tensor([[444.8260, 874.8665, 772.2212, 989.6478]])), scores: tensor([0.9864]), pred_classes: tensor([1])])}, {'file_name': '/content/sample_data/c29f7d2b95144642cea08a4f4455efe9_6.tif', 'instances': Instances(num_instances=1, image_height=3160, image_width=2560, fields=[pred_boxes: Boxes(tensor([[ 679.4848, 1326.9240, 1408.2760, 1569.2144]])), scores: tensor([0.9260]), pred_classes: tensor([1])])}, {'file_name': '/content/sample_data/e890afa2c7d093b261733e0724b009a9.tif', 'instances': Instances(num_instances=2, image_height=2292, image_width=1728, fields=[pred_boxes: Boxes(tensor([[ 626.2772, 1024.0508,  935.9113, 1132.2396],\n",
            "        [1007.0895,  994.7495, 1470.4027, 1130.5669]])), scores: tensor([0.9985, 0.9974]), pred_classes: tensor([1, 1])])}, {'file_name': '/content/sample_data/0148e4778e6d8b22a8980bf4fc89351b_12.tif', 'instances': Instances(num_instances=1, image_height=1575, image_width=1200, fields=[pred_boxes: Boxes(tensor([[617.6851, 771.0105, 971.3961, 848.6893]])), scores: tensor([0.9348]), pred_classes: tensor([1])])}, {'file_name': '/content/sample_data/ada41d64f7082d721ee96cce69dd49ee.tif', 'instances': Instances(num_instances=1, image_height=1575, image_width=1200, fields=[pred_boxes: Boxes(tensor([[ 598.8694,  957.7778,  889.6400, 1068.2390]])), scores: tensor([0.9944]), pred_classes: tensor([1])])}, {'file_name': '/content/sample_data/47ec118d10165fa499d2a65f7fe49759.tif', 'instances': Instances(num_instances=1, image_height=1575, image_width=1200, fields=[pred_boxes: Boxes(tensor([[ 695.8752,  906.8781, 1015.0271,  967.3939]])), scores: tensor([0.9982]), pred_classes: tensor([1])])}, {'file_name': '/content/sample_data/f8f36df9b645fa97e0f0ea027195ffc2.tif', 'instances': Instances(num_instances=1, image_height=2292, image_width=1728, fields=[pred_boxes: Boxes(tensor([[ 766.9838, 1210.9358, 1282.4518, 1328.1544]])), scores: tensor([0.9977]), pred_classes: tensor([1])])}, {'file_name': '/content/sample_data/aec7b8c45a0cae6856d6975b94923e38.tif', 'instances': Instances(num_instances=1, image_height=3290, image_width=2560, fields=[pred_boxes: Boxes(tensor([[1154.8055, 1944.4094, 1801.1888, 2099.3291]])), scores: tensor([0.8476]), pred_classes: tensor([1])])}, {'file_name': '/content/sample_data/4106cb065758ce92428b34f0d15e4848_14.tif', 'instances': Instances(num_instances=1, image_height=1575, image_width=1200, fields=[pred_boxes: Boxes(tensor([[ 463.2063, 1324.2844,  673.4774, 1376.5046]])), scores: tensor([0.9715]), pred_classes: tensor([1])])}, {'file_name': '/content/sample_data/2b0434d33f4945873c377eb89be0bc8b.tif', 'instances': Instances(num_instances=1, image_height=3252, image_width=2544, fields=[pred_boxes: Boxes(tensor([[1197.5303, 2424.1133, 1965.0751, 2550.4414]])), scores: tensor([0.9982]), pred_classes: tensor([1])])}, {'file_name': '/content/sample_data/818b067a4a47b56127d27d86d15203fa.tif', 'instances': Instances(num_instances=1, image_height=3109, image_width=2504, fields=[pred_boxes: Boxes(tensor([[1226.5387, 2449.0535, 2116.2344, 2794.2205]])), scores: tensor([0.9971]), pred_classes: tensor([1])])}, {'file_name': '/content/sample_data/8b2e30ff3b7c51c0781bf3e2b4078927_2.tif', 'instances': Instances(num_instances=1, image_height=2292, image_width=1728, fields=[pred_boxes: Boxes(tensor([[ 926.7750,  550.5403, 1145.2159,  711.8718]])), scores: tensor([0.9982]), pred_classes: tensor([1])])}, {'file_name': '/content/sample_data/96c9d24f6ccf0899d15c882e062ffc83_3.tif', 'instances': Instances(num_instances=0, image_height=3150, image_width=2400, fields=[pred_boxes: Boxes(tensor([], size=(0, 4))), scores: tensor([]), pred_classes: tensor([], dtype=torch.int64)])}, {'file_name': '/content/sample_data/84b7d9d91b5e4f982b8473eaafdb5eda_2.tif', 'instances': Instances(num_instances=1, image_height=3296, image_width=2560, fields=[pred_boxes: Boxes(tensor([[1245.3923, 1923.8846, 1574.5177, 2241.3542]])), scores: tensor([0.9967]), pred_classes: tensor([1])])}, {'file_name': '/content/sample_data/834116f765417fb3895d098d6d2ecefb_2.tif', 'instances': Instances(num_instances=2, image_height=3230, image_width=2560, fields=[pred_boxes: Boxes(tensor([[1311.1172, 1164.2395, 1870.6741, 1284.7979],\n",
            "        [ 391.0954, 1875.8516,  892.7869, 1977.0688]])), scores: tensor([0.9969, 0.9934]), pred_classes: tensor([1, 1])])}, {'file_name': '/content/sample_data/4106cb065758ce92428b34f0d15e4848_5.tif', 'instances': Instances(num_instances=0, image_height=1575, image_width=1200, fields=[pred_boxes: Boxes(tensor([], size=(0, 4))), scores: tensor([]), pred_classes: tensor([], dtype=torch.int64)])}, {'file_name': '/content/sample_data/0533a1e934bd69947b247d0e858d854f_5.tif', 'instances': Instances(num_instances=0, image_height=1575, image_width=1200, fields=[pred_boxes: Boxes(tensor([], size=(0, 4))), scores: tensor([]), pred_classes: tensor([], dtype=torch.int64)])}, {'file_name': '/content/sample_data/61e70745b0e5c4134680f2161dbb0897.tif', 'instances': Instances(num_instances=1, image_height=1575, image_width=1200, fields=[pred_boxes: Boxes(tensor([[619.4872, 811.4712, 858.3566, 886.8389]])), scores: tensor([0.9934]), pred_classes: tensor([1])])}, {'file_name': '/content/sample_data/5d1c5c93b464ed97c9508befa50e866e_3.tif', 'instances': Instances(num_instances=0, image_height=1575, image_width=1200, fields=[pred_boxes: Boxes(tensor([], size=(0, 4))), scores: tensor([]), pred_classes: tensor([], dtype=torch.int64)])}, {'file_name': '/content/sample_data/52f798c11646c0aa79900612cb43433f_2.tif', 'instances': Instances(num_instances=0, image_height=1575, image_width=1200, fields=[pred_boxes: Boxes(tensor([], size=(0, 4))), scores: tensor([]), pred_classes: tensor([], dtype=torch.int64)])}, {'file_name': '/content/sample_data/0a618bf88fda631953bf0707455e8178.tif', 'instances': Instances(num_instances=1, image_height=3150, image_width=2400, fields=[pred_boxes: Boxes(tensor([[1016.5648, 1710.1936, 1615.9661, 1899.9526]])), scores: tensor([0.9967]), pred_classes: tensor([1])])}, {'file_name': '/content/sample_data/9a9a3db409b4af6fdf6b677aeedab11f_2.tif', 'instances': Instances(num_instances=0, image_height=1575, image_width=1200, fields=[pred_boxes: Boxes(tensor([], size=(0, 4))), scores: tensor([]), pred_classes: tensor([], dtype=torch.int64)])}, {'file_name': '/content/sample_data/5ba8ea1745e03ae9d5324288f2716a2d_1.tif', 'instances': Instances(num_instances=0, image_height=1575, image_width=1200, fields=[pred_boxes: Boxes(tensor([], size=(0, 4))), scores: tensor([]), pred_classes: tensor([], dtype=torch.int64)])}, {'file_name': '/content/sample_data/aa18781ad618f6aae949142d51d13b21_1.tif', 'instances': Instances(num_instances=0, image_height=1575, image_width=1200, fields=[pred_boxes: Boxes(tensor([], size=(0, 4))), scores: tensor([]), pred_classes: tensor([], dtype=torch.int64)])}, {'file_name': '/content/sample_data/083333af6122d35b285b062d52144332.tif', 'instances': Instances(num_instances=2, image_height=2292, image_width=1728, fields=[pred_boxes: Boxes(tensor([[ 998.0428, 1200.2153, 1411.8927, 1301.3109],\n",
            "        [ 569.2155, 1231.3666,  865.6885, 1350.2078]])), scores: tensor([0.9984, 0.9976]), pred_classes: tensor([1, 1])])}, {'file_name': '/content/sample_data/c969c61c59929b2fc98596b37ef31774.tif', 'instances': Instances(num_instances=4, image_height=3300, image_width=2544, fields=[pred_boxes: Boxes(tensor([[1790.5994, 2462.2039, 2380.8694, 2555.0369],\n",
            "        [1763.8892, 2260.9517, 2368.7700, 2388.6494],\n",
            "        [1719.6888, 1883.8055, 2222.5781, 1970.8296],\n",
            "        [1745.6550, 1882.7794, 2043.5215, 1953.4415]])), scores: tensor([0.9958, 0.9913, 0.9594, 0.7722]), pred_classes: tensor([1, 1, 1, 1])])}, {'file_name': '/content/sample_data/e8071e6fd6cf1b9cfd1d8bdd8328a7e9.tif', 'instances': Instances(num_instances=4, image_height=3300, image_width=2544, fields=[pred_boxes: Boxes(tensor([[1491.3601, 2271.8296, 1933.2589, 2379.0371],\n",
            "        [1733.4108, 2421.8074, 2318.1006, 2575.1765],\n",
            "        [ 648.2700, 2113.3857, 1380.4741, 2289.8203],\n",
            "        [1083.8207, 1708.5458, 1284.6775, 1824.2711]])), scores: tensor([0.9964, 0.9963, 0.9832, 0.9046]), pred_classes: tensor([1, 1, 1, 1])])}, {'file_name': '/content/sample_data/aa18781ad618f6aae949142d51d13b21_4.tif', 'instances': Instances(num_instances=0, image_height=1575, image_width=1200, fields=[pred_boxes: Boxes(tensor([], size=(0, 4))), scores: tensor([]), pred_classes: tensor([], dtype=torch.int64)])}, {'file_name': '/content/sample_data/29f97d3de882b51f75cec87b7f81726b_2.tif', 'instances': Instances(num_instances=0, image_height=2292, image_width=1728, fields=[pred_boxes: Boxes(tensor([], size=(0, 4))), scores: tensor([]), pred_classes: tensor([], dtype=torch.int64)])}, {'file_name': '/content/sample_data/43e00eab8fa5985f64dc91995dd33bfe.tif', 'instances': Instances(num_instances=1, image_height=2292, image_width=1728, fields=[pred_boxes: Boxes(tensor([[ 971.0452, 1807.3987, 1452.2300, 1956.8949]])), scores: tensor([0.9992]), pred_classes: tensor([1])])}, {'file_name': '/content/sample_data/be3ac3513667c46886e2cf27ddedbe36_2.tif', 'instances': Instances(num_instances=0, image_height=3294, image_width=2560, fields=[pred_boxes: Boxes(tensor([], size=(0, 4))), scores: tensor([]), pred_classes: tensor([], dtype=torch.int64)])}, {'file_name': '/content/sample_data/8a9c9db19d634e3370703aa85d7fbd0c.tif', 'instances': Instances(num_instances=1, image_height=3228, image_width=2544, fields=[pred_boxes: Boxes(tensor([[1390.3594, 2073.2739, 2149.7322, 2215.5906]])), scores: tensor([0.9944]), pred_classes: tensor([1])])}, {'file_name': '/content/sample_data/ad729ba5891d6199f01d12d59086bb86_3.tif', 'instances': Instances(num_instances=0, image_height=3296, image_width=2624, fields=[pred_boxes: Boxes(tensor([], size=(0, 4))), scores: tensor([]), pred_classes: tensor([], dtype=torch.int64)])}, {'file_name': '/content/sample_data/ecd45d72b2f887f7abfe06223ae1f6e2.tif', 'instances': Instances(num_instances=2, image_height=2292, image_width=1728, fields=[pred_boxes: Boxes(tensor([[1097.3444, 1068.8717, 1472.4669, 1131.0743],\n",
            "        [1255.5791, 1072.7671, 1454.8352, 1125.3353]])), scores: tensor([0.9942, 0.9070]), pred_classes: tensor([1, 1])])}, {'file_name': '/content/sample_data/051781786f9fb429f4cc6508ac8e0676_3.tif', 'instances': Instances(num_instances=1, image_height=3298, image_width=2544, fields=[pred_boxes: Boxes(tensor([[1453.6968, 2318.8064, 1855.2875, 2436.6011]])), scores: tensor([0.9968]), pred_classes: tensor([1])])}, {'file_name': '/content/sample_data/2448aa6c9efc2d3e82ce83f2f5b13168.tif', 'instances': Instances(num_instances=1, image_height=3288, image_width=2544, fields=[pred_boxes: Boxes(tensor([[ 440.7652, 2552.3206, 1047.5616, 2679.6709]])), scores: tensor([0.9977]), pred_classes: tensor([1])])}, {'file_name': '/content/sample_data/c6eac7dcac43ab7535ceb587ff65cd3b_2.tif', 'instances': Instances(num_instances=0, image_height=1575, image_width=1200, fields=[pred_boxes: Boxes(tensor([], size=(0, 4))), scores: tensor([]), pred_classes: tensor([], dtype=torch.int64)])}, {'file_name': '/content/sample_data/c29f7d2b95144642cea08a4f4455efe9_3.tif', 'instances': Instances(num_instances=0, image_height=3159, image_width=2560, fields=[pred_boxes: Boxes(tensor([], size=(0, 4))), scores: tensor([]), pred_classes: tensor([], dtype=torch.int64)])}, {'file_name': '/content/sample_data/7219ab660be47b31ea259f2607b48850.tif', 'instances': Instances(num_instances=1, image_height=3255, image_width=2544, fields=[pred_boxes: Boxes(tensor([[1521.9730, 2505.3052, 1828.4020, 2638.6406]])), scores: tensor([0.9944]), pred_classes: tensor([1])])}, {'file_name': '/content/sample_data/5009b204206a782e86348f66217b0943.tif', 'instances': Instances(num_instances=1, image_height=3350, image_width=2560, fields=[pred_boxes: Boxes(tensor([[1164.1219, 2271.0671, 1872.6412, 2445.4746]])), scores: tensor([0.9935]), pred_classes: tensor([1])])}, {'file_name': '/content/sample_data/abfb6f72a5fa597faf5504a01e5e3d79_5.tif', 'instances': Instances(num_instances=0, image_height=1575, image_width=1200, fields=[pred_boxes: Boxes(tensor([], size=(0, 4))), scores: tensor([]), pred_classes: tensor([], dtype=torch.int64)])}, {'file_name': '/content/sample_data/081a5d93952b57ecde40bc02b8b70e67_2.tif', 'instances': Instances(num_instances=1, image_height=3150, image_width=2400, fields=[pred_boxes: Boxes(tensor([[1446.9321, 1372.5559, 2141.3066, 1507.0585]])), scores: tensor([0.9946]), pred_classes: tensor([1])])}, {'file_name': '/content/sample_data/0148e4778e6d8b22a8980bf4fc89351b_25.tif', 'instances': Instances(num_instances=0, image_height=1575, image_width=1200, fields=[pred_boxes: Boxes(tensor([], size=(0, 4))), scores: tensor([]), pred_classes: tensor([], dtype=torch.int64)])}, {'file_name': '/content/sample_data/6103ce8203bae073bc7fbe4d839442e6.tif', 'instances': Instances(num_instances=1, image_height=3315, image_width=2560, fields=[pred_boxes: Boxes(tensor([[1137.4521, 2529.8628, 1909.4104, 2733.0830]])), scores: tensor([0.9969]), pred_classes: tensor([1])])}, {'file_name': '/content/sample_data/2901d78cd3470b6283bfdc8ccb41538a_10.tif', 'instances': Instances(num_instances=1, image_height=3282, image_width=2544, fields=[pred_boxes: Boxes(tensor([[1431.4374,  658.7406, 2457.3208,  799.9122]])), scores: tensor([0.9016]), pred_classes: tensor([1])])}, {'file_name': '/content/sample_data/fd40cbeac18b5764fbd2f8d1d52e5640.tif', 'instances': Instances(num_instances=1, image_height=3292, image_width=2544, fields=[pred_boxes: Boxes(tensor([[1253.8627, 2463.9199, 1799.5112, 2632.6250]])), scores: tensor([0.9982]), pred_classes: tensor([1])])}]\n"
          ]
        }
      ]
    },
    {
      "cell_type": "code",
      "metadata": {
        "id": "I69wgnrPd6ox"
      },
      "source": [
        "with open('results.txt', 'w') as f:\n",
        "  for item in res:\n",
        "        f.write(\"%s\\n\" % item)"
      ],
      "execution_count": 25,
      "outputs": []
    },
    {
      "cell_type": "code",
      "metadata": {
        "colab": {
          "base_uri": "https://localhost:8080/"
        },
        "id": "w5Y-Z2MJtLDr",
        "outputId": "240d2a3d-61f1-470a-cc54-8deefd9a424f"
      },
      "source": [
        "parsed_res = []\n",
        "for item in res:\n",
        "  parsed_res.append((item['file_name'][21:-4], 1 if len(item['instances'].get('pred_boxes')) > 0 else 0))\n",
        "\n",
        "print(parsed_res)"
      ],
      "execution_count": 75,
      "outputs": [
        {
          "output_type": "stream",
          "name": "stdout",
          "text": [
            "[('6a381bb657efa536ec4b11dd3a608820', 1), ('eb09d89ba31fed396d5a5a8d8a9d1828', 1), ('69a1fa63b5ef242c6f358c2975e3ac35', 1), ('27124678eef95d8801ac23d9f5f1ad55', 1), ('bfe582366beebd7f8848bbf53d6304be_3', 0), ('3832e7dac6c2fc6750c7ad7aadda9a95', 1), ('aa18781ad618f6aae949142d51d13b21_2', 0), ('75afebf5f040177e9b1e35d8119a04c3_2', 1), ('c1c43fe5d79a70bf949c05e5b8ed267d_1', 0), ('1038a29f20f610df2e01b36f51bc9a31', 1), ('e17e418919f88f7155b85f2bf58e7975', 1), ('4b520da4e68716484a7374a42bf7e2a9_2', 1), ('ebfea1a0350207555bb9ce733d3ea7fd_3', 1), ('bcef979fdc530eba01f536f47878813f_1', 1), ('ca2a234d58852de50b07a6a216370b6d_7', 1), ('bcef979fdc530eba01f536f47878813f_2', 1), ('6b816984ec5fbd0541836da977d4570d_3', 0), ('4cb366eee206bc9f0b48c0c8d7cc94ae', 1), ('dc703955d59f63982f81892900824cc4_2', 0), ('d0813ddce0c72c0fb0c33257903d518d_5', 0), ('ad729ba5891d6199f01d12d59086bb86_1', 0), ('741b84cb122cba80c73c8ef585f7d942_1', 0), ('b76c113a590bac5583eb93912252fd4f_2', 1), ('14cff1e5fc1ede8bd192912a74248498', 1), ('8e20c5b100299349efd0339019392688_3', 0), ('8b3f89e07f89af210e8fa6f13ab68b8d_2', 0), ('eb74dd87d0a9b876ad10a764469e94f7_2', 1), ('02148af935993f360f2d9c3ca3eb782a_8', 0), ('9a95439e31a3a518a5553be861d99a7a_1', 1), ('c26466dc96f28a4ebd901799d53c60ab', 1), ('440093428bfce70c0c2f83dbe121d28a', 1), ('843f22d756fd68cfafc952fd7c2496d5_2', 0), ('2597dd3149842ddc6435b7024c45fbb8_1', 0), ('4ca8d0d55601876d3e7742c4db5df7a8', 1), ('5b17ed3b970a83bcd89acdfed20c0c67', 1), ('833992cc1bb0892538cf4ecea8fe9785_2', 0), ('9ab54e46518a644986174cdceede443b', 1), ('52a641fd852639daaa45556a3d7f3a55_6', 0), ('2b39a63db00417e8838bcc6256e903a1_1', 0), ('02701be3fc048a3b7e2ce7a4b2a05aad', 1), ('859aa4c546d2b3e727cd96455e576c54', 1), ('e882a0ff6993d79e93822f7a50bcd137_2', 1), ('64dfdeb472cdd0350b654eecab8f3e98', 1), ('3598b981fd75d09523dd049614fab8f1', 1), ('2af4976206c338874b12fd33ec18aceb_8', 0), ('f3d058f08f7612b07520701b5c7ec7e5_1', 1), ('70fb7730f6a6a9a7886d6258ae850abe_1', 1), ('d99f3a9446d06d9f027e632f4b781f77_1', 0), ('2870a573bd58f699613872199365625d_1', 1), ('48b7ff5df20f9896f9102e2c98ef26f9', 1), ('f95151d46ab46fe856074feb728f4190', 1), ('ec11520897b3697b7a99af00d64144f0_3', 0), ('a9f685568aeeef0b2dc6322bccdfc3eb_3', 0), ('47ad6d7c0e2e7b7a61a05000669bfbb8', 1), ('23da1f0aae50d9e2b044b599dcaea38e_2', 1), ('2af4976206c338874b12fd33ec18aceb_32', 0), ('0d26d1e0574f8c36cf6091d04e84dfdb', 0), ('6f52adbcded6525df92e699a0cbfb1f9', 1), ('a2d03463f8e34b2af50242d9dc122a47', 1), ('1b6d0840c3277fe4ac4215b5bc8aecfd', 1), ('e630893e4a9a2696bfa7f7c2ecdcee52', 1), ('c1056529ee761ff7cbf513dc6cca6fd4_6', 0), ('2901d78cd3470b6283bfdc8ccb41538a_6', 1), ('794cb1934863cdcffa46755cc8a19c4e', 1), ('0370ca51b827c0f72a8f6b6a83e4411a', 1), ('05dbb8801643d58f9aa7c1d1de0ea6c2', 1), ('dd1fb8dfe7627a21fd3b1db9f975f616', 1), ('bd017a684aa93257d7c79fedde4d24e7_3', 0), ('70fb7730f6a6a9a7886d6258ae850abe_2', 0), ('29ecd87fe6f74f21759b8776c79f8614', 1), ('093e2707ae252960934357cbf04569c3', 1), ('f12b9a1d92be06ce9357ae9a12a66e52_2', 1), ('f6690637ad8d45c5a712cb3afb86b54c_3', 0), ('489e5d546e50dbd33740065569f4e59c', 1), ('0a948131fe85c38152c0b9b22f7c09fc_1', 0), ('a10e148d1b37959b5551663847bfa0fe', 1), ('b92bc38b3add1765067113c29e585921', 1), ('1722e3504190bd3560bb0f4b16aec6dc_1', 1), ('3cf16ae1c4b21b53eba598ede578222a_1', 0), ('e1c39b2cd75cbe3e140791382085cd6b_2', 0), ('0148e4778e6d8b22a8980bf4fc89351b_30', 0), ('fef37ea5a0c4dd7978a4a433fa3a31ce_2', 0), ('0d338061a285cb5d573481a4662f401a', 1), ('5b2d9b4fe0607c1026393f5150d1f4fc', 1), ('b7e828906496c359de4040f47f360358_2', 1), ('5b3e4de6da2a3165c4ee76b543f205ea_2', 1), ('ec05648467538a1ede83914c61413105_2', 1), ('f63389d3dc870e6bb0286ea5453dc838', 1), ('52a0c51a16f05bf71b81b3ca9a436380', 1), ('2a3b508ae7e65a09b65f6d5bde660a8f_2', 0), ('c1056529ee761ff7cbf513dc6cca6fd4_8', 0), ('d8bfc6ecdcdf89f1f800c4fa061ba0a8', 1), ('237ca768be1a45d14145934b6f08d615_1', 1), ('d3c7bb268afb3ba438b1ed56fa4f247a', 1), ('d4dfbdddc3e02c1e4891773f0b26f73e', 1), ('f7744d49d65d3c116b4b343974be2f2a', 1), ('b6c8c5afc4c2eed12844de9120f1806d_1', 0), ('1bd2523b9656a823c86e768c3db75699_2', 1), ('0f6bc860c0dbac06933e2dbae943b850_4', 0), ('c0b84f027df8a69add66559d915ad6f2_2', 1), ('c816e5457fc313c27bd38ebc1658b4b8_2', 0), ('dc703955d59f63982f81892900824cc4_1', 1), ('7dbd05a83a7eb8a6ab319be91f212e04', 1), ('9fd6712003f8bace5a28d611af1b4a21', 1), ('51e2bcf8a78d836c45bd5d41e4555331', 1), ('a08f466893c15a617ed515685b7299de', 1), ('89257a01e2ef49e126c0922ff2bbd958', 1), ('7921d3c75456cfe74d8d0a9d122d15b8', 1), ('cb07b3779ee43a9bb7eecb322a6b4160_2', 1), ('804e87517d92e7d017194af35fbda7e9', 1), ('0171cd73c7bdbf48ccfd0c21804f9ced_1', 0), ('ad729ba5891d6199f01d12d59086bb86_2', 0), ('c1056529ee761ff7cbf513dc6cca6fd4_9', 0), ('78eefcec01514be9fb5f6cb89d5e3618', 1), ('ce457dce276f4915180fef71c775162e_3', 0), ('833992cc1bb0892538cf4ecea8fe9785_3', 1), ('f12b9a1d92be06ce9357ae9a12a66e52_1', 0), ('f2b2ec91a9c04abdf0912d7c53e25375_2', 1), ('5a6c034929ab5dd708076326ad206261_2', 1), ('27e71907349fdcdbe194d7ee170ee3e8', 1), ('47fa53ffb251404ebbce4613e029cdb4', 1), ('461c0b428363ba6f0bb5a3a425b31b09_1', 0), ('d7fe5038153863f1991c31af2e4f901a_4', 0), ('81e513afffd3423a3e34efd26928a11e_2', 1), ('e1d6a3b9926c31029b5d6a0360fef076', 1), ('d7fe5038153863f1991c31af2e4f901a_1', 0), ('48f44aba421433a2856ffb1dcdaa3d2d', 1), ('7679ff1c8fc5239a90e06d16b03d36a8_2', 0), ('ab13cc8cb31ec459a4a6601fbba46b38', 1), ('4106cb065758ce92428b34f0d15e4848_9', 0), ('8e20c5b100299349efd0339019392688_6', 1), ('6f1bfb07d872d00e366d5bfaf05ed685', 1), ('32b1fc5cbe73d5465ef6782e14cb8d1c', 1), ('ca2a234d58852de50b07a6a216370b6d_1', 0), ('23da1f0aae50d9e2b044b599dcaea38e_1', 0), ('c98a06bc768ed92afea8be4a67c26911_1', 0), ('7679ff1c8fc5239a90e06d16b03d36a8_1', 0), ('3856c8ff3e6f2dde76add95de3d0ca07_2', 1), ('4b803581168aa9bf50d55d57f6e1eec7', 1), ('ac6537f96fb80636cb53b7cd622f5bc8_2', 1), ('52a641fd852639daaa45556a3d7f3a55_1', 1), ('8f17b3f63cde2381e558d22498fbd0b9', 1), ('02148af935993f360f2d9c3ca3eb782a_10', 0), ('ec11520897b3697b7a99af00d64144f0_6', 1), ('0c45e17531f95abb9a4eccc2a8caa7ad', 1), ('8d23666b8cdbb6f8bd189205f009e040_1', 1), ('4e8fb4e8b8d83fcd5f32a1c912baccae', 1), ('90e16a31a300a84ae0af957c3a3acb9d_2', 0), ('f3fe4d4707c050b65948569ce11c30e4_2', 1), ('f1291ecf84e7796f4d66e8649d2ea187', 1), ('ce1fd803ed1d255701bbbae6c9f115e7', 1), ('74bdd082397abc428326f0b5d20e4391', 1), ('3c4f19a076a741814ea1d21abe8c9fd0_1', 0), ('1b5b26eea70d2bed49b6a17d456e5662', 1), ('b9057662f672b5a6d231d9c7efc6838d_2', 1), ('ba477bfe81ebbb1b720413a2528d7ef3', 1), ('d5aecd463abb8e65851bd7c5cde7aced', 1), ('7f19a1ea9dbcdf99a9c78a7fb65d3c9b', 1), ('3cf16ae1c4b21b53eba598ede578222a_11', 0), ('6a87460e604881ea8637af297e1203cb', 1), ('941300c64e74b28a0f8e6279da75fdbf', 1), ('b6f9fe8b3211985645495963af5fbb92', 1), ('aa18781ad618f6aae949142d51d13b21_3', 1), ('1d474b0d56e538e158a3f42bf7bc1014_3', 0), ('1d2e8136a4a96db48b8916bc2726d474_1', 0), ('44212463201dbdfe0443f6ea8f229189', 1), ('bcef979fdc530eba01f536f47878813f', 1), ('ac15e4343f32abf47d5d561409555d11_1', 1), ('cf250e5f053cd65aa930c7d76f264d11_1', 0), ('1694540ff9371090fed21cf56ac9dba3', 1), ('0148e4778e6d8b22a8980bf4fc89351b_37', 0), ('b377779e936157605e7665ec64cad21b', 1), ('e26fb0dbdcb3c4a04df9746f97ef308d_1', 0), ('c98a06bc768ed92afea8be4a67c26911_2', 1), ('1f059116c976aadaef2d8320823f99a9', 1), ('f35ea13820cfa86807f6e7727e2e67c4', 1), ('3cff137fe2399ad68700b30e486ca355', 1), ('88f8451bfa4febd530d8c8e61176953d', 1), ('8a788308be95f04c3ad32380429a6f29_1', 0), ('157324df63935e01ba0a9550ab8cf172', 1), ('8c25cad2042e3f54dfe8ac6733059dca_1', 1), ('7db8eca4d3da52ed2e0d9e60adbd72d6_2', 0), ('ec702e8e33699b1d6c9ef834278ac61f', 1), ('2c03d984595488ef1847727694342441_1', 1), ('2dd410971086c44aa79a0fbf4dc12949', 1), ('35cabb4a166bfca8b4a49f8d5bbf74f2_1', 0), ('52a641fd852639daaa45556a3d7f3a55_2', 1), ('7dba34a0581638791ac2007fd8ee25e9', 1), ('b9057662f672b5a6d231d9c7efc6838d_1', 0), ('237ca768be1a45d14145934b6f08d615_2', 0), ('0f5bb627fa045d97551937ab506e8ab0_1', 0), ('d21ccfd2667fd9ca221254512900ac17_1', 0), ('eec4d154cd1528b94b523b0798197301', 1), ('ef7bc405f9fafb69773bb9739c6c126a', 1), ('363160d94b589e99b560c79c478513d6_1', 0), ('afcfb90e729e30b3dc7b09353200dac3', 1), ('847e91fdb5d5363913b2866bd084b58e_1', 0), ('2af4976206c338874b12fd33ec18aceb_4', 0), ('f17681f73a22293d830e7c2a9e0ab10d_2', 0), ('c9d2121423c6174c4d3eaebb778aa74e', 0), ('0533a1e934bd69947b247d0e858d854f_4', 0), ('0f6bc860c0dbac06933e2dbae943b850_2', 0), ('c29f7d2b95144642cea08a4f4455efe9_2', 1), ('ac15e4343f32abf47d5d561409555d11_2', 0), ('5740f241edc8a888a1004e236332ecbe_4', 0), ('27ba63d3058002be6240905d0ce0a433_1', 1), ('c29f7d2b95144642cea08a4f4455efe9_6', 1), ('e890afa2c7d093b261733e0724b009a9', 1), ('0148e4778e6d8b22a8980bf4fc89351b_12', 1), ('ada41d64f7082d721ee96cce69dd49ee', 1), ('47ec118d10165fa499d2a65f7fe49759', 1), ('f8f36df9b645fa97e0f0ea027195ffc2', 1), ('aec7b8c45a0cae6856d6975b94923e38', 1), ('4106cb065758ce92428b34f0d15e4848_14', 1), ('2b0434d33f4945873c377eb89be0bc8b', 1), ('818b067a4a47b56127d27d86d15203fa', 1), ('8b2e30ff3b7c51c0781bf3e2b4078927_2', 1), ('96c9d24f6ccf0899d15c882e062ffc83_3', 0), ('84b7d9d91b5e4f982b8473eaafdb5eda_2', 1), ('834116f765417fb3895d098d6d2ecefb_2', 1), ('4106cb065758ce92428b34f0d15e4848_5', 0), ('0533a1e934bd69947b247d0e858d854f_5', 0), ('61e70745b0e5c4134680f2161dbb0897', 1), ('5d1c5c93b464ed97c9508befa50e866e_3', 0), ('52f798c11646c0aa79900612cb43433f_2', 0), ('0a618bf88fda631953bf0707455e8178', 1), ('9a9a3db409b4af6fdf6b677aeedab11f_2', 0), ('5ba8ea1745e03ae9d5324288f2716a2d_1', 0), ('aa18781ad618f6aae949142d51d13b21_1', 0), ('083333af6122d35b285b062d52144332', 1), ('c969c61c59929b2fc98596b37ef31774', 1), ('e8071e6fd6cf1b9cfd1d8bdd8328a7e9', 1), ('aa18781ad618f6aae949142d51d13b21_4', 0), ('29f97d3de882b51f75cec87b7f81726b_2', 0), ('43e00eab8fa5985f64dc91995dd33bfe', 1), ('be3ac3513667c46886e2cf27ddedbe36_2', 0), ('8a9c9db19d634e3370703aa85d7fbd0c', 1), ('ad729ba5891d6199f01d12d59086bb86_3', 0), ('ecd45d72b2f887f7abfe06223ae1f6e2', 1), ('051781786f9fb429f4cc6508ac8e0676_3', 1), ('2448aa6c9efc2d3e82ce83f2f5b13168', 1), ('c6eac7dcac43ab7535ceb587ff65cd3b_2', 0), ('c29f7d2b95144642cea08a4f4455efe9_3', 0), ('7219ab660be47b31ea259f2607b48850', 1), ('5009b204206a782e86348f66217b0943', 1), ('abfb6f72a5fa597faf5504a01e5e3d79_5', 0), ('081a5d93952b57ecde40bc02b8b70e67_2', 1), ('0148e4778e6d8b22a8980bf4fc89351b_25', 0), ('6103ce8203bae073bc7fbe4d839442e6', 1), ('2901d78cd3470b6283bfdc8ccb41538a_10', 1), ('fd40cbeac18b5764fbd2f8d1d52e5640', 1)]\n"
          ]
        }
      ]
    },
    {
      "cell_type": "code",
      "metadata": {
        "id": "BvUklw1z3pwT"
      },
      "source": [
        "with open('parsed_results.txt', 'w') as f:\n",
        "  parsed_res"
      ],
      "execution_count": 62,
      "outputs": []
    },
    {
      "cell_type": "code",
      "metadata": {
        "id": "n_SCAZn34TKz"
      },
      "source": [
        "import pandas"
      ],
      "execution_count": 63,
      "outputs": []
    },
    {
      "cell_type": "code",
      "metadata": {
        "colab": {
          "base_uri": "https://localhost:8080/",
          "height": 415
        },
        "id": "w8pmuogt4VHL",
        "outputId": "e0444193-7c9d-4468-8337-d85014a0e4ac"
      },
      "source": [
        "df = pandas.DataFrame(columns=['Id','Expected'], data=parsed_res)\n",
        "df"
      ],
      "execution_count": 77,
      "outputs": [
        {
          "output_type": "execute_result",
          "data": {
            "text/html": [
              "<div>\n",
              "<style scoped>\n",
              "    .dataframe tbody tr th:only-of-type {\n",
              "        vertical-align: middle;\n",
              "    }\n",
              "\n",
              "    .dataframe tbody tr th {\n",
              "        vertical-align: top;\n",
              "    }\n",
              "\n",
              "    .dataframe thead th {\n",
              "        text-align: right;\n",
              "    }\n",
              "</style>\n",
              "<table border=\"1\" class=\"dataframe\">\n",
              "  <thead>\n",
              "    <tr style=\"text-align: right;\">\n",
              "      <th></th>\n",
              "      <th>Id</th>\n",
              "      <th>Expected</th>\n",
              "    </tr>\n",
              "  </thead>\n",
              "  <tbody>\n",
              "    <tr>\n",
              "      <th>0</th>\n",
              "      <td>6a381bb657efa536ec4b11dd3a608820</td>\n",
              "      <td>1</td>\n",
              "    </tr>\n",
              "    <tr>\n",
              "      <th>1</th>\n",
              "      <td>eb09d89ba31fed396d5a5a8d8a9d1828</td>\n",
              "      <td>1</td>\n",
              "    </tr>\n",
              "    <tr>\n",
              "      <th>2</th>\n",
              "      <td>69a1fa63b5ef242c6f358c2975e3ac35</td>\n",
              "      <td>1</td>\n",
              "    </tr>\n",
              "    <tr>\n",
              "      <th>3</th>\n",
              "      <td>27124678eef95d8801ac23d9f5f1ad55</td>\n",
              "      <td>1</td>\n",
              "    </tr>\n",
              "    <tr>\n",
              "      <th>4</th>\n",
              "      <td>bfe582366beebd7f8848bbf53d6304be_3</td>\n",
              "      <td>0</td>\n",
              "    </tr>\n",
              "    <tr>\n",
              "      <th>...</th>\n",
              "      <td>...</td>\n",
              "      <td>...</td>\n",
              "    </tr>\n",
              "    <tr>\n",
              "      <th>246</th>\n",
              "      <td>081a5d93952b57ecde40bc02b8b70e67_2</td>\n",
              "      <td>1</td>\n",
              "    </tr>\n",
              "    <tr>\n",
              "      <th>247</th>\n",
              "      <td>0148e4778e6d8b22a8980bf4fc89351b_25</td>\n",
              "      <td>0</td>\n",
              "    </tr>\n",
              "    <tr>\n",
              "      <th>248</th>\n",
              "      <td>6103ce8203bae073bc7fbe4d839442e6</td>\n",
              "      <td>1</td>\n",
              "    </tr>\n",
              "    <tr>\n",
              "      <th>249</th>\n",
              "      <td>2901d78cd3470b6283bfdc8ccb41538a_10</td>\n",
              "      <td>1</td>\n",
              "    </tr>\n",
              "    <tr>\n",
              "      <th>250</th>\n",
              "      <td>fd40cbeac18b5764fbd2f8d1d52e5640</td>\n",
              "      <td>1</td>\n",
              "    </tr>\n",
              "  </tbody>\n",
              "</table>\n",
              "<p>251 rows × 2 columns</p>\n",
              "</div>"
            ],
            "text/plain": [
              "                                      Id  Expected\n",
              "0       6a381bb657efa536ec4b11dd3a608820         1\n",
              "1       eb09d89ba31fed396d5a5a8d8a9d1828         1\n",
              "2       69a1fa63b5ef242c6f358c2975e3ac35         1\n",
              "3       27124678eef95d8801ac23d9f5f1ad55         1\n",
              "4     bfe582366beebd7f8848bbf53d6304be_3         0\n",
              "..                                   ...       ...\n",
              "246   081a5d93952b57ecde40bc02b8b70e67_2         1\n",
              "247  0148e4778e6d8b22a8980bf4fc89351b_25         0\n",
              "248     6103ce8203bae073bc7fbe4d839442e6         1\n",
              "249  2901d78cd3470b6283bfdc8ccb41538a_10         1\n",
              "250     fd40cbeac18b5764fbd2f8d1d52e5640         1\n",
              "\n",
              "[251 rows x 2 columns]"
            ]
          },
          "metadata": {},
          "execution_count": 77
        }
      ]
    },
    {
      "cell_type": "code",
      "metadata": {
        "id": "2LRBOvvF6M4E"
      },
      "source": [
        "compression_opts = dict(method='zip',\n",
        "                        archive_name='out.csv') \n",
        "df.to_csv('out.csv', index=False)"
      ],
      "execution_count": 80,
      "outputs": []
    },
    {
      "cell_type": "code",
      "metadata": {
        "colab": {
          "base_uri": "https://localhost:8080/"
        },
        "id": "6-FSq4z69k3t",
        "outputId": "704b64de-6d76-4414-fbf1-288a3878d0f7"
      },
      "source": [
        "res_with_bbox = []\n",
        "for item in res:\n",
        "  #res_with_bbox.append((item['file_name'][21:-4], 1 if len(item['instances'].get('pred_boxes')) > 0 else 0))\n",
        "  res_with_bbox.append((item['file_name'][21:-4], item['instances'].pred_boxes.tensor.cpu().numpy().tolist(), item['instances'].scores.cpu().numpy().tolist()))\n",
        "\n",
        "print(res_with_bbox)"
      ],
      "execution_count": 129,
      "outputs": [
        {
          "output_type": "stream",
          "name": "stdout",
          "text": [
            "[('6a381bb657efa536ec4b11dd3a608820', [[705.2631225585938, 1113.5126953125, 909.6485595703125, 1162.655029296875]], [0.9796600937843323]), ('eb09d89ba31fed396d5a5a8d8a9d1828', [[1465.2926025390625, 2686.25732421875, 1955.6026611328125, 2875.295654296875], [1465.17138671875, 2693.278564453125, 1950.8807373046875, 2786.765380859375]], [0.9861838221549988, 0.7177159190177917]), ('69a1fa63b5ef242c6f358c2975e3ac35', [[617.0125732421875, 1001.3355712890625, 831.1436767578125, 1077.880859375]], [0.9946282505989075]), ('27124678eef95d8801ac23d9f5f1ad55', [[1257.5482177734375, 2313.860107421875, 1654.6566162109375, 2639.489013671875]], [0.9963393211364746]), ('bfe582366beebd7f8848bbf53d6304be_3', [], []), ('3832e7dac6c2fc6750c7ad7aadda9a95', [[1347.7410888671875, 2908.673583984375, 2149.701904296875, 3000.947265625], [1376.476806640625, 2587.397705078125, 1933.6201171875, 2699.5], [1331.98388671875, 2717.79052734375, 1807.275146484375, 2847.15966796875]], [0.9944049119949341, 0.9891216158866882, 0.9834121465682983]), ('aa18781ad618f6aae949142d51d13b21_2', [], []), ('75afebf5f040177e9b1e35d8119a04c3_2', [[1275.07275390625, 1195.483642578125, 1922.3607177734375, 1319.0982666015625]], [0.9965323209762573]), ('c1c43fe5d79a70bf949c05e5b8ed267d_1', [], []), ('1038a29f20f610df2e01b36f51bc9a31', [[596.3365478515625, 1139.7701416015625, 824.3504638671875, 1213.0504150390625]], [0.9950112104415894]), ('e17e418919f88f7155b85f2bf58e7975', [[1279.9913330078125, 2627.642333984375, 2174.42431640625, 2990.524169921875], [1287.1109619140625, 2700.49853515625, 2011.098876953125, 2877.719970703125]], [0.9661574363708496, 0.8932340145111084]), ('4b520da4e68716484a7374a42bf7e2a9_2', [[383.3507995605469, 1113.7060546875, 910.9593505859375, 1207.967529296875]], [0.9951205849647522]), ('ebfea1a0350207555bb9ce733d3ea7fd_3', [[1363.1185302734375, 1477.9647216796875, 2103.72900390625, 1627.955322265625], [299.9126892089844, 1894.7913818359375, 813.66796875, 2033.3858642578125], [312.4302978515625, 2168.335205078125, 833.09423828125, 2292.266357421875], [1379.41357421875, 1939.17626953125, 1856.607666015625, 2027.4442138671875]], [0.9937971830368042, 0.9860584139823914, 0.8263614177703857, 0.7761513590812683]), ('bcef979fdc530eba01f536f47878813f_1', [[628.5738525390625, 898.5528564453125, 876.3773193359375, 974.511962890625]], [0.9978057742118835]), ('ca2a234d58852de50b07a6a216370b6d_7', [[1684.022705078125, 2431.3544921875, 2335.7412109375, 2547.350830078125]], [0.9956933856010437]), ('bcef979fdc530eba01f536f47878813f_2', [[322.33001708984375, 879.5233154296875, 631.03955078125, 1239.391845703125], [332.61749267578125, 194.4678497314453, 647.150390625, 517.9351196289062]], [0.8729307651519775, 0.791262686252594]), ('6b816984ec5fbd0541836da977d4570d_3', [], []), ('4cb366eee206bc9f0b48c0c8d7cc94ae', [[1240.5521240234375, 2178.984619140625, 1634.275390625, 2345.297119140625]], [0.9979907274246216]), ('dc703955d59f63982f81892900824cc4_2', [], []), ('d0813ddce0c72c0fb0c33257903d518d_5', [], []), ('ad729ba5891d6199f01d12d59086bb86_1', [], []), ('741b84cb122cba80c73c8ef585f7d942_1', [], []), ('b76c113a590bac5583eb93912252fd4f_2', [[1104.89013671875, 703.3984375, 1700.4173583984375, 871.6375732421875]], [0.9972033500671387]), ('14cff1e5fc1ede8bd192912a74248498', [[845.2036743164062, 1639.156982421875, 1142.318359375, 1715.97119140625]], [0.9980049729347229]), ('8e20c5b100299349efd0339019392688_3', [], []), ('8b3f89e07f89af210e8fa6f13ab68b8d_2', [], []), ('eb74dd87d0a9b876ad10a764469e94f7_2', [[1199.1279296875, 529.7728271484375, 1910.71484375, 726.998046875]], [0.9971469044685364]), ('02148af935993f360f2d9c3ca3eb782a_8', [], []), ('9a95439e31a3a518a5553be861d99a7a_1', [[775.67529296875, 895.3291015625, 934.197998046875, 967.880615234375]], [0.9971731901168823]), ('c26466dc96f28a4ebd901799d53c60ab', [[386.0083923339844, 2392.67529296875, 1310.6844482421875, 2677.890380859375]], [0.9736031889915466]), ('440093428bfce70c0c2f83dbe121d28a', [[1096.058837890625, 1294.3546142578125, 1329.058349609375, 1363.489013671875]], [0.9957143664360046]), ('843f22d756fd68cfafc952fd7c2496d5_2', [], []), ('2597dd3149842ddc6435b7024c45fbb8_1', [], []), ('4ca8d0d55601876d3e7742c4db5df7a8', [[1152.5556640625, 1892.74609375, 1877.9267578125, 2092.91748046875]], [0.9953750967979431]), ('5b17ed3b970a83bcd89acdfed20c0c67', [[118.03292083740234, 2622.4365234375, 1217.8704833984375, 2810.071044921875]], [0.9895992279052734]), ('833992cc1bb0892538cf4ecea8fe9785_2', [], []), ('9ab54e46518a644986174cdceede443b', [[1301.2342529296875, 2111.300048828125, 2059.582763671875, 2408.318603515625]], [0.9982695579528809]), ('52a641fd852639daaa45556a3d7f3a55_6', [], []), ('2b39a63db00417e8838bcc6256e903a1_1', [], []), ('02701be3fc048a3b7e2ce7a4b2a05aad', [[607.552734375, 1069.218994140625, 807.3077392578125, 1143.173828125]], [0.9988296627998352]), ('859aa4c546d2b3e727cd96455e576c54', [[1262.059814453125, 1915.3057861328125, 1909.0474853515625, 2096.2783203125]], [0.9959706664085388]), ('e882a0ff6993d79e93822f7a50bcd137_2', [[1260.814208984375, 1711.1422119140625, 2234.512451171875, 1885.031982421875]], [0.9900698065757751]), ('64dfdeb472cdd0350b654eecab8f3e98', [[1698.0943603515625, 2797.38330078125, 1952.3079833984375, 3098.005615234375]], [0.9974856376647949]), ('3598b981fd75d09523dd049614fab8f1', [[657.0682373046875, 929.4097900390625, 932.9134521484375, 1020.0294189453125]], [0.9957132339477539]), ('2af4976206c338874b12fd33ec18aceb_8', [], []), ('f3d058f08f7612b07520701b5c7ec7e5_1', [[1354.3739013671875, 2254.81298828125, 1690.8719482421875, 2513.446533203125]], [0.9884191751480103]), ('70fb7730f6a6a9a7886d6258ae850abe_1', [[734.3369140625, 905.9078979492188, 906.1744995117188, 989.2465209960938]], [0.9986282587051392]), ('d99f3a9446d06d9f027e632f4b781f77_1', [], []), ('2870a573bd58f699613872199365625d_1', [[908.2578735351562, 1802.57373046875, 1572.9915771484375, 1942.83544921875]], [0.9851914644241333]), ('48b7ff5df20f9896f9102e2c98ef26f9', [[413.94482421875, 2383.10595703125, 1248.671630859375, 2626.1953125]], [0.9904857277870178]), ('f95151d46ab46fe856074feb728f4190', [[658.9078979492188, 1123.0390625, 879.57861328125, 1177.9652099609375]], [0.9967747330665588]), ('ec11520897b3697b7a99af00d64144f0_3', [], []), ('a9f685568aeeef0b2dc6322bccdfc3eb_3', [], []), ('47ad6d7c0e2e7b7a61a05000669bfbb8', [[1028.7423095703125, 1319.5709228515625, 1435.0496826171875, 1449.3123779296875], [527.4783325195312, 1325.74267578125, 825.2310180664062, 1461.376708984375]], [0.9974518418312073, 0.9969465136528015]), ('23da1f0aae50d9e2b044b599dcaea38e_2', [[510.0067138671875, 742.5808715820312, 774.9752197265625, 786.23828125]], [0.9894077777862549]), ('2af4976206c338874b12fd33ec18aceb_32', [], []), ('0d26d1e0574f8c36cf6091d04e84dfdb', [], []), ('6f52adbcded6525df92e699a0cbfb1f9', [[98.20889282226562, 1831.1943359375, 490.32086181640625, 2005.2559814453125], [1223.9481201171875, 1453.136962890625, 1373.8271484375, 1509.50634765625]], [0.9974955916404724, 0.9898713231086731]), ('a2d03463f8e34b2af50242d9dc122a47', [[853.4022216796875, 1357.5660400390625, 1404.6029052734375, 1496.33447265625]], [0.9969643950462341]), ('1b6d0840c3277fe4ac4215b5bc8aecfd', [[674.9849243164062, 824.5885620117188, 932.5806884765625, 903.1461181640625]], [0.9982215762138367]), ('e630893e4a9a2696bfa7f7c2ecdcee52', [[666.8953857421875, 1278.9854736328125, 1276.7064208984375, 1386.287109375]], [0.9977043271064758]), ('c1056529ee761ff7cbf513dc6cca6fd4_6', [], []), ('2901d78cd3470b6283bfdc8ccb41538a_6', [[1534.4522705078125, 1204.521484375, 2355.87060546875, 1330.1527099609375]], [0.9591795206069946]), ('794cb1934863cdcffa46755cc8a19c4e', [[873.4046630859375, 1525.13623046875, 1099.27685546875, 1677.7484130859375]], [0.9981817007064819]), ('0370ca51b827c0f72a8f6b6a83e4411a', [[342.05029296875, 1685.2757568359375, 626.1879272460938, 1750.1297607421875]], [0.9952911138534546]), ('05dbb8801643d58f9aa7c1d1de0ea6c2', [[1144.0810546875, 2669.581787109375, 1844.5703125, 2854.8291015625]], [0.9969789981842041]), ('dd1fb8dfe7627a21fd3b1db9f975f616', [[1500.8355712890625, 2050.723388671875, 2107.18017578125, 2158.69873046875]], [0.998501181602478]), ('bd017a684aa93257d7c79fedde4d24e7_3', [], []), ('70fb7730f6a6a9a7886d6258ae850abe_2', [], []), ('29ecd87fe6f74f21759b8776c79f8614', [[637.78076171875, 700.905517578125, 1023.915771484375, 800.2313232421875]], [0.9972814321517944]), ('093e2707ae252960934357cbf04569c3', [[637.9302368164062, 1862.64404296875, 1064.34912109375, 2046.321044921875]], [0.9971790313720703]), ('f12b9a1d92be06ce9357ae9a12a66e52_2', [[699.1307373046875, 496.1785888671875, 993.368408203125, 623.5231323242188]], [0.9960616230964661]), ('f6690637ad8d45c5a712cb3afb86b54c_3', [], []), ('489e5d546e50dbd33740065569f4e59c', [[1647.9478759765625, 1706.61328125, 2053.832275390625, 1845.0985107421875]], [0.9981029033660889]), ('0a948131fe85c38152c0b9b22f7c09fc_1', [], []), ('a10e148d1b37959b5551663847bfa0fe', [[279.96405029296875, 1658.0560302734375, 561.8609008789062, 1730.927001953125]], [0.935900092124939]), ('b92bc38b3add1765067113c29e585921', [[1453.6280517578125, 2632.9462890625, 2150.3837890625, 2932.100830078125]], [0.9924382567405701]), ('1722e3504190bd3560bb0f4b16aec6dc_1', [[569.65625, 1118.60400390625, 861.7847900390625, 1271.0966796875]], [0.9955220222473145]), ('3cf16ae1c4b21b53eba598ede578222a_1', [], []), ('e1c39b2cd75cbe3e140791382085cd6b_2', [], []), ('0148e4778e6d8b22a8980bf4fc89351b_30', [], []), ('fef37ea5a0c4dd7978a4a433fa3a31ce_2', [], []), ('0d338061a285cb5d573481a4662f401a', [[401.8328857421875, 2336.897705078125, 833.7623901367188, 2516.411376953125]], [0.9982049465179443]), ('5b2d9b4fe0607c1026393f5150d1f4fc', [[1174.3807373046875, 2202.74365234375, 1977.576416015625, 2410.938232421875]], [0.9942554831504822]), ('b7e828906496c359de4040f47f360358_2', [[401.969482421875, 1407.1875, 1042.33203125, 1565.377685546875]], [0.9978960752487183]), ('5b3e4de6da2a3165c4ee76b543f205ea_2', [[1194.10498046875, 1048.087646484375, 1772.2120361328125, 1225.4688720703125]], [0.9978935122489929]), ('ec05648467538a1ede83914c61413105_2', [[1123.1571044921875, 1915.7125244140625, 1964.9036865234375, 2212.583740234375]], [0.9970669150352478]), ('f63389d3dc870e6bb0286ea5453dc838', [[1016.0696411132812, 1355.135498046875, 1392.5047607421875, 1495.510986328125]], [0.9990187883377075]), ('52a0c51a16f05bf71b81b3ca9a436380', [[1142.4649658203125, 2066.52783203125, 2200.68994140625, 2375.2587890625], [1170.0609130859375, 2074.943359375, 2219.686279296875, 2224.24658203125]], [0.99445641040802, 0.911212146282196]), ('2a3b508ae7e65a09b65f6d5bde660a8f_2', [], []), ('c1056529ee761ff7cbf513dc6cca6fd4_8', [], []), ('d8bfc6ecdcdf89f1f800c4fa061ba0a8', [[716.3453369140625, 1693.6143798828125, 1012.7406616210938, 1795.48388671875]], [0.9962278604507446]), ('237ca768be1a45d14145934b6f08d615_1', [[820.113525390625, 860.8876953125, 951.38330078125, 923.257080078125]], [0.9973616003990173]), ('d3c7bb268afb3ba438b1ed56fa4f247a', [[1131.8121337890625, 1708.4208984375, 2146.02978515625, 1858.312744140625]], [0.9966993927955627]), ('d4dfbdddc3e02c1e4891773f0b26f73e', [[555.3857421875, 1133.3695068359375, 798.2964477539062, 1165.891357421875]], [0.9932832717895508]), ('f7744d49d65d3c116b4b343974be2f2a', [[635.984375, 995.1758422851562, 811.2294921875, 1048.0733642578125], [202.65225219726562, 1139.1138916015625, 465.6274108886719, 1213.5020751953125], [221.45823669433594, 1174.9443359375, 467.5025939941406, 1212.468505859375]], [0.9972867965698242, 0.9204666018486023, 0.8012723922729492]), ('b6c8c5afc4c2eed12844de9120f1806d_1', [], []), ('1bd2523b9656a823c86e768c3db75699_2', [[927.718994140625, 770.07421875, 1106.54736328125, 939.642822265625]], [0.9983716607093811]), ('0f6bc860c0dbac06933e2dbae943b850_4', [], []), ('c0b84f027df8a69add66559d915ad6f2_2', [[278.9699401855469, 1646.427978515625, 635.816650390625, 1799.1885986328125]], [0.9964562058448792]), ('c816e5457fc313c27bd38ebc1658b4b8_2', [], []), ('dc703955d59f63982f81892900824cc4_1', [[1645.7373046875, 1992.8388671875, 2174.70458984375, 2128.824462890625]], [0.9987530708312988]), ('7dbd05a83a7eb8a6ab319be91f212e04', [[1555.342041015625, 2081.474609375, 1778.426025390625, 2148.154541015625]], [0.977331817150116]), ('9fd6712003f8bace5a28d611af1b4a21', [[473.021240234375, 1893.5618896484375, 928.7612915039062, 2040.38818359375]], [0.9982357025146484]), ('51e2bcf8a78d836c45bd5d41e4555331', [[1296.4732666015625, 2452.658935546875, 1922.31640625, 2597.9375]], [0.9969078898429871]), ('a08f466893c15a617ed515685b7299de', [[902.4613647460938, 1464.265869140625, 1200.089111328125, 1525.9813232421875]], [0.9951706528663635]), ('89257a01e2ef49e126c0922ff2bbd958', [[650.1129150390625, 839.3643798828125, 940.6232299804688, 900.2747802734375]], [0.9977351427078247]), ('7921d3c75456cfe74d8d0a9d122d15b8', [[1596.9715576171875, 2138.239013671875, 2193.234375, 2302.46630859375]], [0.9966641068458557]), ('cb07b3779ee43a9bb7eecb322a6b4160_2', [[643.50244140625, 623.5565185546875, 926.8526611328125, 671.7244873046875]], [0.9906572103500366]), ('804e87517d92e7d017194af35fbda7e9', [[641.6983032226562, 971.332275390625, 869.2584228515625, 1047.9769287109375], [738.8602905273438, 1149.171875, 955.893310546875, 1244.277587890625], [742.8897705078125, 1219.150390625, 959.336181640625, 1309.5550537109375], [822.4356079101562, 1106.755126953125, 970.4620971679688, 1164.603759765625]], [0.9770660996437073, 0.9645168781280518, 0.9552099704742432, 0.8274096250534058]), ('0171cd73c7bdbf48ccfd0c21804f9ced_1', [], []), ('ad729ba5891d6199f01d12d59086bb86_2', [], []), ('c1056529ee761ff7cbf513dc6cca6fd4_9', [], []), ('78eefcec01514be9fb5f6cb89d5e3618', [[845.4871826171875, 1483.3612060546875, 1375.2779541015625, 1602.962158203125]], [0.9977274537086487]), ('ce457dce276f4915180fef71c775162e_3', [], []), ('833992cc1bb0892538cf4ecea8fe9785_3', [[682.3470458984375, 352.143798828125, 906.683837890625, 462.15283203125]], [0.9982296824455261]), ('f12b9a1d92be06ce9357ae9a12a66e52_1', [], []), ('f2b2ec91a9c04abdf0912d7c53e25375_2', [[1501.6348876953125, 656.6468505859375, 1867.292236328125, 799.37890625]], [0.9971731901168823]), ('5a6c034929ab5dd708076326ad206261_2', [[1040.4232177734375, 1175.611328125, 1367.8963623046875, 1357.3355712890625]], [0.8617157340049744]), ('27e71907349fdcdbe194d7ee170ee3e8', [[762.9081420898438, 1451.329833984375, 1103.29345703125, 1564.7310791015625]], [0.9983978867530823]), ('47fa53ffb251404ebbce4613e029cdb4', [[1582.0849609375, 1583.9688720703125, 2047.1302490234375, 1724.35693359375]], [0.9988489151000977]), ('461c0b428363ba6f0bb5a3a425b31b09_1', [], []), ('d7fe5038153863f1991c31af2e4f901a_4', [], []), ('81e513afffd3423a3e34efd26928a11e_2', [[390.9337158203125, 2442.451416015625, 1042.86083984375, 2562.26171875], [1441.3138427734375, 2492.45703125, 1913.9700927734375, 2612.548583984375], [1243.4049072265625, 2783.91748046875, 1995.060302734375, 3011.109619140625], [1208.6968994140625, 2645.87841796875, 2103.79833984375, 2798.448486328125]], [0.9974275231361389, 0.9958755373954773, 0.9958094358444214, 0.7908592224121094]), ('e1d6a3b9926c31029b5d6a0360fef076', [[657.7457275390625, 803.6900024414062, 949.7799682617188, 880.830322265625]], [0.9968679547309875]), ('d7fe5038153863f1991c31af2e4f901a_1', [], []), ('48f44aba421433a2856ffb1dcdaa3d2d', [[308.55621337890625, 2611.64794921875, 911.917236328125, 2727.291015625], [1795.8887939453125, 2630.83349609375, 2136.245361328125, 2706.607177734375]], [0.995923638343811, 0.9934343099594116]), ('7679ff1c8fc5239a90e06d16b03d36a8_2', [], []), ('ab13cc8cb31ec459a4a6601fbba46b38', [[383.78826904296875, 2780.105224609375, 881.9103393554688, 2910.96533203125]], [0.9974976181983948]), ('4106cb065758ce92428b34f0d15e4848_9', [], []), ('8e20c5b100299349efd0339019392688_6', [[704.5607299804688, 983.8009033203125, 781.700927734375, 1088.3319091796875]], [0.9891514778137207]), ('6f1bfb07d872d00e366d5bfaf05ed685', [[682.3156127929688, 1033.218994140625, 918.8391723632812, 1141.07958984375]], [0.9967316389083862]), ('32b1fc5cbe73d5465ef6782e14cb8d1c', [[1177.1763916015625, 1830.931884765625, 1758.5228271484375, 2073.67041015625]], [0.9953299760818481]), ('ca2a234d58852de50b07a6a216370b6d_1', [], []), ('23da1f0aae50d9e2b044b599dcaea38e_1', [], []), ('c98a06bc768ed92afea8be4a67c26911_1', [], []), ('7679ff1c8fc5239a90e06d16b03d36a8_1', [], []), ('3856c8ff3e6f2dde76add95de3d0ca07_2', [[364.83013916015625, 1669.3214111328125, 741.2899169921875, 1757.030029296875], [862.539794921875, 1177.732177734375, 1155.176513671875, 1278.05859375], [488.6624755859375, 1756.182373046875, 647.7698364257812, 1817.2825927734375]], [0.9875327944755554, 0.978477954864502, 0.900159478187561]), ('4b803581168aa9bf50d55d57f6e1eec7', [[1338.8509521484375, 2002.4847412109375, 1983.5281982421875, 2144.79345703125]], [0.9954133629798889]), ('ac6537f96fb80636cb53b7cd622f5bc8_2', [[283.5524597167969, 2126.501220703125, 641.5055541992188, 2238.144775390625]], [0.9907025098800659]), ('52a641fd852639daaa45556a3d7f3a55_1', [[770.6199951171875, 421.46600341796875, 967.4415283203125, 456.77166748046875]], [0.8367068767547607]), ('8f17b3f63cde2381e558d22498fbd0b9', [[696.3380737304688, 1026.8997802734375, 882.52880859375, 1090.01171875]], [0.9985948204994202]), ('02148af935993f360f2d9c3ca3eb782a_10', [], []), ('ec11520897b3697b7a99af00d64144f0_6', [[101.16825866699219, 1184.860595703125, 216.87245178222656, 1349.99853515625]], [0.7079523205757141]), ('0c45e17531f95abb9a4eccc2a8caa7ad', [[980.8201293945312, 1826.8658447265625, 1463.76416015625, 1970.51708984375]], [0.9983834028244019]), ('8d23666b8cdbb6f8bd189205f009e040_1', [[887.6969604492188, 1406.231201171875, 1325.310302734375, 1554.2088623046875]], [0.9957613348960876]), ('4e8fb4e8b8d83fcd5f32a1c912baccae', [[512.4085693359375, 1083.448486328125, 708.021240234375, 1186.3465576171875]], [0.9985339641571045]), ('90e16a31a300a84ae0af957c3a3acb9d_2', [], []), ('f3fe4d4707c050b65948569ce11c30e4_2', [[872.9002685546875, 446.38946533203125, 1407.6466064453125, 561.21875], [536.1597900390625, 598.217529296875, 954.9801635742188, 765.2435302734375]], [0.9920766353607178, 0.9603003859519958]), ('f1291ecf84e7796f4d66e8649d2ea187', [[671.9254150390625, 809.9302368164062, 904.5537109375, 878.7218627929688]], [0.9986405968666077]), ('ce1fd803ed1d255701bbbae6c9f115e7', [[276.44061279296875, 2269.277099609375, 880.5439453125, 2344.976318359375]], [0.9961393475532532]), ('74bdd082397abc428326f0b5d20e4391', [[1336.6038818359375, 2441.70166015625, 1864.29052734375, 2547.3330078125]], [0.998377799987793]), ('3c4f19a076a741814ea1d21abe8c9fd0_1', [], []), ('1b5b26eea70d2bed49b6a17d456e5662', [[1348.153564453125, 2233.204833984375, 1604.3804931640625, 2468.005615234375]], [0.9962169528007507]), ('b9057662f672b5a6d231d9c7efc6838d_2', [[805.295166015625, 1088.9337158203125, 1669.148681640625, 1326.1600341796875]], [0.9977446794509888]), ('ba477bfe81ebbb1b720413a2528d7ef3', [[876.2257080078125, 1223.9573974609375, 1184.513671875, 1350.2425537109375]], [0.9977430105209351]), ('d5aecd463abb8e65851bd7c5cde7aced', [[133.65304565429688, 1079.9136962890625, 540.315185546875, 1153.218505859375], [163.86703491210938, 1229.0909423828125, 467.6977844238281, 1271.9530029296875], [752.6336059570312, 1093.5958251953125, 901.6785278320312, 1139.8131103515625], [176.46900939941406, 1158.3360595703125, 529.1293334960938, 1207.5118408203125], [733.642578125, 1173.7509765625, 880.2503662109375, 1202.6387939453125]], [0.9936350584030151, 0.9907501339912415, 0.9889113903045654, 0.9856274127960205, 0.948050856590271]), ('7f19a1ea9dbcdf99a9c78a7fb65d3c9b', [[723.28076171875, 898.5155639648438, 916.3895263671875, 990.3087158203125]], [0.9963979721069336]), ('3cf16ae1c4b21b53eba598ede578222a_11', [], []), ('6a87460e604881ea8637af297e1203cb', [[1155.1480712890625, 2617.562744140625, 2080.9970703125, 2822.443603515625], [559.4492797851562, 2689.056884765625, 991.4356079101562, 2897.509765625]], [0.9965395927429199, 0.9954283237457275]), ('941300c64e74b28a0f8e6279da75fdbf', [[894.9532470703125, 1336.87939453125, 1378.341064453125, 1496.3258056640625]], [0.9969251751899719]), ('b6f9fe8b3211985645495963af5fbb92', [[1505.4459228515625, 1500.291015625, 2172.890380859375, 1713.6610107421875]], [0.9966375827789307]), ('aa18781ad618f6aae949142d51d13b21_3', [[608.634521484375, 970.5650024414062, 806.275390625, 1042.2822265625]], [0.9951565265655518]), ('1d474b0d56e538e158a3f42bf7bc1014_3', [], []), ('1d2e8136a4a96db48b8916bc2726d474_1', [], []), ('44212463201dbdfe0443f6ea8f229189', [[945.8366088867188, 790.007568359375, 1106.5792236328125, 872.5848388671875], [587.3033447265625, 997.5166015625, 894.0899658203125, 1096.1124267578125]], [0.9983640313148499, 0.9964739680290222]), ('bcef979fdc530eba01f536f47878813f', [[628.5738525390625, 898.5528564453125, 876.3773193359375, 974.511962890625]], [0.9978057742118835]), ('ac15e4343f32abf47d5d561409555d11_1', [[799.6419067382812, 893.8489990234375, 974.4583740234375, 964.5247802734375]], [0.9979100823402405]), ('cf250e5f053cd65aa930c7d76f264d11_1', [], []), ('1694540ff9371090fed21cf56ac9dba3', [[1239.028076171875, 2520.95703125, 2166.426513671875, 2884.358642578125], [1262.9798583984375, 2564.80517578125, 2035.9908447265625, 2739.115478515625]], [0.9905170798301697, 0.7150110602378845]), ('0148e4778e6d8b22a8980bf4fc89351b_37', [], []), ('b377779e936157605e7665ec64cad21b', [[1211.230224609375, 2648.844970703125, 2099.771240234375, 2926.22509765625]], [0.9950190782546997]), ('e26fb0dbdcb3c4a04df9746f97ef308d_1', [], []), ('c98a06bc768ed92afea8be4a67c26911_2', [[634.8621215820312, 758.4000244140625, 847.9872436523438, 808.3779296875]], [0.9978547692298889]), ('1f059116c976aadaef2d8320823f99a9', [[424.56329345703125, 2112.278564453125, 1282.134765625, 2343.99267578125]], [0.9974269270896912]), ('f35ea13820cfa86807f6e7727e2e67c4', [[662.946044921875, 1135.39208984375, 916.5714111328125, 1202.08935546875], [469.9184875488281, 135.68048095703125, 627.140625, 221.185302734375]], [0.996091902256012, 0.7765602469444275]), ('3cff137fe2399ad68700b30e486ca355', [[1273.0924072265625, 2629.309326171875, 2185.322265625, 2949.9453125]], [0.99212247133255]), ('88f8451bfa4febd530d8c8e61176953d', [[1118.4739990234375, 1973.986083984375, 1825.0750732421875, 2144.7451171875]], [0.9960649609565735]), ('8a788308be95f04c3ad32380429a6f29_1', [], []), ('157324df63935e01ba0a9550ab8cf172', [[820.2968139648438, 1418.1907958984375, 1570.00537109375, 1606.3516845703125]], [0.9946322441101074]), ('8c25cad2042e3f54dfe8ac6733059dca_1', [[194.37835693359375, 1367.2196044921875, 628.0264892578125, 1446.227294921875]], [0.9973256587982178]), ('7db8eca4d3da52ed2e0d9e60adbd72d6_2', [], []), ('ec702e8e33699b1d6c9ef834278ac61f', [[405.72344970703125, 2206.21533203125, 808.3601684570312, 2378.185302734375]], [0.9967365860939026]), ('2c03d984595488ef1847727694342441_1', [[491.5844421386719, 719.4818115234375, 834.1030883789062, 803.9243774414062]], [0.9965127110481262]), ('2dd410971086c44aa79a0fbf4dc12949', [[1658.5653076171875, 2291.1298828125, 2193.514892578125, 2477.900634765625]], [0.9966177344322205]), ('35cabb4a166bfca8b4a49f8d5bbf74f2_1', [], []), ('52a641fd852639daaa45556a3d7f3a55_2', [[642.4151000976562, 512.2958374023438, 908.6478881835938, 592.8309326171875]], [0.9984275102615356]), ('7dba34a0581638791ac2007fd8ee25e9', [[1667.6229248046875, 2474.1689453125, 1937.6795654296875, 2864.390380859375]], [0.9965168237686157]), ('b9057662f672b5a6d231d9c7efc6838d_1', [], []), ('237ca768be1a45d14145934b6f08d615_2', [], []), ('0f5bb627fa045d97551937ab506e8ab0_1', [], []), ('d21ccfd2667fd9ca221254512900ac17_1', [], []), ('eec4d154cd1528b94b523b0798197301', [[945.970458984375, 1390.546875, 1320.4061279296875, 1563.371826171875]], [0.997648298740387]), ('ef7bc405f9fafb69773bb9739c6c126a', [[1553.3748779296875, 2289.39697265625, 1961.3885498046875, 2586.833984375]], [0.9976847171783447]), ('363160d94b589e99b560c79c478513d6_1', [], []), ('afcfb90e729e30b3dc7b09353200dac3', [[773.6474609375, 1835.3734130859375, 1465.4951171875, 2012.6390380859375]], [0.9969050288200378]), ('847e91fdb5d5363913b2866bd084b58e_1', [], []), ('2af4976206c338874b12fd33ec18aceb_4', [], []), ('f17681f73a22293d830e7c2a9e0ab10d_2', [], []), ('c9d2121423c6174c4d3eaebb778aa74e', [], []), ('0533a1e934bd69947b247d0e858d854f_4', [], []), ('0f6bc860c0dbac06933e2dbae943b850_2', [], []), ('c29f7d2b95144642cea08a4f4455efe9_2', [[830.8724975585938, 2665.05615234375, 1084.132080078125, 2755.30810546875], [906.1672973632812, 2112.791015625, 1115.011474609375, 2176.78564453125]], [0.9960445165634155, 0.7309378981590271]), ('ac15e4343f32abf47d5d561409555d11_2', [], []), ('5740f241edc8a888a1004e236332ecbe_4', [], []), ('27ba63d3058002be6240905d0ce0a433_1', [[444.82598876953125, 874.866455078125, 772.22119140625, 989.6478271484375]], [0.9864063858985901]), ('c29f7d2b95144642cea08a4f4455efe9_6', [[679.4848022460938, 1326.9239501953125, 1408.2760009765625, 1569.21435546875]], [0.9260087609291077]), ('e890afa2c7d093b261733e0724b009a9', [[626.2771606445312, 1024.05078125, 935.9112548828125, 1132.2396240234375], [1007.0895385742188, 994.74951171875, 1470.4027099609375, 1130.56689453125]], [0.9985105395317078, 0.9973624348640442]), ('0148e4778e6d8b22a8980bf4fc89351b_12', [[617.68505859375, 771.010498046875, 971.3961181640625, 848.6893310546875]], [0.9348477721214294]), ('ada41d64f7082d721ee96cce69dd49ee', [[598.869384765625, 957.77783203125, 889.6400146484375, 1068.239013671875]], [0.994417667388916]), ('47ec118d10165fa499d2a65f7fe49759', [[695.875244140625, 906.8780517578125, 1015.027099609375, 967.3939208984375]], [0.9981763362884521]), ('f8f36df9b645fa97e0f0ea027195ffc2', [[766.9838256835938, 1210.935791015625, 1282.4517822265625, 1328.1544189453125]], [0.9977285265922546]), ('aec7b8c45a0cae6856d6975b94923e38', [[1154.8055419921875, 1944.409423828125, 1801.1888427734375, 2099.3291015625]], [0.8475630879402161]), ('4106cb065758ce92428b34f0d15e4848_14', [[463.206298828125, 1324.284423828125, 673.4774169921875, 1376.504638671875]], [0.9715147018432617]), ('2b0434d33f4945873c377eb89be0bc8b', [[1197.5302734375, 2424.11328125, 1965.0750732421875, 2550.44140625]], [0.9981800317764282]), ('818b067a4a47b56127d27d86d15203fa', [[1226.5386962890625, 2449.053466796875, 2116.234375, 2794.220458984375]], [0.9970775842666626]), ('8b2e30ff3b7c51c0781bf3e2b4078927_2', [[926.7749633789062, 550.5403442382812, 1145.2159423828125, 711.871826171875]], [0.9982200264930725]), ('96c9d24f6ccf0899d15c882e062ffc83_3', [], []), ('84b7d9d91b5e4f982b8473eaafdb5eda_2', [[1245.392333984375, 1923.8846435546875, 1574.5177001953125, 2241.354248046875]], [0.9966811537742615]), ('834116f765417fb3895d098d6d2ecefb_2', [[1311.1171875, 1164.239501953125, 1870.674072265625, 1284.7978515625], [391.0954284667969, 1875.8515625, 892.7869262695312, 1977.06884765625]], [0.9968580007553101, 0.9934080839157104]), ('4106cb065758ce92428b34f0d15e4848_5', [], []), ('0533a1e934bd69947b247d0e858d854f_5', [], []), ('61e70745b0e5c4134680f2161dbb0897', [[619.4872436523438, 811.47119140625, 858.3565673828125, 886.8388671875]], [0.9933939576148987]), ('5d1c5c93b464ed97c9508befa50e866e_3', [], []), ('52f798c11646c0aa79900612cb43433f_2', [], []), ('0a618bf88fda631953bf0707455e8178', [[1016.5648193359375, 1710.193603515625, 1615.966064453125, 1899.95263671875]], [0.9966565370559692]), ('9a9a3db409b4af6fdf6b677aeedab11f_2', [], []), ('5ba8ea1745e03ae9d5324288f2716a2d_1', [], []), ('aa18781ad618f6aae949142d51d13b21_1', [], []), ('083333af6122d35b285b062d52144332', [[998.0427856445312, 1200.21533203125, 1411.8927001953125, 1301.3109130859375], [569.2154541015625, 1231.3665771484375, 865.6885375976562, 1350.207763671875]], [0.9983952641487122, 0.997602641582489]), ('c969c61c59929b2fc98596b37ef31774', [[1790.599365234375, 2462.203857421875, 2380.869384765625, 2555.036865234375], [1763.88916015625, 2260.95166015625, 2368.77001953125, 2388.6494140625], [1719.6888427734375, 1883.8055419921875, 2222.578125, 1970.82958984375], [1745.655029296875, 1882.7794189453125, 2043.521484375, 1953.4415283203125]], [0.9958325028419495, 0.991260826587677, 0.9593900442123413, 0.7721692323684692]), ('e8071e6fd6cf1b9cfd1d8bdd8328a7e9', [[1491.360107421875, 2271.82958984375, 1933.2589111328125, 2379.037109375], [1733.4107666015625, 2421.807373046875, 2318.1005859375, 2575.176513671875], [648.27001953125, 2113.3857421875, 1380.47412109375, 2289.8203125], [1083.8206787109375, 1708.5457763671875, 1284.677490234375, 1824.2711181640625]], [0.9963674545288086, 0.9962525367736816, 0.9831799268722534, 0.9046432971954346]), ('aa18781ad618f6aae949142d51d13b21_4', [], []), ('29f97d3de882b51f75cec87b7f81726b_2', [], []), ('43e00eab8fa5985f64dc91995dd33bfe', [[971.0452270507812, 1807.398681640625, 1452.22998046875, 1956.8948974609375]], [0.9991912245750427]), ('be3ac3513667c46886e2cf27ddedbe36_2', [], []), ('8a9c9db19d634e3370703aa85d7fbd0c', [[1390.359375, 2073.27392578125, 2149.732177734375, 2215.590576171875]], [0.9943693280220032]), ('ad729ba5891d6199f01d12d59086bb86_3', [], []), ('ecd45d72b2f887f7abfe06223ae1f6e2', [[1097.3443603515625, 1068.8717041015625, 1472.4669189453125, 1131.0743408203125], [1255.5791015625, 1072.76708984375, 1454.835205078125, 1125.3353271484375]], [0.9941505789756775, 0.9070271849632263]), ('051781786f9fb429f4cc6508ac8e0676_3', [[1453.69677734375, 2318.806396484375, 1855.2874755859375, 2436.60107421875]], [0.9968069791793823]), ('2448aa6c9efc2d3e82ce83f2f5b13168', [[440.7651672363281, 2552.320556640625, 1047.5616455078125, 2679.6708984375]], [0.997663140296936]), ('c6eac7dcac43ab7535ceb587ff65cd3b_2', [], []), ('c29f7d2b95144642cea08a4f4455efe9_3', [], []), ('7219ab660be47b31ea259f2607b48850', [[1521.9730224609375, 2505.30517578125, 1828.4019775390625, 2638.640625]], [0.9944441914558411]), ('5009b204206a782e86348f66217b0943', [[1164.1219482421875, 2271.067138671875, 1872.6412353515625, 2445.474609375]], [0.9935343265533447]), ('abfb6f72a5fa597faf5504a01e5e3d79_5', [], []), ('081a5d93952b57ecde40bc02b8b70e67_2', [[1446.93212890625, 1372.555908203125, 2141.306640625, 1507.0584716796875]], [0.9945683479309082]), ('0148e4778e6d8b22a8980bf4fc89351b_25', [], []), ('6103ce8203bae073bc7fbe4d839442e6', [[1137.4521484375, 2529.86279296875, 1909.410400390625, 2733.0830078125]], [0.9968751668930054]), ('2901d78cd3470b6283bfdc8ccb41538a_10', [[1431.4373779296875, 658.7406005859375, 2457.32080078125, 799.9122314453125]], [0.901648759841919]), ('fd40cbeac18b5764fbd2f8d1d52e5640', [[1253.8626708984375, 2463.919921875, 1799.51123046875, 2632.625]], [0.9982132911682129])]\n"
          ]
        }
      ]
    },
    {
      "cell_type": "code",
      "metadata": {
        "id": "Rc2VV1WNJXOO"
      },
      "source": [
        "for item in res:\n",
        "  print(item['instances'].scores.cpu().numpy().tolist())\n"
      ],
      "execution_count": null,
      "outputs": []
    },
    {
      "cell_type": "code",
      "metadata": {
        "id": "si4x9WHCB4It"
      },
      "source": [
        "res_with_bbox_submit = []\n",
        "for item in res_with_bbox:\n",
        "  #print(item[1])\n",
        "  if len(item[1]) == 0:\n",
        "    res_with_bbox_submit.append((item[0], 0,0,0,0, 0))\n",
        "  for i,bbox in enumerate(item[1]):\n",
        "    res_with_bbox_submit.append((item[0], bbox[0], bbox[1], bbox[2], bbox[3], item[2][i]))\n",
        "\n",
        "res_with_bbox_submit"
      ],
      "execution_count": null,
      "outputs": []
    },
    {
      "cell_type": "code",
      "metadata": {
        "id": "Mue_S6gBK4TB"
      },
      "source": [
        "pandas.DataFrame(columns=['id','xmin','ymin','xmax','ymax','confidence'], data=res_with_bbox_submit).to_csv('with_bbox.csv',index=False)"
      ],
      "execution_count": 135,
      "outputs": []
    },
    {
      "cell_type": "code",
      "metadata": {
        "colab": {
          "base_uri": "https://localhost:8080/",
          "height": 264
        },
        "id": "NHrwz6aMY8Oj",
        "outputId": "e1461a74-542e-4b64-9881-6ea1a3b96c21"
      },
      "source": [
        "# !zip -r /content/output.zip /content/output\n",
        "# from google.colab import files\n",
        "# files.download(\"/content/output.zip\")"
      ],
      "execution_count": null,
      "outputs": [
        {
          "output_type": "stream",
          "name": "stdout",
          "text": [
            "updating: content/output/ (stored 0%)\n",
            "updating: content/output/model_final.pth (deflated 6%)\n",
            "updating: content/output/events.out.tfevents.1634835188.47d788f6b0a9.78.4 (deflated 72%)\n",
            "updating: content/output/events.out.tfevents.1634828993.47d788f6b0a9.78.0 (deflated 69%)\n",
            "updating: content/output/my_dataset_test_coco_format.json.lock (stored 0%)\n",
            "updating: content/output/last_checkpoint (stored 0%)\n",
            "updating: content/output/events.out.tfevents.1634830632.47d788f6b0a9.78.1 (deflated 5%)\n",
            "updating: content/output/events.out.tfevents.1634830732.47d788f6b0a9.78.2 (deflated 43%)\n",
            "updating: content/output/instances_predictions.pth (deflated 57%)\n",
            "updating: content/output/coco_instances_results.json (deflated 69%)\n",
            "updating: content/output/metrics.json (deflated 79%)\n",
            "updating: content/output/events.out.tfevents.1634831801.47d788f6b0a9.78.3 (deflated 70%)\n"
          ]
        },
        {
          "output_type": "display_data",
          "data": {
            "application/javascript": [
              "\n",
              "    async function download(id, filename, size) {\n",
              "      if (!google.colab.kernel.accessAllowed) {\n",
              "        return;\n",
              "      }\n",
              "      const div = document.createElement('div');\n",
              "      const label = document.createElement('label');\n",
              "      label.textContent = `Downloading \"${filename}\": `;\n",
              "      div.appendChild(label);\n",
              "      const progress = document.createElement('progress');\n",
              "      progress.max = size;\n",
              "      div.appendChild(progress);\n",
              "      document.body.appendChild(div);\n",
              "\n",
              "      const buffers = [];\n",
              "      let downloaded = 0;\n",
              "\n",
              "      const channel = await google.colab.kernel.comms.open(id);\n",
              "      // Send a message to notify the kernel that we're ready.\n",
              "      channel.send({})\n",
              "\n",
              "      for await (const message of channel.messages) {\n",
              "        // Send a message to notify the kernel that we're ready.\n",
              "        channel.send({})\n",
              "        if (message.buffers) {\n",
              "          for (const buffer of message.buffers) {\n",
              "            buffers.push(buffer);\n",
              "            downloaded += buffer.byteLength;\n",
              "            progress.value = downloaded;\n",
              "          }\n",
              "        }\n",
              "      }\n",
              "      const blob = new Blob(buffers, {type: 'application/binary'});\n",
              "      const a = document.createElement('a');\n",
              "      a.href = window.URL.createObjectURL(blob);\n",
              "      a.download = filename;\n",
              "      div.appendChild(a);\n",
              "      a.click();\n",
              "      div.remove();\n",
              "    }\n",
              "  "
            ],
            "text/plain": [
              "<IPython.core.display.Javascript object>"
            ]
          },
          "metadata": {}
        },
        {
          "output_type": "display_data",
          "data": {
            "application/javascript": [
              "download(\"download_e0d7e178-cb5c-4626-94be-4d96dbb67f0e\", \"output.zip\", 782811000)"
            ],
            "text/plain": [
              "<IPython.core.display.Javascript object>"
            ]
          },
          "metadata": {}
        }
      ]
    }
  ]
}